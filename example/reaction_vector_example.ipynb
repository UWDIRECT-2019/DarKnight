{
 "cells": [
  {
   "cell_type": "markdown",
   "metadata": {},
   "source": [
    "# Initialization"
   ]
  },
  {
   "cell_type": "code",
   "execution_count": 6,
   "metadata": {},
   "outputs": [
    {
     "name": "stderr",
     "output_type": "stream",
     "text": [
      "UsageError: Line magic function `%%matplotlib` not found.\n"
     ]
    }
   ],
   "source": [
    "import math\n",
    "\n",
    "import numpy as np\n",
    "import pandas as pd\n",
    "import matplotlib.pyplot as plt\n",
    "import darkchem\n",
    "\n",
    "from sklearn.model_selection import train_test_split\n",
    "from sklearn.metrics import mean_squared_error\n",
    "from sklearn.preprocessing import StandardScaler\n",
    "from sklearn.linear_model import LinearRegression\n",
    "\n",
    "%%matplotlib inline"
   ]
  },
  {
   "cell_type": "markdown",
   "metadata": {},
   "source": [
    "# Chemical Reactions"
   ]
  },
  {
   "cell_type": "markdown",
   "metadata": {},
   "source": [
    "## Goal\n",
    "\n",
    "Our goal is to **determine how chemical reactions can be encoded in DarkChem's latent space**. In order to do this, we have selected a few simple chemical reactions, investigated how some test reactants and products are separately encoded in the latent space, and compare the difference vector (i.e. \"reaction vector\") across each reaction in order to determine whether a generalized reaction model exists.\n",
    "\n",
    "Mathematically speaking, we can represent our process in the latent space as:\n",
    "\n",
    "$\\Big( \\overrightarrow{product_{1}} - \\overrightarrow{reactant_{1}} \\Big) = \\overrightarrow{reaction} \\stackrel{?}{=} \\Big( \\overrightarrow{product_{2}} - \\overrightarrow{reactant_{2}} \\Big)$\n",
    "\n",
    "Note that generally, reaction stoichiometry was ignored for initial exploration purposes."
   ]
  },
  {
   "cell_type": "markdown",
   "metadata": {},
   "source": [
    "## Enolate Alkylation (CC Bond Formation)\n",
    "\n",
    "Alkylation (in this case, methylation) was explored through the following reactions.\n",
    "\n",
    "1. $CH_{3}C(O)CH_{3} + OH^{-} + CH_{3}Br \\rightarrow CH_{3}C(O)CH_{2}CH_{3} + H_{2}O + Br^{-}$\n",
    "2. Cyclohexanone $\\rightarrow$ 2-methylcyclohexanone\n",
    "3. 2-Methylcyclopentanone $\\rightarrow$ 2,2-dimethylcyclopentanone\n",
    "4. 2-Methylcyclopentanone $\\rightarrow$ 2,5-dimethylcyclopentanone\n",
    "\n",
    "Note that (4) is the kinetic product more readily accessed from the same starting material."
   ]
  },
  {
   "cell_type": "code",
   "execution_count": 1,
   "metadata": {},
   "outputs": [],
   "source": [
    "# Canonical SMILES strings accessed from OpenBabel\n",
    "smilescc = {'reactants': ['CC(=O)C', 'O=C1CCCCC1', 'O=C1CCCC1C', 'O=C1CCCC1C'], \n",
    "             'products': ['CCC(=O)C', 'CC1CCCCC1=O', 'CC1CCC(C1=O)C', 'O=C1CCCC1(C)C']}"
   ]
  },
  {
   "cell_type": "code",
   "execution_count": 4,
   "metadata": {},
   "outputs": [],
   "source": [
    "# Conversion to DarkChem latent space vectors\n",
    "smilescc['rvec'] = [darkchem.utils.struct2vec(reactant).astype(np.int16) for reactant in smilescc['reactants']]\n",
    "smilescc['pvec'] = [darkchem.utils.struct2vec(product).astype(np.int16) for product in smilescc['products']]\n",
    "smilescc['rxnvector'] = [smilescc['pvec'][i] - smilescc['rvec'][i] for i in range(len(smilescc))]"
   ]
  },
  {
   "cell_type": "markdown",
   "metadata": {},
   "source": [
    "As a metric of how similar the reaction vectors are to one another for the same type of reaction, **Pearson correlation coefficients** were calculated between each of the reaction vectors.  Pearson correlation coefficients are a measure of linear correlation between two variables and are a quick way to assess whether the reaction vectors are similar (at least in terms of their directional interpretation."
   ]
  },
  {
   "cell_type": "code",
   "execution_count": 5,
   "metadata": {},
   "outputs": [
    {
     "data": {
      "text/plain": [
       "array([[ 1.        , -0.00168265,  0.06415584, -0.01032847],\n",
       "       [-0.00168265,  1.        ,  0.71701091,  0.34875671],\n",
       "       [ 0.06415584,  0.71701091,  1.        ,  0.78291073],\n",
       "       [-0.01032847,  0.34875671,  0.78291073,  1.        ]])"
      ]
     },
     "execution_count": 5,
     "metadata": {},
     "output_type": "execute_result"
    }
   ],
   "source": [
    "# Calculation of Pearson correlation coefficients between the different reaction vectors\n",
    "np.corrcoef(smilescc['rxnvector'])"
   ]
  },
  {
   "cell_type": "code",
   "execution_count": null,
   "metadata": {},
   "outputs": [],
   "source": [
    "# Conversion to dataframe\n",
    "#smilesdf = pd.DataFrame(smiles)\n",
    "#smilesdf.head()"
   ]
  },
  {
   "cell_type": "markdown",
   "metadata": {},
   "source": [
    "**Conclusions:**\n",
    "\n",
    "* The correlation coefficients between the reaction vectors ranges widely.\n",
    "* This is a complex reaction type involving several reagents not accounted for, perhaps explaining the lack of correlation."
   ]
  },
  {
   "cell_type": "markdown",
   "metadata": {},
   "source": [
    "## Activation of Benzene\n",
    "\n",
    "Ring substitution reactions were explored on benzene with the following:\n",
    "\n",
    "1. $C_{6}H_{6} + TMEDA +  nBuLi + SO_{2} \\rightarrow C_{6}H_{5}S(O)OH$\n",
    "2. $C_{6}H_{6} + cat. \\rightarrow C_{6}H_{5}NO_{2}$\n",
    "3. $C_{6}H_{6} + H_{2} + cat. \\rightarrow C_{6}H_{12}$\n",
    "4. Benzene $\\rightarrow$ Acetophenone"
   ]
  },
  {
   "cell_type": "code",
   "execution_count": 9,
   "metadata": {},
   "outputs": [],
   "source": [
    "# Load reactants\n",
    "smi_in_b = {'reactants': ['c1ccccc1','c1ccccc1','c1ccccc1','c1ccccc1']}\n",
    "# Load products  \n",
    "smi_out_b = {'products':['OS(c1ccccc1)(O)O','ON(c1ccccc1)O','Cc1ccccc1','CC(=O)c1ccccc1']}  \n",
    "# Transform to DataFrame\n",
    "smi_in_b = pd.DataFrame(smi_in_b)  \n",
    "smi_out_b = pd.DataFrame(smi_out_b)\n",
    "# Represent reactants in the form of vector\n",
    "rct_b = [darkchem.utils.struct2vec(smi) for smi in smi_in_b['reactants']]  \n",
    "# Represent prodcuts in the form of vector\n",
    "prod_b = [darkchem.utils.struct2vec(smi) for smi in smi_out_b['products']] "
   ]
  },
  {
   "cell_type": "code",
   "execution_count": 10,
   "metadata": {},
   "outputs": [],
   "source": [
    "# Put those vectors into DataFrame\n",
    "rct_b = pd.DataFrame(rct_b)\n",
    "prod_b = pd.DataFrame(prod_b)"
   ]
  },
  {
   "cell_type": "code",
   "execution_count": 11,
   "metadata": {},
   "outputs": [
    {
     "name": "stdout",
     "output_type": "stream",
     "text": [
      "The length of each reaction path = [52.706735812417755, 65.43699259593154, 67.72739475278819, 76.8830280361017]\n"
     ]
    }
   ],
   "source": [
    "# Calculate the lengh of each reaction path\n",
    "s = 0\n",
    "d = []\n",
    "for i in range(4):\n",
    "    for j in range(100):\n",
    "        s += (rct_b.loc[i][j] - prod_b.loc[i][j])**2\n",
    "    ds = np.sqrt(s)\n",
    "    d.append(ds)\n",
    "print('The length of each reaction path =', d)"
   ]
  },
  {
   "cell_type": "code",
   "execution_count": 13,
   "metadata": {},
   "outputs": [],
   "source": [
    "# Calculate the dot product of each reaction\n",
    "s2 = 0\n",
    "d2= []\n",
    "for i in range(4):\n",
    "    for j in range(100):\n",
    "        s2 += (rct_b.loc[i][j] * prod_b.loc[i][j])\n",
    "    #ds = np.sqrt(s)\n",
    "    d2.append(s2)"
   ]
  },
  {
   "cell_type": "code",
   "execution_count": 14,
   "metadata": {},
   "outputs": [],
   "source": [
    "# Calculate the product of each reactant and product\n",
    "s3 = 0\n",
    "s4 = 0\n",
    "d3= []\n",
    "for i in range(4):\n",
    "    for j in range(100):\n",
    "        s3 += (rct_b.loc[i][j])**2\n",
    "        s4 += (prod_b.loc[i][j])**2\n",
    "    dd = np.sqrt(s3)\n",
    "    dx = np.sqrt(s4)\n",
    "    xx = dd*dx\n",
    "    d3.append(xx)"
   ]
  },
  {
   "cell_type": "code",
   "execution_count": 15,
   "metadata": {},
   "outputs": [
    {
     "name": "stdout",
     "output_type": "stream",
     "text": [
      "The angle between the vectors of reactants and products of each reactions =\n",
      "[1.052329946187754, 0.9951601656470028, 0.9469617135923684, 0.8613795706871101]\n"
     ]
    }
   ],
   "source": [
    "# Insert the formula of Cosine theorem\n",
    "a = []\n",
    "for i in range(4):\n",
    "    cos = d2[i]/d3[i]  #this is the value of cos(theta)\n",
    "    angle = math.acos(cos)  #this is the value of theta\n",
    "    a.append(angle)\n",
    "print('The angle between the vectors of reactants and products of each reactions =')\n",
    "print(a)"
   ]
  },
  {
   "cell_type": "markdown",
   "metadata": {},
   "source": [
    "## Chemical Reduction\n",
    "\n",
    "The same process was repeated for chemical reduction and hydration (+OH) reactions:"
   ]
  },
  {
   "cell_type": "markdown",
   "metadata": {},
   "source": [
    "#### Reduction\n",
    "| Index |Benzene |1-Butene|2-Butene|1-Hexene|\n",
    "|-------|--------|--------|--------|--------|\n",
    "| Length| 4.89897|21.18962|37.94733|43.18564|\n",
    "| Angle |0.008055|0.462757|0.590913|0.557938|"
   ]
  },
  {
   "cell_type": "markdown",
   "metadata": {},
   "source": [
    "#### Hydration\n",
    "| Index |Benzene |1-Butene|2-Butene|1-Hexene|\n",
    "|-------|--------|--------|--------|--------|\n",
    "| Length|18.05547|32.43454|34.20526|43.54308|\n",
    "| Angle |0.611504|0.645730|0.509857|0.540477|"
   ]
  },
  {
   "cell_type": "markdown",
   "metadata": {},
   "source": [
    "## Chemical Oxidation\n",
    "\n",
    "Chemical oxidation was explored through the following reactions:\n",
    "\n",
    "1. $H_{2} + O_{2} \\rightarrow H_{2}O$\n",
    "2. $S + O_{2} \\rightarrow SO_{2}$\n",
    "3. $C + O_{2} \\rightarrow CO_{2}$\n",
    "4. $N_{2} + O_{2} \\rightarrow NO$\n",
    "5. $NO + O_{2} \\rightarrow NO_{2}$"
   ]
  },
  {
   "cell_type": "markdown",
   "metadata": {},
   "source": [
    "### Calculation of Reaction Vectors"
   ]
  },
  {
   "cell_type": "code",
   "execution_count": 16,
   "metadata": {},
   "outputs": [],
   "source": [
    "smi_in = {'reactants':['[H][H].O=O','[S].O=O','[C].O=O','N#N.O=O','[N]=O.O=O']}  # load reactants\n",
    "smi_out = {'products':['O','O=S=O','C(=O)=O','[N]=O','N(=O)[O]']}      # load products   \n",
    "smi_in = pd.DataFrame(smi_in)                                          # transform to dataframe\n",
    "smi_out = pd.DataFrame(smi_out)                                        # transform to dataframe"
   ]
  },
  {
   "cell_type": "code",
   "execution_count": 17,
   "metadata": {},
   "outputs": [],
   "source": [
    "rct = [darkchem.utils.struct2vec(smi) for smi in smi_in['reactants']]  # vectorize reactants in DC latent space \n",
    "prod = [darkchem.utils.struct2vec(smi) for smi in smi_out['products']] # vectorize products in DC latent space\n",
    "rct_df = pd.DataFrame(data = rct) # transform np.array to DataFrame\n",
    "prod_df = pd.DataFrame(data = prod) # transform np.array to DataFrame"
   ]
  },
  {
   "cell_type": "code",
   "execution_count": null,
   "metadata": {},
   "outputs": [],
   "source": [
    "# Uncomment to preview dataframes\n",
    "#rct_df_ox.head()\n",
    "#prod_df_ox.head()"
   ]
  },
  {
   "cell_type": "code",
   "execution_count": 18,
   "metadata": {},
   "outputs": [],
   "source": [
    "x = rct_df.iloc[:,0:100].values\n",
    "y = prod_df.iloc[:,0:100].values"
   ]
  },
  {
   "cell_type": "markdown",
   "metadata": {},
   "source": [
    "### Prediction\n",
    "\n",
    "A regression model was applied to see if prediction of reaction products is possible."
   ]
  },
  {
   "cell_type": "code",
   "execution_count": 19,
   "metadata": {},
   "outputs": [],
   "source": [
    "X_train, X_test, y_train, y_test = train_test_split(x, y, test_size = .2, random_state=1234)"
   ]
  },
  {
   "cell_type": "code",
   "execution_count": 20,
   "metadata": {},
   "outputs": [
    {
     "data": {
      "image/png": "[encoded data removed]",
      "text/plain": [
       "<Figure size 432x288 with 1 Axes>"
      ]
     },
     "metadata": {
      "needs_background": "light"
     },
     "output_type": "display_data"
    }
   ],
   "source": [
    "# Fitting the Regression model to the dataset\n",
    "\n",
    "from sklearn.ensemble import RandomForestRegressor\n",
    "regressor = RandomForestRegressor(n_estimators = 300, random_state = 123, min_samples_split=15)\n",
    "regressor.fit(X_train,y_train)\n",
    "\n",
    "# Predicting a new result with the Random Forest Regression\n",
    "\n",
    "Ytrain_Pred = regressor.predict(X_train)\n",
    "Ytest_Pred = regressor.predict(X_test)\n",
    "\n",
    "# Visualising the Random Forest Regression results in higher resolution and smoother curve\n",
    "#X_Grid = np.arange(min(X), max(X), 0.01)\n",
    "#X_Grid = X_Grid.reshape((len(X_Grid), 1))\n",
    "plt.scatter(y_train,Ytrain_Pred, color = 'blue')\n",
    "plt.scatter(y_test,Ytest_Pred, color = 'red')\n",
    "#plt.plot(X_Grid, regressor.predict(X_Grid), color = 'black')\n",
    "plt.plot([0,35],[0,35],lw=4,color='black')\n",
    "plt.title('Random Forest Regression Results')\n",
    "plt.xlabel('actual ')\n",
    "plt.ylabel('predict')\n",
    "plt.show()"
   ]
  },
  {
   "cell_type": "code",
   "execution_count": 21,
   "metadata": {},
   "outputs": [
    {
     "data": {
      "text/plain": [
       "0.0"
      ]
     },
     "execution_count": 21,
     "metadata": {},
     "output_type": "execute_result"
    }
   ],
   "source": [
    "regressor.score(X_test,y_test)  # the correlation value  "
   ]
  },
  {
   "cell_type": "code",
   "execution_count": 22,
   "metadata": {},
   "outputs": [],
   "source": [
    "CO = darkchem.utils.struct2vec('[C-]#[O+]')  # transform to vect   CO carbon monoxide"
   ]
  },
  {
   "cell_type": "code",
   "execution_count": 23,
   "metadata": {},
   "outputs": [],
   "source": [
    "CO_test = regressor.predict(CO.reshape(1,-1)) # test the prediction function   prediction"
   ]
  },
  {
   "cell_type": "code",
   "execution_count": 24,
   "metadata": {},
   "outputs": [
    {
     "data": {
      "text/plain": [
       "array([[20.05833333, 16.445     , 21.02333333, 18.53666667, 13.63      ,\n",
       "         7.49166667,  4.13333333,  0.        ,  0.        ,  0.        ,\n",
       "         0.        ,  0.        ,  0.        ,  0.        ,  0.        ,\n",
       "         0.        ,  0.        ,  0.        ,  0.        ,  0.        ,\n",
       "         0.        ,  0.        ,  0.        ,  0.        ,  0.        ,\n",
       "         0.        ,  0.        ,  0.        ,  0.        ,  0.        ,\n",
       "         0.        ,  0.        ,  0.        ,  0.        ,  0.        ,\n",
       "         0.        ,  0.        ,  0.        ,  0.        ,  0.        ,\n",
       "         0.        ,  0.        ,  0.        ,  0.        ,  0.        ,\n",
       "         0.        ,  0.        ,  0.        ,  0.        ,  0.        ,\n",
       "         0.        ,  0.        ,  0.        ,  0.        ,  0.        ,\n",
       "         0.        ,  0.        ,  0.        ,  0.        ,  0.        ,\n",
       "         0.        ,  0.        ,  0.        ,  0.        ,  0.        ,\n",
       "         0.        ,  0.        ,  0.        ,  0.        ,  0.        ,\n",
       "         0.        ,  0.        ,  0.        ,  0.        ,  0.        ,\n",
       "         0.        ,  0.        ,  0.        ,  0.        ,  0.        ,\n",
       "         0.        ,  0.        ,  0.        ,  0.        ,  0.        ,\n",
       "         0.        ,  0.        ,  0.        ,  0.        ,  0.        ,\n",
       "         0.        ,  0.        ,  0.        ,  0.        ,  0.        ,\n",
       "         0.        ,  0.        ,  0.        ,  0.        ,  0.        ]])"
      ]
     },
     "execution_count": 24,
     "metadata": {},
     "output_type": "execute_result"
    }
   ],
   "source": [
    "CO_test"
   ]
  },
  {
   "cell_type": "code",
   "execution_count": 25,
   "metadata": {},
   "outputs": [
    {
     "data": {
      "text/plain": [
       "array([[20., 16., 21., 19., 14.,  8.,  4.,  0.,  0.,  0.,  0.,  0.,  0.,\n",
       "         0.,  0.,  0.,  0.,  0.,  0.,  0.,  0.,  0.,  0.,  0.,  0.,  0.,\n",
       "         0.,  0.,  0.,  0.,  0.,  0.,  0.,  0.,  0.,  0.,  0.,  0.,  0.,\n",
       "         0.,  0.,  0.,  0.,  0.,  0.,  0.,  0.,  0.,  0.,  0.,  0.,  0.,\n",
       "         0.,  0.,  0.,  0.,  0.,  0.,  0.,  0.,  0.,  0.,  0.,  0.,  0.,\n",
       "         0.,  0.,  0.,  0.,  0.,  0.,  0.,  0.,  0.,  0.,  0.,  0.,  0.,\n",
       "         0.,  0.,  0.,  0.,  0.,  0.,  0.,  0.,  0.,  0.,  0.,  0.,  0.,\n",
       "         0.,  0.,  0.,  0.,  0.,  0.,  0.,  0.,  0.]])"
      ]
     },
     "execution_count": 25,
     "metadata": {},
     "output_type": "execute_result"
    }
   ],
   "source": [
    "rou = [20,16,21,19,14,8,4] # round the data\n",
    "for i in range(100):\n",
    "    if (i < 7) :\n",
    "        CO_test[0][i] = rou[i]\n",
    "CO_test"
   ]
  },
  {
   "cell_type": "code",
   "execution_count": 26,
   "metadata": {},
   "outputs": [],
   "source": [
    "c = CO_test.flatten() # remove brackets\n",
    "test = c.astype(int) # transform the data type to int"
   ]
  },
  {
   "cell_type": "code",
   "execution_count": 27,
   "metadata": {},
   "outputs": [
    {
     "data": {
      "text/plain": [
       "'-O(/H84'"
      ]
     },
     "execution_count": 27,
     "metadata": {},
     "output_type": "execute_result"
    }
   ],
   "source": [
    "darkchem.utils.vec2struct(test) # prediction result of CO oxidation reaction"
   ]
  },
  {
   "cell_type": "code",
   "execution_count": 28,
   "metadata": {},
   "outputs": [
    {
     "name": "stdout",
     "output_type": "stream",
     "text": [
      "[83.4445923951936, 94.56743625582752, 98.89388252060893, 109.67223896684156, 114.70832576583096]\n"
     ]
    }
   ],
   "source": [
    "# calculate the distance between the reactants and products\n",
    "s = 0\n",
    "d = []\n",
    "for i in range(rct_df.shape[0]):\n",
    "    for j in range(rct_df.shape[1]):\n",
    "        s += (rct_df.loc[i][j] - prod_df.loc[i][j])**2\n",
    "    ds = np.sqrt(s)\n",
    "    d.append(ds)\n",
    "print(d)"
   ]
  },
  {
   "cell_type": "code",
   "execution_count": 29,
   "metadata": {},
   "outputs": [
    {
     "name": "stdout",
     "output_type": "stream",
     "text": [
      "[576, 3408, 7119, 9732, 14813]\n"
     ]
    }
   ],
   "source": [
    "#calculate the product of vectors(p vector * r vector)\n",
    "s2 = 0\n",
    "d2= []\n",
    "for i in range(5):\n",
    "    for j in range(100):\n",
    "        s2 += (rct_df.loc[i][j] * prod_df.loc[i][j])\n",
    "    #ds = np.sqrt(s)\n",
    "    d2.append(s2)\n",
    "print(d2)"
   ]
  },
  {
   "cell_type": "code",
   "execution_count": 30,
   "metadata": {},
   "outputs": [
    {
     "name": "stdout",
     "output_type": "stream",
     "text": [
      "[1418.4160179580601, 6001.698926137498, 10433.085449664448, 14679.26111900732, 20481.382741406887]\n"
     ]
    }
   ],
   "source": [
    "# calculate the product of |p| * |r|\n",
    "s3 = 0\n",
    "s4 = 0\n",
    "d3= []\n",
    "for i in range(5):\n",
    "    for j in range(100):\n",
    "        s3 += (rct_df.loc[i][j])**2  # the square length of reactant vector\n",
    "        s4 += (prod_df.loc[i][j])**2 # the square lenght of product vector\n",
    "    dd = np.sqrt(s3) # the length of reactant vector\n",
    "    dx = np.sqrt(s4) # the lenght of product vector\n",
    "    xx = dd*dx # the product of |p| * |r|\n",
    "    d3.append(xx)\n",
    "print(d3)"
   ]
  },
  {
   "cell_type": "code",
   "execution_count": 31,
   "metadata": {},
   "outputs": [
    {
     "name": "stdout",
     "output_type": "stream",
     "text": [
      "[0.40608678462980474, 0.5678392138529481, 0.6823484801640308, 0.6629761485337025, 0.7232421847208974]\n"
     ]
    }
   ],
   "source": [
    "# calculate the cos(theta) value of reactant vector and product vector\n",
    "a = []\n",
    "for i in range(5):\n",
    "    cos = d2[i]/d3[i]  #this is the value of cos(theta)\n",
    "    a.append(cos)\n",
    "print(a)"
   ]
  },
  {
   "cell_type": "code",
   "execution_count": 32,
   "metadata": {},
   "outputs": [
    {
     "data": {
      "text/html": [
       "<div>\n",
       "<style scoped>\n",
       "    .dataframe tbody tr th:only-of-type {\n",
       "        vertical-align: middle;\n",
       "    }\n",
       "\n",
       "    .dataframe tbody tr th {\n",
       "        vertical-align: top;\n",
       "    }\n",
       "\n",
       "    .dataframe thead th {\n",
       "        text-align: right;\n",
       "    }\n",
       "</style>\n",
       "<table border=\"1\" class=\"dataframe\">\n",
       "  <thead>\n",
       "    <tr style=\"text-align: right;\">\n",
       "      <th></th>\n",
       "      <th>distance</th>\n",
       "      <th>cos(theta)</th>\n",
       "    </tr>\n",
       "  </thead>\n",
       "  <tbody>\n",
       "    <tr>\n",
       "      <th>H2</th>\n",
       "      <td>83.444592</td>\n",
       "      <td>0.406087</td>\n",
       "    </tr>\n",
       "    <tr>\n",
       "      <th>S</th>\n",
       "      <td>94.567436</td>\n",
       "      <td>0.567839</td>\n",
       "    </tr>\n",
       "    <tr>\n",
       "      <th>C</th>\n",
       "      <td>98.893883</td>\n",
       "      <td>0.682348</td>\n",
       "    </tr>\n",
       "    <tr>\n",
       "      <th>N2</th>\n",
       "      <td>109.672239</td>\n",
       "      <td>0.662976</td>\n",
       "    </tr>\n",
       "    <tr>\n",
       "      <th>NO</th>\n",
       "      <td>114.708326</td>\n",
       "      <td>0.723242</td>\n",
       "    </tr>\n",
       "  </tbody>\n",
       "</table>\n",
       "</div>"
      ],
      "text/plain": [
       "      distance  cos(theta)\n",
       "H2   83.444592    0.406087\n",
       "S    94.567436    0.567839\n",
       "C    98.893883    0.682348\n",
       "N2  109.672239    0.662976\n",
       "NO  114.708326    0.723242"
      ]
     },
     "execution_count": 32,
     "metadata": {},
     "output_type": "execute_result"
    }
   ],
   "source": [
    "# result of oxidation reactions\n",
    "result = {'distance':d, 'cos(theta)':a}\n",
    "result = pd.DataFrame(result, index = ['H2','S','C','N2','NO'])  \n",
    "result"
   ]
  },
  {
   "cell_type": "code",
   "execution_count": 33,
   "metadata": {},
   "outputs": [
    {
     "data": {
      "text/html": [
       "<div>\n",
       "<style scoped>\n",
       "    .dataframe tbody tr th:only-of-type {\n",
       "        vertical-align: middle;\n",
       "    }\n",
       "\n",
       "    .dataframe tbody tr th {\n",
       "        vertical-align: top;\n",
       "    }\n",
       "\n",
       "    .dataframe thead th {\n",
       "        text-align: right;\n",
       "    }\n",
       "</style>\n",
       "<table border=\"1\" class=\"dataframe\">\n",
       "  <thead>\n",
       "    <tr style=\"text-align: right;\">\n",
       "      <th></th>\n",
       "      <th>0</th>\n",
       "      <th>1</th>\n",
       "      <th>2</th>\n",
       "      <th>3</th>\n",
       "      <th>4</th>\n",
       "      <th>5</th>\n",
       "      <th>6</th>\n",
       "      <th>7</th>\n",
       "      <th>8</th>\n",
       "      <th>9</th>\n",
       "      <th>...</th>\n",
       "      <th>90</th>\n",
       "      <th>91</th>\n",
       "      <th>92</th>\n",
       "      <th>93</th>\n",
       "      <th>94</th>\n",
       "      <th>95</th>\n",
       "      <th>96</th>\n",
       "      <th>97</th>\n",
       "      <th>98</th>\n",
       "      <th>99</th>\n",
       "    </tr>\n",
       "  </thead>\n",
       "  <tbody>\n",
       "    <tr>\n",
       "      <th>0</th>\n",
       "      <td>-20.0</td>\n",
       "      <td>-14.0</td>\n",
       "      <td>-37.0</td>\n",
       "      <td>-36.0</td>\n",
       "      <td>-14.0</td>\n",
       "      <td>-37.0</td>\n",
       "      <td>-28.0</td>\n",
       "      <td>-16.0</td>\n",
       "      <td>-29.0</td>\n",
       "      <td>-16.0</td>\n",
       "      <td>...</td>\n",
       "      <td>0.0</td>\n",
       "      <td>0.0</td>\n",
       "      <td>0.0</td>\n",
       "      <td>0.0</td>\n",
       "      <td>0.0</td>\n",
       "      <td>0.0</td>\n",
       "      <td>0.0</td>\n",
       "      <td>0.0</td>\n",
       "      <td>0.0</td>\n",
       "      <td>0.0</td>\n",
       "    </tr>\n",
       "    <tr>\n",
       "      <th>1</th>\n",
       "      <td>-20.0</td>\n",
       "      <td>11.0</td>\n",
       "      <td>-19.0</td>\n",
       "      <td>1.0</td>\n",
       "      <td>0.0</td>\n",
       "      <td>-29.0</td>\n",
       "      <td>-16.0</td>\n",
       "      <td>0.0</td>\n",
       "      <td>0.0</td>\n",
       "      <td>0.0</td>\n",
       "      <td>...</td>\n",
       "      <td>0.0</td>\n",
       "      <td>0.0</td>\n",
       "      <td>0.0</td>\n",
       "      <td>0.0</td>\n",
       "      <td>0.0</td>\n",
       "      <td>0.0</td>\n",
       "      <td>0.0</td>\n",
       "      <td>0.0</td>\n",
       "      <td>0.0</td>\n",
       "      <td>0.0</td>\n",
       "    </tr>\n",
       "    <tr>\n",
       "      <th>2</th>\n",
       "      <td>-23.0</td>\n",
       "      <td>8.0</td>\n",
       "      <td>-8.0</td>\n",
       "      <td>-12.0</td>\n",
       "      <td>6.0</td>\n",
       "      <td>0.0</td>\n",
       "      <td>0.0</td>\n",
       "      <td>0.0</td>\n",
       "      <td>0.0</td>\n",
       "      <td>0.0</td>\n",
       "      <td>...</td>\n",
       "      <td>0.0</td>\n",
       "      <td>0.0</td>\n",
       "      <td>0.0</td>\n",
       "      <td>0.0</td>\n",
       "      <td>0.0</td>\n",
       "      <td>0.0</td>\n",
       "      <td>0.0</td>\n",
       "      <td>0.0</td>\n",
       "      <td>0.0</td>\n",
       "      <td>0.0</td>\n",
       "    </tr>\n",
       "    <tr>\n",
       "      <th>3</th>\n",
       "      <td>21.0</td>\n",
       "      <td>-15.0</td>\n",
       "      <td>22.0</td>\n",
       "      <td>1.0</td>\n",
       "      <td>0.0</td>\n",
       "      <td>-29.0</td>\n",
       "      <td>-16.0</td>\n",
       "      <td>0.0</td>\n",
       "      <td>0.0</td>\n",
       "      <td>0.0</td>\n",
       "      <td>...</td>\n",
       "      <td>0.0</td>\n",
       "      <td>0.0</td>\n",
       "      <td>0.0</td>\n",
       "      <td>0.0</td>\n",
       "      <td>0.0</td>\n",
       "      <td>0.0</td>\n",
       "      <td>0.0</td>\n",
       "      <td>0.0</td>\n",
       "      <td>0.0</td>\n",
       "      <td>0.0</td>\n",
       "    </tr>\n",
       "    <tr>\n",
       "      <th>4</th>\n",
       "      <td>-21.0</td>\n",
       "      <td>6.0</td>\n",
       "      <td>-8.0</td>\n",
       "      <td>-13.0</td>\n",
       "      <td>6.0</td>\n",
       "      <td>8.0</td>\n",
       "      <td>0.0</td>\n",
       "      <td>8.0</td>\n",
       "      <td>-16.0</td>\n",
       "      <td>0.0</td>\n",
       "      <td>...</td>\n",
       "      <td>0.0</td>\n",
       "      <td>0.0</td>\n",
       "      <td>0.0</td>\n",
       "      <td>0.0</td>\n",
       "      <td>0.0</td>\n",
       "      <td>0.0</td>\n",
       "      <td>0.0</td>\n",
       "      <td>0.0</td>\n",
       "      <td>0.0</td>\n",
       "      <td>0.0</td>\n",
       "    </tr>\n",
       "  </tbody>\n",
       "</table>\n",
       "<p>5 rows × 100 columns</p>\n",
       "</div>"
      ],
      "text/plain": [
       "     0     1     2     3     4     5     6     7     8     9   ...   90   91  \\\n",
       "0 -20.0 -14.0 -37.0 -36.0 -14.0 -37.0 -28.0 -16.0 -29.0 -16.0  ...  0.0  0.0   \n",
       "1 -20.0  11.0 -19.0   1.0   0.0 -29.0 -16.0   0.0   0.0   0.0  ...  0.0  0.0   \n",
       "2 -23.0   8.0  -8.0 -12.0   6.0   0.0   0.0   0.0   0.0   0.0  ...  0.0  0.0   \n",
       "3  21.0 -15.0  22.0   1.0   0.0 -29.0 -16.0   0.0   0.0   0.0  ...  0.0  0.0   \n",
       "4 -21.0   6.0  -8.0 -13.0   6.0   8.0   0.0   8.0 -16.0   0.0  ...  0.0  0.0   \n",
       "\n",
       "    92   93   94   95   96   97   98   99  \n",
       "0  0.0  0.0  0.0  0.0  0.0  0.0  0.0  0.0  \n",
       "1  0.0  0.0  0.0  0.0  0.0  0.0  0.0  0.0  \n",
       "2  0.0  0.0  0.0  0.0  0.0  0.0  0.0  0.0  \n",
       "3  0.0  0.0  0.0  0.0  0.0  0.0  0.0  0.0  \n",
       "4  0.0  0.0  0.0  0.0  0.0  0.0  0.0  0.0  \n",
       "\n",
       "[5 rows x 100 columns]"
      ]
     },
     "execution_count": 33,
     "metadata": {},
     "output_type": "execute_result"
    }
   ],
   "source": [
    "# calculate the vector of the reaction path \n",
    "oxi_rec = pd.DataFrame()\n",
    "for i in range(5):\n",
    "    for j in range(100):\n",
    "        oxi_rec.loc[i,j] =  prod_df.loc[i][j] - rct_df.loc[i][j]\n",
    "oxi_rec"
   ]
  },
  {
   "cell_type": "code",
   "execution_count": 34,
   "metadata": {},
   "outputs": [
    {
     "data": {
      "text/html": [
       "<div>\n",
       "<style scoped>\n",
       "    .dataframe tbody tr th:only-of-type {\n",
       "        vertical-align: middle;\n",
       "    }\n",
       "\n",
       "    .dataframe tbody tr th {\n",
       "        vertical-align: top;\n",
       "    }\n",
       "\n",
       "    .dataframe thead th {\n",
       "        text-align: right;\n",
       "    }\n",
       "</style>\n",
       "<table border=\"1\" class=\"dataframe\">\n",
       "  <thead>\n",
       "    <tr style=\"text-align: right;\">\n",
       "      <th></th>\n",
       "      <th>0</th>\n",
       "      <th>1</th>\n",
       "      <th>2</th>\n",
       "      <th>3</th>\n",
       "      <th>4</th>\n",
       "    </tr>\n",
       "  </thead>\n",
       "  <tbody>\n",
       "    <tr>\n",
       "      <th>0</th>\n",
       "      <td>1.000000</td>\n",
       "      <td>0.644632</td>\n",
       "      <td>0.401150</td>\n",
       "      <td>0.111594</td>\n",
       "      <td>0.367941</td>\n",
       "    </tr>\n",
       "    <tr>\n",
       "      <th>1</th>\n",
       "      <td>0.644632</td>\n",
       "      <td>1.000000</td>\n",
       "      <td>0.527792</td>\n",
       "      <td>0.040120</td>\n",
       "      <td>0.252620</td>\n",
       "    </tr>\n",
       "    <tr>\n",
       "      <th>2</th>\n",
       "      <td>0.401150</td>\n",
       "      <td>0.527792</td>\n",
       "      <td>1.000000</td>\n",
       "      <td>-0.583305</td>\n",
       "      <td>0.807559</td>\n",
       "    </tr>\n",
       "    <tr>\n",
       "      <th>3</th>\n",
       "      <td>0.111594</td>\n",
       "      <td>0.040120</td>\n",
       "      <td>-0.583305</td>\n",
       "      <td>1.000000</td>\n",
       "      <td>-0.603070</td>\n",
       "    </tr>\n",
       "    <tr>\n",
       "      <th>4</th>\n",
       "      <td>0.367941</td>\n",
       "      <td>0.252620</td>\n",
       "      <td>0.807559</td>\n",
       "      <td>-0.603070</td>\n",
       "      <td>1.000000</td>\n",
       "    </tr>\n",
       "  </tbody>\n",
       "</table>\n",
       "</div>"
      ],
      "text/plain": [
       "          0         1         2         3         4\n",
       "0  1.000000  0.644632  0.401150  0.111594  0.367941\n",
       "1  0.644632  1.000000  0.527792  0.040120  0.252620\n",
       "2  0.401150  0.527792  1.000000 -0.583305  0.807559\n",
       "3  0.111594  0.040120 -0.583305  1.000000 -0.603070\n",
       "4  0.367941  0.252620  0.807559 -0.603070  1.000000"
      ]
     },
     "execution_count": 34,
     "metadata": {},
     "output_type": "execute_result"
    }
   ],
   "source": [
    "# oxidation path vector correlation\n",
    "cor = pd.DataFrame()\n",
    "for i in range(5):\n",
    "    for j in range(5):\n",
    "        cor.loc[i,j] = oxi_rec.iloc[i].corr(oxi_rec.iloc[j])  # for all reactions\n",
    "cor"
   ]
  },
  {
   "cell_type": "code",
   "execution_count": 35,
   "metadata": {},
   "outputs": [],
   "source": [
    "# define a function to calculate the correlation values among reactant vectors and product vectors\n",
    "def rct2prod_cor(data1,data2):\n",
    "    metric = pd.DataFrame()\n",
    "    #metric = []\n",
    "    for i in range(data1.shape[0]):\n",
    "        metric.loc[i,i] = data1.iloc[i].corr(data2.iloc[i])\n",
    "    return metric"
   ]
  },
  {
   "cell_type": "code",
   "execution_count": 36,
   "metadata": {},
   "outputs": [
    {
     "data": {
      "text/html": [
       "<div>\n",
       "<style scoped>\n",
       "    .dataframe tbody tr th:only-of-type {\n",
       "        vertical-align: middle;\n",
       "    }\n",
       "\n",
       "    .dataframe tbody tr th {\n",
       "        vertical-align: top;\n",
       "    }\n",
       "\n",
       "    .dataframe thead th {\n",
       "        text-align: right;\n",
       "    }\n",
       "</style>\n",
       "<table border=\"1\" class=\"dataframe\">\n",
       "  <thead>\n",
       "    <tr style=\"text-align: right;\">\n",
       "      <th></th>\n",
       "      <th>0</th>\n",
       "      <th>1</th>\n",
       "      <th>2</th>\n",
       "      <th>3</th>\n",
       "      <th>4</th>\n",
       "    </tr>\n",
       "  </thead>\n",
       "  <tbody>\n",
       "    <tr>\n",
       "      <th>0</th>\n",
       "      <td>0.396151</td>\n",
       "      <td>NaN</td>\n",
       "      <td>NaN</td>\n",
       "      <td>NaN</td>\n",
       "      <td>NaN</td>\n",
       "    </tr>\n",
       "    <tr>\n",
       "      <th>1</th>\n",
       "      <td>NaN</td>\n",
       "      <td>0.776728</td>\n",
       "      <td>NaN</td>\n",
       "      <td>NaN</td>\n",
       "      <td>NaN</td>\n",
       "    </tr>\n",
       "    <tr>\n",
       "      <th>2</th>\n",
       "      <td>NaN</td>\n",
       "      <td>NaN</td>\n",
       "      <td>0.9124</td>\n",
       "      <td>NaN</td>\n",
       "      <td>NaN</td>\n",
       "    </tr>\n",
       "    <tr>\n",
       "      <th>3</th>\n",
       "      <td>NaN</td>\n",
       "      <td>NaN</td>\n",
       "      <td>NaN</td>\n",
       "      <td>0.684663</td>\n",
       "      <td>NaN</td>\n",
       "    </tr>\n",
       "    <tr>\n",
       "      <th>4</th>\n",
       "      <td>NaN</td>\n",
       "      <td>NaN</td>\n",
       "      <td>NaN</td>\n",
       "      <td>NaN</td>\n",
       "      <td>0.895379</td>\n",
       "    </tr>\n",
       "  </tbody>\n",
       "</table>\n",
       "</div>"
      ],
      "text/plain": [
       "          0         1       2         3         4\n",
       "0  0.396151       NaN     NaN       NaN       NaN\n",
       "1       NaN  0.776728     NaN       NaN       NaN\n",
       "2       NaN       NaN  0.9124       NaN       NaN\n",
       "3       NaN       NaN     NaN  0.684663       NaN\n",
       "4       NaN       NaN     NaN       NaN  0.895379"
      ]
     },
     "execution_count": 36,
     "metadata": {},
     "output_type": "execute_result"
    }
   ],
   "source": [
    "rct2prod_cor(rct_df,prod_df) # the average correlation value is 0.6, not so bad."
   ]
  },
  {
   "cell_type": "code",
   "execution_count": null,
   "metadata": {},
   "outputs": [],
   "source": []
  }
 ],
 "metadata": {
  "kernelspec": {
   "display_name": "Python 3",
   "language": "python",
   "name": "python3"
  },
  "language_info": {
   "codemirror_mode": {
    "name": "ipython",
    "version": 3
   },
   "file_extension": ".py",
   "mimetype": "text/x-python",
   "name": "python",
   "nbconvert_exporter": "python",
   "pygments_lexer": "ipython3",
   "version": "3.6.8"
  }
 },
 "nbformat": 4,
 "nbformat_minor": 2
}
