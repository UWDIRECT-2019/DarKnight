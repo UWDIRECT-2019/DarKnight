{
 "cells": [
  {
   "cell_type": "markdown",
   "metadata": {},
   "source": [
    "### This notebook shows several dataframe for several simple reactions"
   ]
  },
  {
   "cell_type": "markdown",
   "metadata": {},
   "source": [
    "#### Reduction\n",
    "| Index |Benzene |1-Butene|2-Butene|1-Hexene|\n",
    "|-------|--------|--------|--------|--------|\n",
    "| Length| 4.89897|21.18962|37.94733|43.18564|\n",
    "| Angle |0.008055|0.462757|0.590913|0.557938|"
   ]
  },
  {
   "cell_type": "markdown",
   "metadata": {},
   "source": [
    "#### Hydration\n",
    "| Index |Benzene |1-Butene|2-Butene|1-Hexene|\n",
    "|-------|--------|--------|--------|--------|\n",
    "| Length|18.05547|32.43454|34.20526|43.54308|\n",
    "| Angle |0.611504|0.645730|0.509857|0.540477|"
   ]
  },
  {
   "cell_type": "markdown",
   "metadata": {},
   "source": [
    "#### Benzene\n",
    "| Index |H2SO4| HNO3| CH3 |C2H4O|\n",
    "|-------|-----|-----|-----|-----|\n",
    "| Length| 52.7| 65.4| 67.7| 76.8|\n",
    "| Angle | 1.05| 0.99| 0.94| 0.86|"
   ]
  },
  {
   "cell_type": "code",
   "execution_count": null,
   "metadata": {},
   "outputs": [],
   "source": []
  }
 ],
 "metadata": {
  "kernelspec": {
   "display_name": "Python 3",
   "language": "python",
   "name": "python3"
  },
  "language_info": {
   "codemirror_mode": {
    "name": "ipython",
    "version": 3
   },
   "file_extension": ".py",
   "mimetype": "text/x-python",
   "name": "python",
   "nbconvert_exporter": "python",
   "pygments_lexer": "ipython3",
   "version": "3.6.8"
  }
 },
 "nbformat": 4,
 "nbformat_minor": 2
}
