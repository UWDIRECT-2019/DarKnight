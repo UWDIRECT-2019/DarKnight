{
 "cells": [
  {
   "cell_type": "markdown",
   "metadata": {},
   "source": [
    "# Alcohol Dehydration\n",
    "This notebook uses the average reaction vector method to perform three tasks for alcohol dehydration as follow:\n",
    "* Calculate the average and std dev of angle and magnitude of each vectors of reaction path,\n",
    "* Calculate the difference between the predicted vectors and the actual vectors,\n",
    "* Perform a deeper analysis of the molecules generated within 1 std dev of the average vector."
   ]
  },
  {
   "cell_type": "markdown",
   "metadata": {},
   "source": [
    "### First  import the packge and load the model and the darkchem training dataset:"
   ]
  },
  {
   "cell_type": "code",
   "execution_count": 38,
   "metadata": {},
   "outputs": [],
   "source": [
    "import math\n",
    "import sys\n",
    "sys.path.append('../')\n",
    "from fcts import array_in_nd_array, remove_space, r2pcorr,struc2mol\n",
    "import numpy as np\n",
    "import pandas as pd\n",
    "import darkchem\n",
    "import matplotlib.pyplot as plt\n",
    "from sklearn.model_selection import train_test_split\n",
    "from sklearn.metrics import mean_squared_error\n",
    "from sklearn.preprocessing import StandardScaler\n",
    "get_ipython().run_line_magic('matplotlib', 'inline')\n",
    "from sklearn.linear_model import LinearRegression\n",
    "from rdkit import Chem\n",
    "from rdkit.Chem.Draw import MolToImage\n",
    "# plotting stuff\n",
    "import matplotlib.pyplot as plt\n",
    "import matplotlib as mpl\n",
    "from IPython.display import SVG, display\n",
    "%config InlineBackend.figure_format = 'retina'\n",
    "import statistics\n",
    "from IPython.display import display_html "
   ]
  },
  {
   "cell_type": "code",
   "execution_count": 2,
   "metadata": {},
   "outputs": [
    {
     "name": "stdout",
     "output_type": "stream",
     "text": [
      "WARNING:tensorflow:From C:\\Users\\user\\Anaconda3\\envs\\my-rdkit-env\\lib\\site-packages\\tensorflow\\python\\framework\\op_def_library.py:263: colocate_with (from tensorflow.python.framework.ops) is deprecated and will be removed in a future version.\n",
      "Instructions for updating:\n",
      "Colocations handled automatically by placer.\n",
      "WARNING:tensorflow:From C:\\Users\\user\\Anaconda3\\envs\\my-rdkit-env\\lib\\site-packages\\keras\\backend\\tensorflow_backend.py:3445: calling dropout (from tensorflow.python.ops.nn_ops) with keep_prob is deprecated and will be removed in a future version.\n",
      "Instructions for updating:\n",
      "Please use `rate` instead of `keep_prob`. Rate should be set to `rate = 1 - keep_prob`.\n"
     ]
    }
   ],
   "source": [
    "# Load model\n",
    "model = darkchem.utils.load_model('../../../DarKnight_File/Final Trained DarkChem Network Weights/N7b_[M+H]/')"
   ]
  },
  {
   "cell_type": "code",
   "execution_count": 3,
   "metadata": {},
   "outputs": [],
   "source": [
    "# load training set\n",
    "x = np.load('../../../DarKnight_File/Training Data - Molecules/combined_[M+H]_smiles.npy')"
   ]
  },
  {
   "cell_type": "markdown",
   "metadata": {},
   "source": [
    "### Then, define several functions that will be used:"
   ]
  },
  {
   "cell_type": "code",
   "execution_count": 4,
   "metadata": {},
   "outputs": [],
   "source": [
    "# Define a fuction that can check the existance of our input molecules\n",
    "def array_in_nd_array(test, array):\n",
    "    \"\"\"\n",
    "    Checks whether or not a test 1D array is contained within a full N-D array.\n",
    "    Returns True if the test array is equal to any of the dimensions of the N-D array.\n",
    "    Returns False if the test array does not match any dimension of the N-D array.\n",
    "    \"\"\"\n",
    "    return any(np.array_equal(x, test) for x in array)"
   ]
  },
  {
   "cell_type": "code",
   "execution_count": 5,
   "metadata": {},
   "outputs": [],
   "source": [
    "# Define a fuction that transfer input molecules into vectors\n",
    "def smi_vec_verify(dic):\n",
    "    \n",
    "    \"\"\"Takes a dictionary with reactants and products.\n",
    "    Creates vectorized representations and appends to dictionary\n",
    "    as 'rvec' and 'pvec'.\n",
    "    Checks that both vector types are contained within the loaded\n",
    "    dataset x.\n",
    "    \n",
    "    \"\"\"\n",
    "    assert type(dic) == dict, 'Input must be a dictionary'\n",
    "    assert len(dic) == 2, 'Input dictionary must contain 2 items (reactants, products)'\n",
    "    \n",
    "    dic['rvec'] = [darkchem.utils.struct2vec(reactant).astype(np.int16) for reactant in dic['reactants']]\n",
    "    dic['pvec'] = [darkchem.utils.struct2vec(product).astype(np.int16) for product in dic['products']]\n",
    "    \n",
    "    is_in_testset = [[array_in_nd_array(item, x) for item in key] for key in dic.values()]\n",
    "    \n",
    "    print(f\"Is each reactant contained in the DarkChem training set?: {is_in_testset[2]}\")\n",
    "    print(f\"Is each product contained in the DarkChem training set?: {is_in_testset[3]}\")\n",
    "    \n",
    "    return dic"
   ]
  },
  {
   "cell_type": "code",
   "execution_count": 6,
   "metadata": {},
   "outputs": [],
   "source": [
    "# Define a function that generate the latent space and calulate the average reaction vector\n",
    "def vec_latent_rxn_vector(dic):\n",
    "    \n",
    "    \"\"\"Takes a dictionary with reaction vectors and product vectors.\n",
    "    Converts vectorized representations to latent space vector\n",
    "    representations and appends to dictionary as 'rlat' and 'plat'.\n",
    "    \n",
    "    Calculates reaction vector (subtraction of reactant latent space\n",
    "    vector from product latent space vector.\n",
    "    \n",
    "    Displays Pearson correlation matrix for all reaction vectors.\n",
    "    \n",
    "    Averages all reaction vectors and returns dic, avgvec.\n",
    "    \n",
    "    \"\"\"\n",
    "    dic['rlat'] = model.encoder.predict(np.array(dic['rvec']))\n",
    "    dic['plat'] = model.encoder.predict(np.array(dic['pvec']))\n",
    "    \n",
    "    dic['rxnvector'] = [dic['plat'][i] - dic['rlat'][i] for i in range(len(dic['plat']))]\n",
    "    \n",
    "    print(pd.DataFrame(np.corrcoef(dic['rxnvector']).view(type=np.matrix)))\n",
    "    \n",
    "    avgvec = np.array(dic['rxnvector']).sum(axis=0) / len(dic['rxnvector'])\n",
    "    \n",
    "    return dic, avgvec"
   ]
  },
  {
   "cell_type": "code",
   "execution_count": 7,
   "metadata": {},
   "outputs": [],
   "source": [
    "# Define a function that apply the reaction vector to an input molecule\n",
    "def apply_rxn_vector(smistr, rxnvec, nummols=10, savefilename=False):\n",
    "    \n",
    "    \"\"\"Takes a SMILES string representation for a molecule.\n",
    "    Adds input vector (e.g. avgvec output from vec_latent_rxn_vector)\n",
    "    and shows chemical structures for the top 10 highest-probability\n",
    "    product predictions (can be altered with nummols)\n",
    "    \n",
    "    \"\"\"\n",
    "    testvec = darkchem.utils.struct2vec(smistr).astype(np.int16)\n",
    "    array_in_nd_array(testvec, x)\n",
    "    \n",
    "    testlat = model.encoder.predict(np.array(testvec.reshape(-1,100)))\n",
    "    \n",
    "    testprod = testlat + rxnvec\n",
    "    testpvec = model.decoder.predict(testprod)\n",
    "    testprods = darkchem.utils.beamsearch(testpvec, k=nummols)\n",
    "    \n",
    "    predictions = {}\n",
    "    \n",
    "    predictions['predprod'] = [darkchem.utils.vec2struct(i) for i in testprods[0]]\n",
    "    predictions['predprodmol'] = [Chem.MolFromSmiles(predictions['predprod'][i])\n",
    "                                  for i in range(len(predictions['predprod']))]\n",
    "    \n",
    "    if type(savefilename) == str:\n",
    "        img = Chem.Draw.MolsToGridImage(predictions['predprodmol'],\n",
    "                                        molsPerRow=5, subImgSize=(200, 200))\n",
    "        img.save(f'./{savefilename}.png')\n",
    "    \n",
    "    return Chem.Draw.MolsToGridImage(predictions['predprodmol'],\n",
    "                                     molsPerRow=5, subImgSize=(200, 200))"
   ]
  },
  {
   "cell_type": "markdown",
   "metadata": {},
   "source": [
    "### And we load several alcohol dehydration reactions and put them into darkchem:"
   ]
  },
  {
   "cell_type": "code",
   "execution_count": 60,
   "metadata": {},
   "outputs": [],
   "source": [
    "# load training data of Alcohol_Dehydration\n",
    "data = pd.read_excel('../../database/Alcohol_Dehydration.xlsx')\n",
    "\n",
    "# Remove the redundant space in the smiles string\n",
    "data = remove_space(data)\n",
    "\n",
    "# Transform reactants and products into dictionary\n",
    "alcdhy = {'reactants': data['Reactants'],\n",
    "       'products': data['Products']}"
   ]
  },
  {
   "cell_type": "code",
   "execution_count": 61,
   "metadata": {},
   "outputs": [
    {
     "data": {
      "image/png": "[encoded data removed]",
      "text/plain": [
       "<PIL.PngImagePlugin.PngImageFile image mode=RGB size=1200x600 at 0x240F7B48A90>"
      ]
     },
     "execution_count": 61,
     "metadata": {},
     "output_type": "execute_result"
    }
   ],
   "source": [
    "# Show the reactants we loaded\n",
    "Chem.Draw.MolsToGridImage([Chem.MolFromSmiles(mol) for mol in alcdhy['reactants']], molsPerRow=6, subImgSize=(200, 200))"
   ]
  },
  {
   "cell_type": "code",
   "execution_count": 62,
   "metadata": {},
   "outputs": [
    {
     "data": {
      "image/png": "[encoded data removed]",
      "text/plain": [
       "<PIL.PngImagePlugin.PngImageFile image mode=RGB size=1200x600 at 0x240F7B48F28>"
      ]
     },
     "execution_count": 62,
     "metadata": {},
     "output_type": "execute_result"
    }
   ],
   "source": [
    "# Show the products we loaded\n",
    "Chem.Draw.MolsToGridImage([Chem.MolFromSmiles(mol) for mol in alcdhy['products']], molsPerRow=6, subImgSize=(200, 200))"
   ]
  },
  {
   "cell_type": "code",
   "execution_count": 63,
   "metadata": {},
   "outputs": [
    {
     "name": "stdout",
     "output_type": "stream",
     "text": [
      "Is each reactant contained in the DarkChem training set?: [False, False, False, False, True, True, True, True, True, True, True, True, True, True, True, True, True]\n",
      "Is each product contained in the DarkChem training set?: [True, True, True, True, True, False, True, True, True, True, True, True, False, True, True, True, False]\n"
     ]
    }
   ],
   "source": [
    "# Transform the molecules above into vector and check the existance in the training set\n",
    "alcdhy = smi_vec_verify(alcdhy)"
   ]
  },
  {
   "cell_type": "code",
   "execution_count": 64,
   "metadata": {},
   "outputs": [
    {
     "name": "stdout",
     "output_type": "stream",
     "text": [
      "          0         1         2         3         4         5         6   \\\n",
      "0   1.000000  0.576913  0.502995  0.412270  0.345671  0.330784  0.343978   \n",
      "1   0.576913  1.000000  0.916099  0.672300  0.863099  0.778659  0.765092   \n",
      "2   0.502995  0.916099  1.000000  0.860326  0.822517  0.933915  0.909939   \n",
      "3   0.412270  0.672300  0.860326  1.000000  0.574867  0.826805  0.828623   \n",
      "4   0.345671  0.863099  0.822517  0.574867  1.000000  0.856135  0.790154   \n",
      "5   0.330784  0.778659  0.933915  0.826805  0.856135  1.000000  0.933646   \n",
      "6   0.343978  0.765092  0.909939  0.828623  0.790154  0.933646  1.000000   \n",
      "7   0.358882  0.396801  0.327827  0.115406  0.556524  0.382607  0.500829   \n",
      "8   0.269018  0.482008  0.680800  0.885835  0.466856  0.695865  0.741895   \n",
      "9   0.478637  0.659520  0.681790  0.549435  0.598615  0.627557  0.784550   \n",
      "10  0.276164  0.534664  0.801830  0.825773  0.494940  0.848436  0.813047   \n",
      "11  0.313349  0.605863  0.789417  0.799214  0.544088  0.779152  0.932597   \n",
      "12  0.276825  0.597956  0.796539  0.876559  0.567848  0.804947  0.914291   \n",
      "13  0.332876  0.128437  0.345275  0.661301  0.033272  0.328522  0.258736   \n",
      "14  0.383441  0.534390  0.630057  0.645409  0.297525  0.481976  0.556494   \n",
      "15  0.236741  0.450229  0.629916  0.785569  0.451948  0.649398  0.601332   \n",
      "16  0.124453  0.437637  0.616238  0.749271  0.428620  0.621081  0.596553   \n",
      "\n",
      "          7         8         9         10        11        12        13  \\\n",
      "0   0.358882  0.269018  0.478637  0.276164  0.313349  0.276825  0.332876   \n",
      "1   0.396801  0.482008  0.659520  0.534664  0.605863  0.597956  0.128437   \n",
      "2   0.327827  0.680800  0.681790  0.801830  0.789417  0.796539  0.345275   \n",
      "3   0.115406  0.885835  0.549435  0.825773  0.799214  0.876559  0.661301   \n",
      "4   0.556524  0.466856  0.598615  0.494940  0.544088  0.567848  0.033272   \n",
      "5   0.382607  0.695865  0.627557  0.848436  0.779152  0.804947  0.328522   \n",
      "6   0.500829  0.741895  0.784550  0.813047  0.932597  0.914291  0.258736   \n",
      "7   1.000000  0.267590  0.726756  0.126557  0.429157  0.355361 -0.343260   \n",
      "8   0.267590  1.000000  0.590638  0.667420  0.739686  0.844701  0.619393   \n",
      "9   0.726756  0.590638  1.000000  0.515774  0.794977  0.762578  0.028513   \n",
      "10  0.126557  0.667420  0.515774  1.000000  0.822375  0.821978  0.484813   \n",
      "11  0.429157  0.739686  0.794977  0.822375  1.000000  0.947125  0.292305   \n",
      "12  0.355361  0.844701  0.762578  0.821978  0.947125  1.000000  0.418253   \n",
      "13 -0.343260  0.619393  0.028513  0.484813  0.292305  0.418253  1.000000   \n",
      "14 -0.026778  0.557980  0.565036  0.566754  0.622616  0.630647  0.594636   \n",
      "15 -0.073624  0.724018  0.369014  0.620844  0.540846  0.698005  0.771741   \n",
      "16 -0.138234  0.664794  0.304982  0.602124  0.550224  0.672746  0.709899   \n",
      "\n",
      "          14        15        16  \n",
      "0   0.383441  0.236741  0.124453  \n",
      "1   0.534390  0.450229  0.437637  \n",
      "2   0.630057  0.629916  0.616238  \n",
      "3   0.645409  0.785569  0.749271  \n",
      "4   0.297525  0.451948  0.428620  \n",
      "5   0.481976  0.649398  0.621081  \n",
      "6   0.556494  0.601332  0.596553  \n",
      "7  -0.026778 -0.073624 -0.138234  \n",
      "8   0.557980  0.724018  0.664794  \n",
      "9   0.565036  0.369014  0.304982  \n",
      "10  0.566754  0.620844  0.602124  \n",
      "11  0.622616  0.540846  0.550224  \n",
      "12  0.630647  0.698005  0.672746  \n",
      "13  0.594636  0.771741  0.709899  \n",
      "14  1.000000  0.658314  0.661788  \n",
      "15  0.658314  1.000000  0.952867  \n",
      "16  0.661788  0.952867  1.000000  \n"
     ]
    }
   ],
   "source": [
    "# Generate the latent space\n",
    "alcdhy, alcdhyvec = vec_latent_rxn_vector(alcdhy)"
   ]
  },
  {
   "cell_type": "markdown",
   "metadata": {},
   "source": [
    "### Then we perform a prediction according to those several alcohol dehydration reactions we loaded:"
   ]
  },
  {
   "cell_type": "code",
   "execution_count": 77,
   "metadata": {},
   "outputs": [
    {
     "data": {
      "image/png": "[encoded data removed]",
      "text/plain": [
       "<PIL.PngImagePlugin.PngImageFile image mode=RGB size=1000x400 at 0x240F7DE0B00>"
      ]
     },
     "execution_count": 77,
     "metadata": {},
     "output_type": "execute_result"
    }
   ],
   "source": [
    "# Predict a certain molecule in the set which just loaded\n",
    "ethanol = 'CCO'\n",
    "apply_rxn_vector(ethanol, alcdhyvec, savefilename='Alcohol_Dehydration')"
   ]
  },
  {
   "cell_type": "markdown",
   "metadata": {},
   "source": [
    "We can see there are 8 outputs for the alcohol underwent the dehydration reaction, those outputs are pretty reasonable and several data will be calculated later."
   ]
  },
  {
   "cell_type": "code",
   "execution_count": 78,
   "metadata": {},
   "outputs": [
    {
     "data": {
      "image/png": "[encoded data removed]",
      "text/plain": [
       "<PIL.PngImagePlugin.PngImageFile image mode=RGB size=1000x400 at 0x240F7E17C50>"
      ]
     },
     "execution_count": 78,
     "metadata": {},
     "output_type": "execute_result"
    }
   ],
   "source": [
    "# Predict a new molecule which is not in the set\n",
    "methanol = 'CO'\n",
    "apply_rxn_vector(methanol, alcdhyvec, savefilename='Methanol_Dehydration')"
   ]
  },
  {
   "cell_type": "markdown",
   "metadata": {},
   "source": [
    "But when we predict a molecule that is not in the set which we loaded, the output become so nonsense, the reason why may be that we need to load more reactions."
   ]
  },
  {
   "cell_type": "markdown",
   "metadata": {},
   "source": [
    "### Perform the first task: \n",
    "* Calculate the average and std dev of angle and magnitude of each vectors of reaction path"
   ]
  },
  {
   "cell_type": "code",
   "execution_count": 66,
   "metadata": {},
   "outputs": [],
   "source": [
    "# Put those vectors into DataFrame\n",
    "rct = pd.DataFrame(alcdhy['rlat'])\n",
    "prod = pd.DataFrame(alcdhy['plat'])"
   ]
  },
  {
   "cell_type": "code",
   "execution_count": 67,
   "metadata": {},
   "outputs": [],
   "source": [
    "# Calcualte the lengh of each reaction path\n",
    "d1 = []\n",
    "for i in range(16):\n",
    "    s1 = 0\n",
    "    for j in range(128):\n",
    "        s1 += (rct.loc[i][j] - prod.loc[i][j])**2\n",
    "    ds1 = np.sqrt(s1)\n",
    "    d1.append(ds1)\n",
    "    \n",
    "# Calculate the average length of the Alcohol Dehydration reaction path\n",
    "sum1 = 0\n",
    "for num in d1:\n",
    "    sum1 = sum1 + num\n",
    "    average1 = sum1 / len(d1)\n",
    "\n",
    "# Calculate the std length of the Alcohol Dehydration reaction path\n",
    "std1 = statistics.stdev(d1)"
   ]
  },
  {
   "cell_type": "code",
   "execution_count": 68,
   "metadata": {},
   "outputs": [],
   "source": [
    "# Calculate the dot product of each reaction\n",
    "d2 = []\n",
    "for i in range(16):\n",
    "    s2 = 0\n",
    "    for j in range(128):\n",
    "        s2 += (rct.loc[i][j] * prod.loc[i][j])\n",
    "    #ds = np.sqrt(s)\n",
    "    d2.append(s2)\n",
    "\n",
    "\n",
    "# Calculate the product of each reactant and product\n",
    "d3 = []\n",
    "for i in range(16):\n",
    "    s3 = 0\n",
    "    s4 = 0\n",
    "    for j in range(128):\n",
    "        s3 += (rct.loc[i][j])**2\n",
    "        s4 += (prod.loc[i][j])**2\n",
    "    dd = np.sqrt(s3)\n",
    "    dx = np.sqrt(s4)\n",
    "    xx = dd*dx\n",
    "    d3.append(xx)\n",
    "\n",
    "# Insert the formula of Cosine theorem\n",
    "a1 = []\n",
    "for i in range(16):\n",
    "    cos = d2[i]/d3[i]  #this is the value of cos(sita)\n",
    "    angle = math.acos(cos)  #this is the value of sita\n",
    "    degree = math.degrees(angle)\n",
    "    a1.append(degree)\n",
    "\n",
    "# Calculate the average angle of the Alcohol Dehydration reaction path    \n",
    "sum2 = 0\n",
    "for num in a1:\n",
    "    sum2 = sum2 +num\n",
    "    average2 = sum2 / len(a1)\n",
    "    \n",
    "# Calculate the std angle of the Alcohol Dehydration reaction path\n",
    "std2 = statistics.stdev(a1)"
   ]
  },
  {
   "cell_type": "code",
   "execution_count": 69,
   "metadata": {},
   "outputs": [
    {
     "data": {
      "text/html": [
       "<div>\n",
       "<style scoped>\n",
       "    .dataframe tbody tr th:only-of-type {\n",
       "        vertical-align: middle;\n",
       "    }\n",
       "\n",
       "    .dataframe tbody tr th {\n",
       "        vertical-align: top;\n",
       "    }\n",
       "\n",
       "    .dataframe thead th {\n",
       "        text-align: right;\n",
       "    }\n",
       "</style>\n",
       "<table border=\"1\" class=\"dataframe\">\n",
       "  <thead>\n",
       "    <tr style=\"text-align: right;\">\n",
       "      <th></th>\n",
       "      <th>Length</th>\n",
       "      <th>Angle</th>\n",
       "    </tr>\n",
       "  </thead>\n",
       "  <tbody>\n",
       "    <tr>\n",
       "      <th>0</th>\n",
       "      <td>1.269720</td>\n",
       "      <td>6.557519</td>\n",
       "    </tr>\n",
       "    <tr>\n",
       "      <th>1</th>\n",
       "      <td>1.636268</td>\n",
       "      <td>7.447628</td>\n",
       "    </tr>\n",
       "    <tr>\n",
       "      <th>2</th>\n",
       "      <td>2.443346</td>\n",
       "      <td>9.868103</td>\n",
       "    </tr>\n",
       "    <tr>\n",
       "      <th>3</th>\n",
       "      <td>2.699125</td>\n",
       "      <td>11.410984</td>\n",
       "    </tr>\n",
       "    <tr>\n",
       "      <th>4</th>\n",
       "      <td>1.128713</td>\n",
       "      <td>5.446769</td>\n",
       "    </tr>\n",
       "    <tr>\n",
       "      <th>5</th>\n",
       "      <td>1.878527</td>\n",
       "      <td>7.536548</td>\n",
       "    </tr>\n",
       "    <tr>\n",
       "      <th>6</th>\n",
       "      <td>2.818934</td>\n",
       "      <td>11.546560</td>\n",
       "    </tr>\n",
       "    <tr>\n",
       "      <th>7</th>\n",
       "      <td>2.297741</td>\n",
       "      <td>12.198793</td>\n",
       "    </tr>\n",
       "    <tr>\n",
       "      <th>8</th>\n",
       "      <td>2.407054</td>\n",
       "      <td>10.139649</td>\n",
       "    </tr>\n",
       "    <tr>\n",
       "      <th>9</th>\n",
       "      <td>3.231560</td>\n",
       "      <td>14.327829</td>\n",
       "    </tr>\n",
       "    <tr>\n",
       "      <th>10</th>\n",
       "      <td>0.938071</td>\n",
       "      <td>3.949303</td>\n",
       "    </tr>\n",
       "    <tr>\n",
       "      <th>11</th>\n",
       "      <td>1.928380</td>\n",
       "      <td>8.277491</td>\n",
       "    </tr>\n",
       "    <tr>\n",
       "      <th>12</th>\n",
       "      <td>2.795266</td>\n",
       "      <td>11.551396</td>\n",
       "    </tr>\n",
       "    <tr>\n",
       "      <th>13</th>\n",
       "      <td>2.955986</td>\n",
       "      <td>16.730901</td>\n",
       "    </tr>\n",
       "    <tr>\n",
       "      <th>14</th>\n",
       "      <td>2.651165</td>\n",
       "      <td>13.641103</td>\n",
       "    </tr>\n",
       "    <tr>\n",
       "      <th>15</th>\n",
       "      <td>3.677739</td>\n",
       "      <td>18.067513</td>\n",
       "    </tr>\n",
       "  </tbody>\n",
       "</table>\n",
       "</div><div>\n",
       "<style scoped>\n",
       "    .dataframe tbody tr th:only-of-type {\n",
       "        vertical-align: middle;\n",
       "    }\n",
       "\n",
       "    .dataframe tbody tr th {\n",
       "        vertical-align: top;\n",
       "    }\n",
       "\n",
       "    .dataframe thead th {\n",
       "        text-align: right;\n",
       "    }\n",
       "</style>\n",
       "<table border=\"1\" class=\"dataframe\">\n",
       "  <thead>\n",
       "    <tr style=\"text-align: right;\">\n",
       "      <th></th>\n",
       "      <th>Average</th>\n",
       "      <th>Std</th>\n",
       "      <th>Average</th>\n",
       "      <th>Std</th>\n",
       "    </tr>\n",
       "  </thead>\n",
       "  <tbody>\n",
       "    <tr>\n",
       "      <th>0</th>\n",
       "      <td>2.29735</td>\n",
       "      <td>0.777599</td>\n",
       "      <td>10.543631</td>\n",
       "      <td>3.950138</td>\n",
       "    </tr>\n",
       "  </tbody>\n",
       "</table>\n",
       "</div>"
      ]
     },
     "metadata": {},
     "output_type": "display_data"
    }
   ],
   "source": [
    "# Put the length and angle into dataframe\n",
    "df1 = {'d1':d1,'a1':a1}\n",
    "df2 = {'average1':average1, 'std1':std1, 'average2':average2, 'std2':std2}\n",
    "df1 = pd.DataFrame(df1)\n",
    "df2 = pd.DataFrame(df2, index = [0])\n",
    "df1.columns = ['Length', 'Angle']\n",
    "df2.columns = ['Average', 'Std', 'Average', 'Std']\n",
    "display_html(df1._repr_html_()+df2._repr_html_(), raw=True)"
   ]
  },
  {
   "cell_type": "markdown",
   "metadata": {},
   "source": [
    "The above are the length and angle for each reaction in training sets include their average and std, we can see that the length are between 0.9 and 3.7, the angle are between 6 to 18 degrees."
   ]
  },
  {
   "cell_type": "markdown",
   "metadata": {},
   "source": [
    "### Perform the second task:\n",
    "* Calculate the difference between the predicted vectors and the actual vectors"
   ]
  },
  {
   "cell_type": "code",
   "execution_count": 70,
   "metadata": {},
   "outputs": [],
   "source": [
    "# Identify the predicted product in the latent space\n",
    "smistr = 'CCO'\n",
    "rxnvec = alcdhyvec\n",
    "nummols = 10\n",
    "\n",
    "testvec = darkchem.utils.struct2vec(smistr).astype(np.int16)\n",
    "array_in_nd_array(testvec, x)\n",
    "    \n",
    "testlat = model.encoder.predict(np.array(testvec.reshape(-1,100)))\n",
    "    \n",
    "testprod = testlat + rxnvec\n",
    "testpvec = model.decoder.predict(testprod)\n",
    "testprods = darkchem.utils.beamsearch(testpvec, k=nummols)\n",
    "    \n",
    "predictions = {}\n",
    "    \n",
    "predictions['predprod'] = [darkchem.utils.vec2struct(i) for i in testprods[0]]"
   ]
  },
  {
   "cell_type": "code",
   "execution_count": 71,
   "metadata": {},
   "outputs": [],
   "source": [
    "# Locate the predicted product in the latent space\n",
    "reactant = {'reactants':['CCO','CCO','CCO','CCO','CCO','CCO','CCO','CCO','CCO','CCO']}\n",
    "actualprod = {'products':['CCOCC','CCOCC','CCOCC','CCOCC','CCOCC','CCOCC','CCOCC','CCOCC','CCOCC','CCOCC']}\n",
    "\n",
    "reactantvect = {}\n",
    "actualprodvect = {}\n",
    "predictionsvect = {}\n",
    "\n",
    "reactantvect['reactant'] = [darkchem.utils.struct2vec(reactant).astype(np.int16) for reactant in reactant['reactants']]\n",
    "actualprodvect['actualprod'] = [darkchem.utils.struct2vec(product).astype(np.int16) for product in actualprod['products']]\n",
    "predictionsvect['predprod'] = [darkchem.utils.struct2vec(product).astype(np.int16) for product in predictions['predprod']]\n",
    "\n",
    "reactantvect['reactantlat'] = model.encoder.predict(np.array(reactantvect['reactant']))\n",
    "actualprodvect['actualprodlat'] = model.encoder.predict(np.array(actualprodvect['actualprod']))\n",
    "predictionsvect['predprodlat'] = model.encoder.predict(np.array(predictionsvect['predprod']))"
   ]
  },
  {
   "cell_type": "code",
   "execution_count": 72,
   "metadata": {},
   "outputs": [],
   "source": [
    "# Put those vectors into DataFrame\n",
    "rct = pd.DataFrame(reactantvect['reactantlat'])\n",
    "aprod = pd.DataFrame(actualprodvect['actualprodlat'])\n",
    "pprod = pd.DataFrame(predictionsvect['predprodlat'])"
   ]
  },
  {
   "cell_type": "code",
   "execution_count": 73,
   "metadata": {},
   "outputs": [],
   "source": [
    "# Calcualte the lengh between each predicted product and actual product\n",
    "d4 = []\n",
    "for i in range(10):\n",
    "    s5 = 0\n",
    "    for j in range(128):\n",
    "        s5 += (pprod.loc[i][j] - aprod.loc[i][j])**2\n",
    "    ds2 = np.sqrt(s5)\n",
    "    d4.append(ds2)\n",
    "    \n",
    "# Calculate the average lengh between each predicted product and actual product\n",
    "sum3 = 0\n",
    "for num in d4:\n",
    "    sum3 = sum3 +num\n",
    "    average3 = sum3 / len(d4)\n",
    "\n",
    "# Calculate the std of length between each predicted product and actual product\n",
    "std3 = statistics.stdev(d4)"
   ]
  },
  {
   "cell_type": "code",
   "execution_count": 74,
   "metadata": {},
   "outputs": [],
   "source": [
    "# Calcualte the lengh of the vector for each predicted product\n",
    "d5 = []\n",
    "for i in range(10):\n",
    "    s6 = 0\n",
    "    for j in range(128):\n",
    "        s6 += (pprod.loc[i][j] - rct.loc[i][j])**2\n",
    "    ds3 = np.sqrt(s6)\n",
    "    d5.append(ds3)\n",
    "    \n",
    "# Calculate the average lengh of the vector for each predicted product\n",
    "sum4 = 0\n",
    "for num in d5:\n",
    "    sum4 = sum4 +num\n",
    "    average4 = sum4 / len(d5)\n",
    "\n",
    "# Calculate the std of length of the vector for each predicted product\n",
    "std4 = statistics.stdev(d5)"
   ]
  },
  {
   "cell_type": "code",
   "execution_count": 75,
   "metadata": {},
   "outputs": [],
   "source": [
    "# Calculate the dot product of each reaction\n",
    "d6= []\n",
    "for i in range(10):\n",
    "    s7 = 0\n",
    "    for j in range(128):\n",
    "        s7 += (rct.loc[i][j] * pprod.loc[i][j])\n",
    "    #ds = np.sqrt(s)\n",
    "    d6.append(s7)\n",
    "\n",
    "\n",
    "# Calculate the product of each reactant and product\n",
    "d7= []\n",
    "for i in range(10):\n",
    "    s8 = 0\n",
    "    s9 = 0\n",
    "    for j in range(128):\n",
    "        s8 += (rct.loc[i][j])**2\n",
    "        s9 += (pprod.loc[i][j])**2\n",
    "    dd = np.sqrt(s8)\n",
    "    dx = np.sqrt(s9)\n",
    "    xx = dd*dx\n",
    "    d7.append(xx)\n",
    "\n",
    "# Insert the formula of Cosine theorem\n",
    "a2 = []\n",
    "for i in range(10):\n",
    "    cos = d2[i]/d3[i]  #this is the value of cos(sita)\n",
    "    angle = math.acos(cos)  #this is the value of sita\n",
    "    degree = math.degrees(angle)\n",
    "    a2.append(degree)\n",
    "\n",
    "# Calculate the average angle of each predicted Alcohol Dehydration reaction path    \n",
    "sum5 = 0\n",
    "for num in a2:\n",
    "    sum5 = sum5 +num\n",
    "    average5 = sum5 / len(a2)\n",
    "    \n",
    "# Calculate the std angle of each predicted Alcohol Dehydration reaction path\n",
    "std5 = statistics.stdev(a2)"
   ]
  },
  {
   "cell_type": "code",
   "execution_count": 76,
   "metadata": {},
   "outputs": [
    {
     "data": {
      "text/html": [
       "<div>\n",
       "<style scoped>\n",
       "    .dataframe tbody tr th:only-of-type {\n",
       "        vertical-align: middle;\n",
       "    }\n",
       "\n",
       "    .dataframe tbody tr th {\n",
       "        vertical-align: top;\n",
       "    }\n",
       "\n",
       "    .dataframe thead th {\n",
       "        text-align: right;\n",
       "    }\n",
       "</style>\n",
       "<table border=\"1\" class=\"dataframe\">\n",
       "  <thead>\n",
       "    <tr style=\"text-align: right;\">\n",
       "      <th></th>\n",
       "      <th>Distance between each predicted product and actual product</th>\n",
       "      <th>Length of each predicted reaction vector</th>\n",
       "      <th>Angle of each predicted reaction vector</th>\n",
       "    </tr>\n",
       "  </thead>\n",
       "  <tbody>\n",
       "    <tr>\n",
       "      <th>0</th>\n",
       "      <td>1.149738</td>\n",
       "      <td>2.443346</td>\n",
       "      <td>6.557519</td>\n",
       "    </tr>\n",
       "    <tr>\n",
       "      <th>1</th>\n",
       "      <td>1.081474</td>\n",
       "      <td>2.230340</td>\n",
       "      <td>7.447628</td>\n",
       "    </tr>\n",
       "    <tr>\n",
       "      <th>2</th>\n",
       "      <td>1.373985</td>\n",
       "      <td>2.477477</td>\n",
       "      <td>9.868103</td>\n",
       "    </tr>\n",
       "    <tr>\n",
       "      <th>3</th>\n",
       "      <td>1.410727</td>\n",
       "      <td>2.410955</td>\n",
       "      <td>11.410984</td>\n",
       "    </tr>\n",
       "    <tr>\n",
       "      <th>4</th>\n",
       "      <td>1.232006</td>\n",
       "      <td>1.811045</td>\n",
       "      <td>5.446769</td>\n",
       "    </tr>\n",
       "    <tr>\n",
       "      <th>5</th>\n",
       "      <td>1.347436</td>\n",
       "      <td>1.800887</td>\n",
       "      <td>7.536548</td>\n",
       "    </tr>\n",
       "    <tr>\n",
       "      <th>6</th>\n",
       "      <td>0.000000</td>\n",
       "      <td>1.636268</td>\n",
       "      <td>11.546560</td>\n",
       "    </tr>\n",
       "    <tr>\n",
       "      <th>7</th>\n",
       "      <td>0.498640</td>\n",
       "      <td>1.598143</td>\n",
       "      <td>12.198793</td>\n",
       "    </tr>\n",
       "    <tr>\n",
       "      <th>8</th>\n",
       "      <td>0.900040</td>\n",
       "      <td>1.655188</td>\n",
       "      <td>10.139649</td>\n",
       "    </tr>\n",
       "    <tr>\n",
       "      <th>9</th>\n",
       "      <td>1.074499</td>\n",
       "      <td>1.615253</td>\n",
       "      <td>14.327829</td>\n",
       "    </tr>\n",
       "  </tbody>\n",
       "</table>\n",
       "</div><div>\n",
       "<style scoped>\n",
       "    .dataframe tbody tr th:only-of-type {\n",
       "        vertical-align: middle;\n",
       "    }\n",
       "\n",
       "    .dataframe tbody tr th {\n",
       "        vertical-align: top;\n",
       "    }\n",
       "\n",
       "    .dataframe thead th {\n",
       "        text-align: right;\n",
       "    }\n",
       "</style>\n",
       "<table border=\"1\" class=\"dataframe\">\n",
       "  <thead>\n",
       "    <tr style=\"text-align: right;\">\n",
       "      <th></th>\n",
       "      <th>Average</th>\n",
       "      <th>Std</th>\n",
       "      <th>Average</th>\n",
       "      <th>Std</th>\n",
       "      <th>Average</th>\n",
       "      <th>Std</th>\n",
       "    </tr>\n",
       "  </thead>\n",
       "  <tbody>\n",
       "    <tr>\n",
       "      <th>0</th>\n",
       "      <td>1.006854</td>\n",
       "      <td>0.444546</td>\n",
       "      <td>1.96789</td>\n",
       "      <td>0.375978</td>\n",
       "      <td>9.648038</td>\n",
       "      <td>2.826687</td>\n",
       "    </tr>\n",
       "  </tbody>\n",
       "</table>\n",
       "</div>"
      ]
     },
     "metadata": {},
     "output_type": "display_data"
    }
   ],
   "source": [
    "# Put the length and angle into dataframe\n",
    "df3 = {'d4':d4, 'd5':d5, 'a2':a2}\n",
    "df4 = {'average3':average3, 'std3':std3, 'average4':average4, 'std4':std4, 'average5':average5, 'std5':std5}\n",
    "df3 = pd.DataFrame(df3)\n",
    "df4 = pd.DataFrame(df4, index = [0])\n",
    "df3.columns = ['Distance between each predicted product and actual product', 'Length of each predicted reaction vector', 'Angle of each predicted reaction vector']\n",
    "df4.columns = ['Average', 'Std', 'Average', 'Std', 'Average', 'Std']\n",
    "display_html(df3._repr_html_()+df4._repr_html_(), raw=True)"
   ]
  },
  {
   "cell_type": "markdown",
   "metadata": {},
   "source": [
    "This table shows that:"
   ]
  },
  {
   "cell_type": "markdown",
   "metadata": {},
   "source": [
    "* The distance between each predicted product and actual product\t\n",
    "* The length of each predicted reaction vector\n",
    "* The angle of each predicted reaction vector"
   ]
  },
  {
   "cell_type": "markdown",
   "metadata": {},
   "source": [
    "From the distance between each predicted product and actual product, we can find that the 7th ( showed up as the 4 th product in beamsearch) predicted product is the correct product we want, but on the other hand, the rest of the product are also in the \"ether\" group, so they are also possible to be the product for an alcohol to undergo the dehydration reaction, so we think the prediction are pretty accurate so far."
   ]
  },
  {
   "cell_type": "markdown",
   "metadata": {},
   "source": [
    "#### The differences bewteen the actual and the predicted reaction vectors:\n",
    "| Index         |   Length|    Angle| \n",
    "|---------------|---------|---------|\n",
    "|         Actual| 1.269720| 6.557519|\n",
    "| Predicted(Avg)| 1.967890| 9.648038|\n",
    "| Predicted(Std)| 0.375978| 2.826687|"
   ]
  },
  {
   "cell_type": "markdown",
   "metadata": {},
   "source": [
    "From the table above, we can see that the length and angle of actual reaction (alcohol to ether) is 1.26972 and 6.557519 degree respectively, and average length and angle calculated from those 10 predicted reactions is 1.96789 and 9.648038 degree."
   ]
  },
  {
   "cell_type": "markdown",
   "metadata": {},
   "source": [
    "In this point, to add more reactions to training set may be a way to increase the accuracy of the prediction."
   ]
  },
  {
   "cell_type": "markdown",
   "metadata": {},
   "source": [
    "### Perform the third task:\n",
    "* Perform a deeper analysis of the molecules generated within 1 std dev of the average vector"
   ]
  },
  {
   "cell_type": "code",
   "execution_count": null,
   "metadata": {},
   "outputs": [],
   "source": []
  }
 ],
 "metadata": {
  "kernelspec": {
   "display_name": "Python 3",
   "language": "python",
   "name": "python3"
  },
  "language_info": {
   "codemirror_mode": {
    "name": "ipython",
    "version": 3
   },
   "file_extension": ".py",
   "mimetype": "text/x-python",
   "name": "python",
   "nbconvert_exporter": "python",
   "pygments_lexer": "ipython3",
   "version": "3.6.8"
  }
 },
 "nbformat": 4,
 "nbformat_minor": 2
}
