{
 "cells": [
  {
   "cell_type": "code",
   "execution_count": 2,
   "metadata": {},
   "outputs": [
    {
     "name": "stderr",
     "output_type": "stream",
     "text": [
      "Using TensorFlow backend.\n"
     ]
    }
   ],
   "source": [
    "import pandas as pd\n",
    "import numpy as np\n",
    "import darkchem\n",
    "import math"
   ]
  },
  {
   "cell_type": "markdown",
   "metadata": {},
   "source": [
    "#### Several reactions of Benzene: `H2SO4` `HNO3` `CH3` `Acetophenone`"
   ]
  },
  {
   "cell_type": "code",
   "execution_count": 3,
   "metadata": {},
   "outputs": [],
   "source": [
    "# Load reactants \n",
    "smi_in = {'reactants':['c1ccccc1','c1ccccc1','c1ccccc1','c1ccccc1']}\n",
    "# Load products  \n",
    "smi_out = {'products':['OS(c1ccccc1)(O)O','ON(c1ccccc1)O','Cc1ccccc1','CC(=O)c1ccccc1']}       \n",
    "# Transform to DataFrame\n",
    "smi_in = pd.DataFrame(smi_in)  \n",
    "smi_out = pd.DataFrame(smi_out)\n",
    "# Represent reactants in the form of vector\n",
    "rct = [darkchem.utils.struct2vec(smi) for smi in smi_in['reactants']]  \n",
    "# Represent prodcuts in the form of vector\n",
    "prod = [darkchem.utils.struct2vec(smi) for smi in smi_out['products']] "
   ]
  },
  {
   "cell_type": "code",
   "execution_count": 4,
   "metadata": {},
   "outputs": [],
   "source": [
    "# Put those vectors into DataFrame\n",
    "rct = pd.DataFrame(rct)\n",
    "prod = pd.DataFrame(prod)"
   ]
  },
  {
   "cell_type": "code",
   "execution_count": 8,
   "metadata": {},
   "outputs": [
    {
     "name": "stdout",
     "output_type": "stream",
     "text": [
      "The length of each reaction path = [52.706735812417755, 65.43699259593154, 67.72739475278819, 76.8830280361017]\n"
     ]
    }
   ],
   "source": [
    "# Calcualte the lengh of each reaction path\n",
    "s = 0\n",
    "d = []\n",
    "for i in range(4):\n",
    "    for j in range(100):\n",
    "        s += (rct.loc[i][j] - prod.loc[i][j])**2\n",
    "    ds = np.sqrt(s)\n",
    "    d.append(ds)\n",
    "print('The length of each reaction path =', d)"
   ]
  },
  {
   "cell_type": "code",
   "execution_count": 6,
   "metadata": {},
   "outputs": [
    {
     "name": "stdout",
     "output_type": "stream",
     "text": [
      "The angle between the vectors of reactants and products of each reactions =\n",
      "[1.052329946187754, 0.9951601656470028, 0.9469617135923684, 0.8613795706871101]\n"
     ]
    }
   ],
   "source": [
    "# Calculate the dot product of each reaction\n",
    "s2 = 0\n",
    "d2= []\n",
    "for i in range(4):\n",
    "    for j in range(100):\n",
    "        s2 += (rct.loc[i][j] * prod.loc[i][j])\n",
    "    #ds = np.sqrt(s)\n",
    "    d2.append(s2)\n",
    "\n",
    "\n",
    "# Calculate the product of each reactant and product\n",
    "s3 = 0\n",
    "s4 = 0\n",
    "d3= []\n",
    "for i in range(4):\n",
    "    for j in range(100):\n",
    "        s3 += (rct.loc[i][j])**2\n",
    "        s4 += (prod.loc[i][j])**2\n",
    "    dd = np.sqrt(s3)\n",
    "    dx = np.sqrt(s4)\n",
    "    xx = dd*dx\n",
    "    d3.append(xx)\n",
    "\n",
    "# Insert the formula of Cosine theorem\n",
    "a = []\n",
    "for i in range(4):\n",
    "    cos = d2[i]/d3[i]  #this is the value of cos(sita)\n",
    "    angle = math.acos(cos)  #this is the value of sita\n",
    "    a.append(angle)\n",
    "print('The angle between the vectors of reactants and products of each reactions =')\n",
    "print(a)\n"
   ]
  },
  {
   "cell_type": "markdown",
   "metadata": {},
   "source": [
    "#### Benzene\n",
    "| Index |H2SO4| HNO3| CH3 |C2H4O|\n",
    "|-------|-----|-----|-----|-----|\n",
    "| Length| 52.7| 65.4| 67.7| 76.8|\n",
    "| Angle | 1.05| 0.99| 0.94| 0.86|"
   ]
  },
  {
   "cell_type": "code",
   "execution_count": null,
   "metadata": {},
   "outputs": [],
   "source": []
  }
 ],
 "metadata": {
  "kernelspec": {
   "display_name": "Python 3",
   "language": "python",
   "name": "python3"
  },
  "language_info": {
   "codemirror_mode": {
    "name": "ipython",
    "version": 3
   },
   "file_extension": ".py",
   "mimetype": "text/x-python",
   "name": "python",
   "nbconvert_exporter": "python",
   "pygments_lexer": "ipython3",
   "version": "3.6.8"
  }
 },
 "nbformat": 4,
 "nbformat_minor": 2
}
