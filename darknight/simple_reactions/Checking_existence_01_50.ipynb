{
 "cells": [
  {
   "cell_type": "code",
   "execution_count": 1,
   "metadata": {},
   "outputs": [
    {
     "name": "stderr",
     "output_type": "stream",
     "text": [
      "Using TensorFlow backend.\n"
     ]
    }
   ],
   "source": [
    "import math\n",
    "\n",
    "import numpy as np\n",
    "import pandas as pd\n",
    "import darkchem"
   ]
  },
  {
   "cell_type": "code",
   "execution_count": 2,
   "metadata": {},
   "outputs": [
    {
     "name": "stdout",
     "output_type": "stream",
     "text": [
      "WARNING:tensorflow:From C:\\Users\\user\\Anaconda3\\envs\\my-rdkit-env\\lib\\site-packages\\tensorflow\\python\\framework\\op_def_library.py:263: colocate_with (from tensorflow.python.framework.ops) is deprecated and will be removed in a future version.\n",
      "Instructions for updating:\n",
      "Colocations handled automatically by placer.\n",
      "WARNING:tensorflow:From C:\\Users\\user\\Anaconda3\\envs\\my-rdkit-env\\lib\\site-packages\\keras\\backend\\tensorflow_backend.py:3445: calling dropout (from tensorflow.python.ops.nn_ops) with keep_prob is deprecated and will be removed in a future version.\n",
      "Instructions for updating:\n",
      "Please use `rate` instead of `keep_prob`. Rate should be set to `rate = 1 - keep_prob`.\n"
     ]
    }
   ],
   "source": [
    "# load model\n",
    "model = darkchem.utils.load_model('../../../DarKnight_File/Final Trained DarkChem Network Weights/N7b_[M+H]/')"
   ]
  },
  {
   "cell_type": "code",
   "execution_count": 10,
   "metadata": {},
   "outputs": [],
   "source": [
    "# load training data\n",
    "x = np.load('../../../DarKnight_File/Training Data - Molecules/combined_[M+H]_smiles.npy')\n",
    "y = np.load('../../../DarKnight_File/Training Data - Molecules/combined_[M+H]_labels.npy') "
   ]
  },
  {
   "cell_type": "code",
   "execution_count": 11,
   "metadata": {},
   "outputs": [],
   "source": [
    "# tranform nd.array to list\n",
    "x = x.tolist()"
   ]
  },
  {
   "cell_type": "code",
   "execution_count": null,
   "metadata": {},
   "outputs": [],
   "source": []
  },
  {
   "cell_type": "code",
   "execution_count": 5,
   "metadata": {},
   "outputs": [],
   "source": [
    "def array_in_nd_array(test, array):\n",
    "    \"\"\"\n",
    "    Checks whether or not a test 1D array is contained within a full ND array.\n",
    "    Returns True if the test array is equal to any of the dimensions of the ND array.\n",
    "    Returns False if the test array does not match any dimension of the ND array.\n",
    "    \"\"\"\n",
    "    return any(np.array_equal(x, test) for x in array)"
   ]
  },
  {
   "cell_type": "code",
   "execution_count": 27,
   "metadata": {},
   "outputs": [],
   "source": [
    "# choose several simple reduction reactions\n",
    "smiles = {'reactants': ['CC(=O)C', 'CCC(=O)C', 'CCCC(=O)C', 'CCC(=O)CC', 'CC(=O)CC(=O)C', 'CCCC(=O)C(=O)C', \n",
    "                        'CC(=O)CCC(=O)C', 'CCCC(=O)CC', 'O=C1CCCCC1', 'O=C1CCCC1C', 'COCC(=O)C', 'CC(=O)c1ccccc1'], \n",
    "        'products': ['CC(O)C', 'CCC(O)C', 'CCCC(O)C', 'CCC(CC)O', 'CC(CC(O)C)O', 'CCCC(C(O)C)O', \n",
    "                     'CC(CCC(O)C)O', 'CCCC(CC)O', 'OC1CCCCC1', 'OC1CCCC1C', 'COCC(O)C', 'CC(c1ccccc1)O']}"
   ]
  },
  {
   "cell_type": "code",
   "execution_count": 28,
   "metadata": {},
   "outputs": [],
   "source": [
    "# match the name of each molecules\n",
    "names = {'reactants': ['Acetone', 'Butanone', '2-Pentanone', '3-Pentanone', '3-Hexanone', '2,3-Hexanedione', \n",
    "                       '2,5-Hexanedione', 'Cyclohexanone', '2-Methylcyclopentanone', '2,4-pentanedione', '1-methoxy-2-propanone', 'Acetophenone'], \n",
    "        'products': ['isopropanol', '2-butyl alcohol', '2-Pentanol', '3-Pentanol', '3-Hexanol', '2,3-Hexanediol',\n",
    "                    '2,5-Hexanediol', 'Cyclohexanol', '2-Methylcyclopentanol', '2,4-pentanediol', '1-methoxy-2-propanol', 'Acetophenol']}"
   ]
  },
  {
   "cell_type": "code",
   "execution_count": 37,
   "metadata": {},
   "outputs": [
    {
     "data": {
      "text/html": [
       "<div>\n",
       "<style scoped>\n",
       "    .dataframe tbody tr th:only-of-type {\n",
       "        vertical-align: middle;\n",
       "    }\n",
       "\n",
       "    .dataframe tbody tr th {\n",
       "        vertical-align: top;\n",
       "    }\n",
       "\n",
       "    .dataframe thead th {\n",
       "        text-align: right;\n",
       "    }\n",
       "</style>\n",
       "<table border=\"1\" class=\"dataframe\">\n",
       "  <thead>\n",
       "    <tr style=\"text-align: right;\">\n",
       "      <th></th>\n",
       "      <th>reactants</th>\n",
       "      <th>reactants_smile_strings</th>\n",
       "      <th>products</th>\n",
       "      <th>products_smile_strings</th>\n",
       "    </tr>\n",
       "  </thead>\n",
       "  <tbody>\n",
       "    <tr>\n",
       "      <th>0</th>\n",
       "      <td>Acetone</td>\n",
       "      <td>CC(=O)C</td>\n",
       "      <td>isopropanol</td>\n",
       "      <td>CC(O)C</td>\n",
       "    </tr>\n",
       "    <tr>\n",
       "      <th>1</th>\n",
       "      <td>Butanone</td>\n",
       "      <td>CCC(=O)C</td>\n",
       "      <td>2-butyl alcohol</td>\n",
       "      <td>CCC(O)C</td>\n",
       "    </tr>\n",
       "    <tr>\n",
       "      <th>2</th>\n",
       "      <td>2-Pentanone</td>\n",
       "      <td>CCCC(=O)C</td>\n",
       "      <td>2-Pentanol</td>\n",
       "      <td>CCCC(O)C</td>\n",
       "    </tr>\n",
       "    <tr>\n",
       "      <th>3</th>\n",
       "      <td>3-Pentanone</td>\n",
       "      <td>CCC(=O)CC</td>\n",
       "      <td>3-Pentanol</td>\n",
       "      <td>CCC(CC)O</td>\n",
       "    </tr>\n",
       "    <tr>\n",
       "      <th>4</th>\n",
       "      <td>3-Hexanone</td>\n",
       "      <td>CC(=O)CC(=O)C</td>\n",
       "      <td>3-Hexanol</td>\n",
       "      <td>CC(CC(O)C)O</td>\n",
       "    </tr>\n",
       "    <tr>\n",
       "      <th>5</th>\n",
       "      <td>2,3-Hexanedione</td>\n",
       "      <td>CCCC(=O)C(=O)C</td>\n",
       "      <td>2,3-Hexanediol</td>\n",
       "      <td>CCCC(C(O)C)O</td>\n",
       "    </tr>\n",
       "    <tr>\n",
       "      <th>6</th>\n",
       "      <td>2,5-Hexanedione</td>\n",
       "      <td>CC(=O)CCC(=O)C</td>\n",
       "      <td>2,5-Hexanediol</td>\n",
       "      <td>CC(CCC(O)C)O</td>\n",
       "    </tr>\n",
       "    <tr>\n",
       "      <th>7</th>\n",
       "      <td>Cyclohexanone</td>\n",
       "      <td>CCCC(=O)CC</td>\n",
       "      <td>Cyclohexanol</td>\n",
       "      <td>CCCC(CC)O</td>\n",
       "    </tr>\n",
       "    <tr>\n",
       "      <th>8</th>\n",
       "      <td>2-Methylcyclopentanone</td>\n",
       "      <td>O=C1CCCCC1</td>\n",
       "      <td>2-Methylcyclopentanol</td>\n",
       "      <td>OC1CCCCC1</td>\n",
       "    </tr>\n",
       "    <tr>\n",
       "      <th>9</th>\n",
       "      <td>2,4-pentanedione</td>\n",
       "      <td>O=C1CCCC1C</td>\n",
       "      <td>2,4-pentanediol</td>\n",
       "      <td>OC1CCCC1C</td>\n",
       "    </tr>\n",
       "    <tr>\n",
       "      <th>10</th>\n",
       "      <td>1-methoxy-2-propanone</td>\n",
       "      <td>COCC(=O)C</td>\n",
       "      <td>1-methoxy-2-propanol</td>\n",
       "      <td>COCC(O)C</td>\n",
       "    </tr>\n",
       "    <tr>\n",
       "      <th>11</th>\n",
       "      <td>Acetophenone</td>\n",
       "      <td>CC(=O)c1ccccc1</td>\n",
       "      <td>Acetophenol</td>\n",
       "      <td>CC(c1ccccc1)O</td>\n",
       "    </tr>\n",
       "  </tbody>\n",
       "</table>\n",
       "</div>"
      ],
      "text/plain": [
       "                 reactants reactants_smile_strings               products  \\\n",
       "0                  Acetone                 CC(=O)C            isopropanol   \n",
       "1                 Butanone                CCC(=O)C        2-butyl alcohol   \n",
       "2              2-Pentanone               CCCC(=O)C             2-Pentanol   \n",
       "3              3-Pentanone               CCC(=O)CC             3-Pentanol   \n",
       "4               3-Hexanone           CC(=O)CC(=O)C              3-Hexanol   \n",
       "5          2,3-Hexanedione          CCCC(=O)C(=O)C         2,3-Hexanediol   \n",
       "6          2,5-Hexanedione          CC(=O)CCC(=O)C         2,5-Hexanediol   \n",
       "7            Cyclohexanone              CCCC(=O)CC           Cyclohexanol   \n",
       "8   2-Methylcyclopentanone              O=C1CCCCC1  2-Methylcyclopentanol   \n",
       "9         2,4-pentanedione              O=C1CCCC1C        2,4-pentanediol   \n",
       "10   1-methoxy-2-propanone               COCC(=O)C   1-methoxy-2-propanol   \n",
       "11            Acetophenone          CC(=O)c1ccccc1            Acetophenol   \n",
       "\n",
       "   products_smile_strings  \n",
       "0                  CC(O)C  \n",
       "1                 CCC(O)C  \n",
       "2                CCCC(O)C  \n",
       "3                CCC(CC)O  \n",
       "4             CC(CC(O)C)O  \n",
       "5            CCCC(C(O)C)O  \n",
       "6            CC(CCC(O)C)O  \n",
       "7               CCCC(CC)O  \n",
       "8               OC1CCCCC1  \n",
       "9               OC1CCCC1C  \n",
       "10               COCC(O)C  \n",
       "11          CC(c1ccccc1)O  "
      ]
     },
     "execution_count": 37,
     "metadata": {},
     "output_type": "execute_result"
    }
   ],
   "source": [
    "#transform to DataFrame type\n",
    "df = pd.DataFrame({'reactants':pd.Series(names['reactants']), 'reactants_smile_strings':pd.Series(smiles['reactants']),\n",
    "                   'products':pd.Series(names['products']), 'products_smile_strings':pd.Series(smiles['products'])})\n",
    "df"
   ]
  },
  {
   "cell_type": "code",
   "execution_count": 29,
   "metadata": {},
   "outputs": [],
   "source": [
    "# transform smiles string to vectors\n",
    "rvec = [darkchem.utils.struct2vec(reactant).astype(int) for reactant in smiles['reactants']]\n",
    "pvec = [darkchem.utils.struct2vec(product).astype(int) for product in smiles['products']]\n",
    "\n",
    "# tranform list to nd.array\n",
    "rvec = np.array(rvec)\n",
    "pvec = np.array(pvec)\n",
    "\n",
    "# transform numpy array to list  \n",
    "rvec = rvec.tolist() \n",
    "pvec = pvec.tolist()"
   ]
  },
  {
   "cell_type": "code",
   "execution_count": 30,
   "metadata": {},
   "outputs": [
    {
     "data": {
      "text/plain": [
       "[True, True, True, True, True, True, True, True, True, True, True, True]"
      ]
     },
     "execution_count": 30,
     "metadata": {},
     "output_type": "execute_result"
    }
   ],
   "source": [
    "# judge whether the reactants are contained in the training set or not\n",
    "[array_in_nd_array(vec, x) for vec in rvec]"
   ]
  },
  {
   "cell_type": "code",
   "execution_count": 31,
   "metadata": {},
   "outputs": [
    {
     "data": {
      "text/plain": [
       "[True, True, True, True, True, True, True, True, True, True, True, True]"
      ]
     },
     "execution_count": 31,
     "metadata": {},
     "output_type": "execute_result"
    }
   ],
   "source": [
    "# judge whether the products are included in the training set or not\n",
    "[array_in_nd_array(vec, x) for vec in pvec]"
   ]
  },
  {
   "cell_type": "code",
   "execution_count": null,
   "metadata": {},
   "outputs": [],
   "source": []
  }
 ],
 "metadata": {
  "kernelspec": {
   "display_name": "Python 3",
   "language": "python",
   "name": "python3"
  },
  "language_info": {
   "codemirror_mode": {
    "name": "ipython",
    "version": 3
   },
   "file_extension": ".py",
   "mimetype": "text/x-python",
   "name": "python",
   "nbconvert_exporter": "python",
   "pygments_lexer": "ipython3",
   "version": "3.6.8"
  }
 },
 "nbformat": 4,
 "nbformat_minor": 2
}
