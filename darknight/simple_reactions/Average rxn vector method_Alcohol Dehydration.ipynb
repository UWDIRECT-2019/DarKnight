{
 "cells": [
  {
   "cell_type": "code",
   "execution_count": 31,
   "metadata": {},
   "outputs": [],
   "source": [
    "import math\n",
    "import sys\n",
    "sys.path.append('../')\n",
    "from fcts import array_in_nd_array, remove_space, r2pcorr,struc2mol\n",
    "import numpy as np\n",
    "import pandas as pd\n",
    "import darkchem\n",
    "import matplotlib.pyplot as plt\n",
    "from sklearn.model_selection import train_test_split\n",
    "from sklearn.metrics import mean_squared_error\n",
    "from sklearn.preprocessing import StandardScaler\n",
    "get_ipython().run_line_magic('matplotlib', 'inline')\n",
    "from sklearn.linear_model import LinearRegression\n",
    "from rdkit.Chem import AllChem as Chem\n",
    "from rdkit.Chem import PandasTools,Draw\n",
    "from rdkit.Chem.Draw import MolToImage\n",
    "# plotting stuff\n",
    "import matplotlib.pyplot as plt\n",
    "import matplotlib as mpl\n",
    "from IPython.display import SVG, display\n",
    "%config InlineBackend.figure_format = 'retina'\n"
   ]
  },
  {
   "cell_type": "code",
   "execution_count": 2,
   "metadata": {},
   "outputs": [
    {
     "name": "stdout",
     "output_type": "stream",
     "text": [
      "WARNING:tensorflow:From C:\\Users\\user\\Anaconda3\\envs\\my-rdkit-env\\lib\\site-packages\\tensorflow\\python\\framework\\op_def_library.py:263: colocate_with (from tensorflow.python.framework.ops) is deprecated and will be removed in a future version.\n",
      "Instructions for updating:\n",
      "Colocations handled automatically by placer.\n",
      "WARNING:tensorflow:From C:\\Users\\user\\Anaconda3\\envs\\my-rdkit-env\\lib\\site-packages\\keras\\backend\\tensorflow_backend.py:3445: calling dropout (from tensorflow.python.ops.nn_ops) with keep_prob is deprecated and will be removed in a future version.\n",
      "Instructions for updating:\n",
      "Please use `rate` instead of `keep_prob`. Rate should be set to `rate = 1 - keep_prob`.\n"
     ]
    }
   ],
   "source": [
    "# Load model\n",
    "model = darkchem.utils.load_model('../../../DarKnight_File/Final Trained DarkChem Network Weights/N7b_[M+H]/') "
   ]
  },
  {
   "cell_type": "code",
   "execution_count": 10,
   "metadata": {},
   "outputs": [],
   "source": [
    "# load training set\n",
    "x = np.load('../../../DarKnight_File/Training Data - Molecules/combined_[M+H]_smiles.npy')"
   ]
  },
  {
   "cell_type": "code",
   "execution_count": 11,
   "metadata": {},
   "outputs": [],
   "source": [
    "# Define a fuction that can check the existance of our input molecules\n",
    "def array_in_nd_array(test, array):\n",
    "    \"\"\"\n",
    "    Checks whether or not a test 1D array is contained within a full N-D array.\n",
    "    Returns True if the test array is equal to any of the dimensions of the N-D array.\n",
    "    Returns False if the test array does not match any dimension of the N-D array.\n",
    "    \"\"\"\n",
    "    return any(np.array_equal(x, test) for x in array)"
   ]
  },
  {
   "cell_type": "code",
   "execution_count": 12,
   "metadata": {},
   "outputs": [],
   "source": [
    "# Define a fuction that transfer input molecules into vectors\n",
    "def smi_vec_verify(dic):\n",
    "    \n",
    "    \"\"\"Takes a dictionary with reactants and products.\n",
    "    Creates vectorized representations and appends to dictionary\n",
    "    as 'rvec' and 'pvec'.\n",
    "    Checks that both vector types are contained within the loaded\n",
    "    dataset x.\n",
    "    \n",
    "    \"\"\"\n",
    "    assert type(dic) == dict, 'Input must be a dictionary'\n",
    "    assert len(dic) == 2, 'Input dictionary must contain 2 items (reactants, products)'\n",
    "    \n",
    "    dic['rvec'] = [darkchem.utils.struct2vec(reactant).astype(np.int16) for reactant in dic['reactants']]\n",
    "    dic['pvec'] = [darkchem.utils.struct2vec(product).astype(np.int16) for product in dic['products']]\n",
    "    \n",
    "    is_in_testset = [[array_in_nd_array(item, x) for item in key] for key in dic.values()]\n",
    "    \n",
    "    print(f\"Is each reactant contained in the DarkChem training set?: {is_in_testset[2]}\")\n",
    "    print(f\"Is each product contained in the DarkChem training set?: {is_in_testset[3]}\")\n",
    "    \n",
    "    return dic"
   ]
  },
  {
   "cell_type": "code",
   "execution_count": 13,
   "metadata": {},
   "outputs": [],
   "source": [
    "# Define a function that generate the latent space and calulate the average reaction vector\n",
    "def vec_latent_rxn_vector(dic):\n",
    "    \n",
    "    \"\"\"Takes a dictionary with reaction vectors and product vectors.\n",
    "    Converts vectorized representations to latent space vector\n",
    "    representations and appends to dictionary as 'rlat' and 'plat'.\n",
    "    \n",
    "    Calculates reaction vector (subtraction of reactant latent space\n",
    "    vector from product latent space vector.\n",
    "    \n",
    "    Displays Pearson correlation matrix for all reaction vectors.\n",
    "    \n",
    "    Averages all reaction vectors and returns dic, avgvec.\n",
    "    \n",
    "    \"\"\"\n",
    "    dic['rlat'] = model.encoder.predict(np.array(dic['rvec']))\n",
    "    dic['plat'] = model.encoder.predict(np.array(dic['pvec']))\n",
    "    \n",
    "    dic['rxnvector'] = [dic['plat'][i] - dic['rlat'][i] for i in range(len(dic['plat']))]\n",
    "    \n",
    "    print(pd.DataFrame(np.corrcoef(dic['rxnvector']).view(type=np.matrix)))\n",
    "    \n",
    "    avgvec = np.array(dic['rxnvector']).sum(axis=0) / len(dic['rxnvector'])\n",
    "    \n",
    "    return dic, avgvec"
   ]
  },
  {
   "cell_type": "code",
   "execution_count": 14,
   "metadata": {},
   "outputs": [],
   "source": [
    "# Define a function that apply the reaction vector to an input molecule\n",
    "def apply_rxn_vector(smistr, rxnvec, nummols=10, savefilename=False):\n",
    "    \n",
    "    \"\"\"Takes a SMILES string representation for a molecule.\n",
    "    Adds input vector (e.g. avgvec output from vec_latent_rxn_vector)\n",
    "    and shows chemical structures for the top 10 highest-probability\n",
    "    product predictions (can be altered with nummols)\n",
    "    \n",
    "    \"\"\"\n",
    "    testvec = darkchem.utils.struct2vec(smistr).astype(np.int16)\n",
    "    array_in_nd_array(testvec, x)\n",
    "    \n",
    "    testlat = model.encoder.predict(np.array(testvec.reshape(-1,100)))\n",
    "    \n",
    "    testprod = testlat + rxnvec\n",
    "    testpvec = model.decoder.predict(testprod)\n",
    "    testprods = darkchem.utils.beamsearch(testpvec, k=nummols)\n",
    "    \n",
    "    predictions = {}\n",
    "    \n",
    "    predictions['predprod'] = [darkchem.utils.vec2struct(i) for i in testprods[0]]\n",
    "    predictions['predprodmol'] = [Chem.MolFromSmiles(predictions['predprod'][i])\n",
    "                                  for i in range(len(predictions['predprod']))]\n",
    "    \n",
    "    if type(savefilename) == str:\n",
    "        img = Chem.Draw.MolsToGridImage(predictions['predprodmol'],\n",
    "                                        molsPerRow=5, subImgSize=(200, 200))\n",
    "        img.save(f'./{savefilename}.png')\n",
    "    \n",
    "    return Chem.Draw.MolsToGridImage(predictions['predprodmol'],\n",
    "                                     molsPerRow=5, subImgSize=(200, 200))"
   ]
  },
  {
   "cell_type": "code",
   "execution_count": 32,
   "metadata": {},
   "outputs": [],
   "source": [
    "# load testing data\n",
    "data = pd.read_excel('../../database/Alcohol_Dyhydration.xlsx')\n",
    "\n",
    "#remove the redundant space in the smiles string\n",
    "data = remove_space(data)"
   ]
  },
  {
   "cell_type": "code",
   "execution_count": 33,
   "metadata": {},
   "outputs": [],
   "source": [
    "# Load several Alcohol Dehydration reactions\n",
    "red = {'reactants': data['Reactants'],\n",
    "       'products': data['Products']}"
   ]
  },
  {
   "cell_type": "code",
   "execution_count": 34,
   "metadata": {},
   "outputs": [
    {
     "name": "stdout",
     "output_type": "stream",
     "text": [
      "Is each reactant contained in the DarkChem training set?: [False, False, False, True, True, True, True, True, True, True, True, True]\n",
      "Is each product contained in the DarkChem training set?: [True, True, True, True, False, True, True, True, False, True, True, True]\n"
     ]
    }
   ],
   "source": [
    "# Transfer the molecules above into vector and check the existance in the training set\n",
    "red = smi_vec_verify(red)"
   ]
  },
  {
   "cell_type": "code",
   "execution_count": 35,
   "metadata": {},
   "outputs": [
    {
     "name": "stdout",
     "output_type": "stream",
     "text": [
      "          0         1         2         3         4         5         6   \\\n",
      "0   1.000000  0.576913  0.502995  0.345671  0.330784  0.343978  0.276164   \n",
      "1   0.576913  1.000000  0.916099  0.863099  0.778659  0.765092  0.534664   \n",
      "2   0.502995  0.916099  1.000000  0.822517  0.933915  0.909939  0.801830   \n",
      "3   0.345671  0.863099  0.822517  1.000000  0.856135  0.790154  0.494940   \n",
      "4   0.330784  0.778659  0.933915  0.856135  1.000000  0.933646  0.848436   \n",
      "5   0.343978  0.765092  0.909939  0.790154  0.933646  1.000000  0.813047   \n",
      "6   0.276164  0.534664  0.801830  0.494940  0.848436  0.813047  1.000000   \n",
      "7   0.313349  0.605863  0.789417  0.544088  0.779152  0.932597  0.822375   \n",
      "8   0.276825  0.597956  0.796539  0.567848  0.804947  0.914291  0.821978   \n",
      "9   0.358882  0.396801  0.327827  0.556524  0.382607  0.500829  0.126557   \n",
      "10  0.269018  0.482008  0.680800  0.466856  0.695865  0.741895  0.667420   \n",
      "11  0.478637  0.659520  0.681790  0.598615  0.627557  0.784550  0.515774   \n",
      "\n",
      "          7         8         9         10        11  \n",
      "0   0.313349  0.276825  0.358882  0.269018  0.478637  \n",
      "1   0.605863  0.597956  0.396801  0.482008  0.659520  \n",
      "2   0.789417  0.796539  0.327827  0.680800  0.681790  \n",
      "3   0.544088  0.567848  0.556524  0.466856  0.598615  \n",
      "4   0.779152  0.804947  0.382607  0.695865  0.627557  \n",
      "5   0.932597  0.914291  0.500829  0.741895  0.784550  \n",
      "6   0.822375  0.821978  0.126557  0.667420  0.515774  \n",
      "7   1.000000  0.947125  0.429157  0.739686  0.794977  \n",
      "8   0.947125  1.000000  0.355361  0.844701  0.762578  \n",
      "9   0.429157  0.355361  1.000000  0.267590  0.726756  \n",
      "10  0.739686  0.844701  0.267590  1.000000  0.590638  \n",
      "11  0.794977  0.762578  0.726756  0.590638  1.000000  \n"
     ]
    }
   ],
   "source": [
    "# Generate the latent space\n",
    "red, redvec = vec_latent_rxn_vector(red)"
   ]
  },
  {
   "cell_type": "code",
   "execution_count": 36,
   "metadata": {},
   "outputs": [
    {
     "data": {
      "image/png": "[encoded data removed]",
      "text/plain": [
       "<PIL.PngImagePlugin.PngImageFile image mode=RGB size=1000x400 at 0x1D622818CF8>"
      ]
     },
     "execution_count": 36,
     "metadata": {},
     "output_type": "execute_result"
    }
   ],
   "source": [
    "# Predict a certain molecule\n",
    "ethanol = 'CCO'\n",
    "ether = 'CCOCC'\n",
    "apply_rxn_vector(ethanol, redvec, savefilename='Alcohol_Dehydration')"
   ]
  },
  {
   "cell_type": "code",
   "execution_count": null,
   "metadata": {},
   "outputs": [],
   "source": []
  }
 ],
 "metadata": {
  "kernelspec": {
   "display_name": "Python 3",
   "language": "python",
   "name": "python3"
  },
  "language_info": {
   "codemirror_mode": {
    "name": "ipython",
    "version": 3
   },
   "file_extension": ".py",
   "mimetype": "text/x-python",
   "name": "python",
   "nbconvert_exporter": "python",
   "pygments_lexer": "ipython3",
   "version": "3.6.8"
  }
 },
 "nbformat": 4,
 "nbformat_minor": 2
}
