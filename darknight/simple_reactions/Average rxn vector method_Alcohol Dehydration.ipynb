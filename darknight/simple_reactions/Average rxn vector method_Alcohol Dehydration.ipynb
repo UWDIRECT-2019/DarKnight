{
 "cells": [
  {
   "cell_type": "code",
   "execution_count": 21,
   "metadata": {},
   "outputs": [],
   "source": [
    "import math\n",
    "import sys\n",
    "sys.path.append('../')\n",
    "from fcts import array_in_nd_array, remove_space, r2pcorr,struc2mol\n",
    "import numpy as np\n",
    "import pandas as pd\n",
    "import darkchem\n",
    "import matplotlib.pyplot as plt\n",
    "from sklearn.model_selection import train_test_split\n",
    "from sklearn.metrics import mean_squared_error\n",
    "from sklearn.preprocessing import StandardScaler\n",
    "get_ipython().run_line_magic('matplotlib', 'inline')\n",
    "from sklearn.linear_model import LinearRegression\n",
    "from rdkit import Chem\n",
    "from rdkit.Chem.Draw import MolToImage\n",
    "# plotting stuff\n",
    "import matplotlib.pyplot as plt\n",
    "import matplotlib as mpl\n",
    "from IPython.display import SVG, display\n",
    "%config InlineBackend.figure_format = 'retina'\n",
    "import statistics"
   ]
  },
  {
   "cell_type": "code",
   "execution_count": 2,
   "metadata": {},
   "outputs": [
    {
     "name": "stdout",
     "output_type": "stream",
     "text": [
      "WARNING:tensorflow:From C:\\Users\\user\\Anaconda3\\envs\\my-rdkit-env\\lib\\site-packages\\tensorflow\\python\\framework\\op_def_library.py:263: colocate_with (from tensorflow.python.framework.ops) is deprecated and will be removed in a future version.\n",
      "Instructions for updating:\n",
      "Colocations handled automatically by placer.\n",
      "WARNING:tensorflow:From C:\\Users\\user\\Anaconda3\\envs\\my-rdkit-env\\lib\\site-packages\\keras\\backend\\tensorflow_backend.py:3445: calling dropout (from tensorflow.python.ops.nn_ops) with keep_prob is deprecated and will be removed in a future version.\n",
      "Instructions for updating:\n",
      "Please use `rate` instead of `keep_prob`. Rate should be set to `rate = 1 - keep_prob`.\n"
     ]
    }
   ],
   "source": [
    "# Load model\n",
    "model = darkchem.utils.load_model('../../../DarKnight_File/Final Trained DarkChem Network Weights/N7b_[M+H]/') "
   ]
  },
  {
   "cell_type": "code",
   "execution_count": 3,
   "metadata": {},
   "outputs": [],
   "source": [
    "# load training set\n",
    "x = np.load('../../../DarKnight_File/Training Data - Molecules/combined_[M+H]_smiles.npy')"
   ]
  },
  {
   "cell_type": "code",
   "execution_count": 4,
   "metadata": {},
   "outputs": [],
   "source": [
    "# Define a fuction that can check the existance of our input molecules\n",
    "def array_in_nd_array(test, array):\n",
    "    \"\"\"\n",
    "    Checks whether or not a test 1D array is contained within a full N-D array.\n",
    "    Returns True if the test array is equal to any of the dimensions of the N-D array.\n",
    "    Returns False if the test array does not match any dimension of the N-D array.\n",
    "    \"\"\"\n",
    "    return any(np.array_equal(x, test) for x in array)"
   ]
  },
  {
   "cell_type": "code",
   "execution_count": 5,
   "metadata": {},
   "outputs": [],
   "source": [
    "# Define a fuction that transfer input molecules into vectors\n",
    "def smi_vec_verify(dic):\n",
    "    \n",
    "    \"\"\"Takes a dictionary with reactants and products.\n",
    "    Creates vectorized representations and appends to dictionary\n",
    "    as 'rvec' and 'pvec'.\n",
    "    Checks that both vector types are contained within the loaded\n",
    "    dataset x.\n",
    "    \n",
    "    \"\"\"\n",
    "    assert type(dic) == dict, 'Input must be a dictionary'\n",
    "    assert len(dic) == 2, 'Input dictionary must contain 2 items (reactants, products)'\n",
    "    \n",
    "    dic['rvec'] = [darkchem.utils.struct2vec(reactant).astype(np.int16) for reactant in dic['reactants']]\n",
    "    dic['pvec'] = [darkchem.utils.struct2vec(product).astype(np.int16) for product in dic['products']]\n",
    "    \n",
    "    is_in_testset = [[array_in_nd_array(item, x) for item in key] for key in dic.values()]\n",
    "    \n",
    "    print(f\"Is each reactant contained in the DarkChem training set?: {is_in_testset[2]}\")\n",
    "    print(f\"Is each product contained in the DarkChem training set?: {is_in_testset[3]}\")\n",
    "    \n",
    "    return dic"
   ]
  },
  {
   "cell_type": "code",
   "execution_count": 6,
   "metadata": {},
   "outputs": [],
   "source": [
    "# Define a function that generate the latent space and calulate the average reaction vector\n",
    "def vec_latent_rxn_vector(dic):\n",
    "    \n",
    "    \"\"\"Takes a dictionary with reaction vectors and product vectors.\n",
    "    Converts vectorized representations to latent space vector\n",
    "    representations and appends to dictionary as 'rlat' and 'plat'.\n",
    "    \n",
    "    Calculates reaction vector (subtraction of reactant latent space\n",
    "    vector from product latent space vector.\n",
    "    \n",
    "    Displays Pearson correlation matrix for all reaction vectors.\n",
    "    \n",
    "    Averages all reaction vectors and returns dic, avgvec.\n",
    "    \n",
    "    \"\"\"\n",
    "    dic['rlat'] = model.encoder.predict(np.array(dic['rvec']))\n",
    "    dic['plat'] = model.encoder.predict(np.array(dic['pvec']))\n",
    "    \n",
    "    dic['rxnvector'] = [dic['plat'][i] - dic['rlat'][i] for i in range(len(dic['plat']))]\n",
    "    \n",
    "    print(pd.DataFrame(np.corrcoef(dic['rxnvector']).view(type=np.matrix)))\n",
    "    \n",
    "    avgvec = np.array(dic['rxnvector']).sum(axis=0) / len(dic['rxnvector'])\n",
    "    \n",
    "    return dic, avgvec"
   ]
  },
  {
   "cell_type": "code",
   "execution_count": 7,
   "metadata": {},
   "outputs": [],
   "source": [
    "# Define a function that apply the reaction vector to an input molecule\n",
    "def apply_rxn_vector(smistr, rxnvec, nummols=10, savefilename=False):\n",
    "    \n",
    "    \"\"\"Takes a SMILES string representation for a molecule.\n",
    "    Adds input vector (e.g. avgvec output from vec_latent_rxn_vector)\n",
    "    and shows chemical structures for the top 10 highest-probability\n",
    "    product predictions (can be altered with nummols)\n",
    "    \n",
    "    \"\"\"\n",
    "    testvec = darkchem.utils.struct2vec(smistr).astype(np.int16)\n",
    "    array_in_nd_array(testvec, x)\n",
    "    \n",
    "    testlat = model.encoder.predict(np.array(testvec.reshape(-1,100)))\n",
    "    \n",
    "    testprod = testlat + rxnvec\n",
    "    testpvec = model.decoder.predict(testprod)\n",
    "    testprods = darkchem.utils.beamsearch(testpvec, k=nummols)\n",
    "    \n",
    "    predictions = {}\n",
    "    \n",
    "    predictions['predprod'] = [darkchem.utils.vec2struct(i) for i in testprods[0]]\n",
    "    predictions['predprodmol'] = [Chem.MolFromSmiles(predictions['predprod'][i])\n",
    "                                  for i in range(len(predictions['predprod']))]\n",
    "    \n",
    "    if type(savefilename) == str:\n",
    "        img = Chem.Draw.MolsToGridImage(predictions['predprodmol'],\n",
    "                                        molsPerRow=5, subImgSize=(200, 200))\n",
    "        img.save(f'./{savefilename}.png')\n",
    "    \n",
    "    return Chem.Draw.MolsToGridImage(predictions['predprodmol'],\n",
    "                                     molsPerRow=5, subImgSize=(200, 200))"
   ]
  },
  {
   "cell_type": "code",
   "execution_count": 8,
   "metadata": {},
   "outputs": [
    {
     "name": "stderr",
     "output_type": "stream",
     "text": [
      "..\\fcts.py:22: SettingWithCopyWarning: \n",
      "A value is trying to be set on a copy of a slice from a DataFrame\n",
      "\n",
      "See the caveats in the documentation: http://pandas.pydata.org/pandas-docs/stable/indexing.html#indexing-view-versus-copy\n",
      "  data['Reactants'][i] = data['Reactants'][i].replace(' ','')\n",
      "..\\fcts.py:23: SettingWithCopyWarning: \n",
      "A value is trying to be set on a copy of a slice from a DataFrame\n",
      "\n",
      "See the caveats in the documentation: http://pandas.pydata.org/pandas-docs/stable/indexing.html#indexing-view-versus-copy\n",
      "  data['Products'][i] = data['Products'][i].replace(' ','')\n"
     ]
    }
   ],
   "source": [
    "# load training data of Alcohol_Dehydration\n",
    "data = pd.read_excel('../../database/Alcohol_Dehydration.xlsx')\n",
    "\n",
    "#remove the redundant space in the smiles string\n",
    "data = remove_space(data)"
   ]
  },
  {
   "cell_type": "code",
   "execution_count": 9,
   "metadata": {},
   "outputs": [],
   "source": [
    "# Transform reactants and products into dictionary\n",
    "red = {'reactants': data['Reactants'],\n",
    "       'products': data['Products']}"
   ]
  },
  {
   "cell_type": "code",
   "execution_count": 10,
   "metadata": {},
   "outputs": [
    {
     "name": "stdout",
     "output_type": "stream",
     "text": [
      "Is each reactant contained in the DarkChem training set?: [False, False, False, False, True, True, True, True, True, True, True, True, True, True, True, True, True]\n",
      "Is each product contained in the DarkChem training set?: [True, True, True, True, True, False, True, True, True, True, True, True, False, True, True, True, False]\n"
     ]
    }
   ],
   "source": [
    "# Transform the molecules above into vector and check the existance in the training set\n",
    "red = smi_vec_verify(red)"
   ]
  },
  {
   "cell_type": "code",
   "execution_count": 11,
   "metadata": {},
   "outputs": [
    {
     "name": "stdout",
     "output_type": "stream",
     "text": [
      "          0         1         2         3         4         5         6   \\\n",
      "0   1.000000  0.576913  0.502995  0.412270  0.345671  0.330784  0.343978   \n",
      "1   0.576913  1.000000  0.916099  0.672300  0.863099  0.778659  0.765092   \n",
      "2   0.502995  0.916099  1.000000  0.860326  0.822517  0.933915  0.909939   \n",
      "3   0.412270  0.672300  0.860326  1.000000  0.574867  0.826805  0.828623   \n",
      "4   0.345671  0.863099  0.822517  0.574867  1.000000  0.856135  0.790154   \n",
      "5   0.330784  0.778659  0.933915  0.826805  0.856135  1.000000  0.933646   \n",
      "6   0.343978  0.765092  0.909939  0.828623  0.790154  0.933646  1.000000   \n",
      "7   0.358882  0.396801  0.327827  0.115406  0.556524  0.382607  0.500829   \n",
      "8   0.269018  0.482008  0.680800  0.885835  0.466856  0.695865  0.741895   \n",
      "9   0.478637  0.659520  0.681790  0.549435  0.598615  0.627557  0.784550   \n",
      "10  0.276164  0.534664  0.801830  0.825773  0.494940  0.848436  0.813047   \n",
      "11  0.313349  0.605863  0.789417  0.799214  0.544088  0.779152  0.932597   \n",
      "12  0.276825  0.597956  0.796539  0.876559  0.567848  0.804947  0.914291   \n",
      "13  0.332876  0.128437  0.345275  0.661301  0.033272  0.328522  0.258736   \n",
      "14  0.383441  0.534390  0.630057  0.645409  0.297525  0.481976  0.556494   \n",
      "15  0.236741  0.450229  0.629916  0.785569  0.451948  0.649398  0.601332   \n",
      "16  0.124453  0.437637  0.616238  0.749271  0.428620  0.621081  0.596553   \n",
      "\n",
      "          7         8         9         10        11        12        13  \\\n",
      "0   0.358882  0.269018  0.478637  0.276164  0.313349  0.276825  0.332876   \n",
      "1   0.396801  0.482008  0.659520  0.534664  0.605863  0.597956  0.128437   \n",
      "2   0.327827  0.680800  0.681790  0.801830  0.789417  0.796539  0.345275   \n",
      "3   0.115406  0.885835  0.549435  0.825773  0.799214  0.876559  0.661301   \n",
      "4   0.556524  0.466856  0.598615  0.494940  0.544088  0.567848  0.033272   \n",
      "5   0.382607  0.695865  0.627557  0.848436  0.779152  0.804947  0.328522   \n",
      "6   0.500829  0.741895  0.784550  0.813047  0.932597  0.914291  0.258736   \n",
      "7   1.000000  0.267590  0.726756  0.126557  0.429157  0.355361 -0.343260   \n",
      "8   0.267590  1.000000  0.590638  0.667420  0.739686  0.844701  0.619393   \n",
      "9   0.726756  0.590638  1.000000  0.515774  0.794977  0.762578  0.028513   \n",
      "10  0.126557  0.667420  0.515774  1.000000  0.822375  0.821978  0.484813   \n",
      "11  0.429157  0.739686  0.794977  0.822375  1.000000  0.947125  0.292305   \n",
      "12  0.355361  0.844701  0.762578  0.821978  0.947125  1.000000  0.418253   \n",
      "13 -0.343260  0.619393  0.028513  0.484813  0.292305  0.418253  1.000000   \n",
      "14 -0.026778  0.557980  0.565036  0.566754  0.622616  0.630647  0.594636   \n",
      "15 -0.073624  0.724018  0.369014  0.620844  0.540846  0.698005  0.771741   \n",
      "16 -0.138234  0.664794  0.304982  0.602124  0.550224  0.672746  0.709899   \n",
      "\n",
      "          14        15        16  \n",
      "0   0.383441  0.236741  0.124453  \n",
      "1   0.534390  0.450229  0.437637  \n",
      "2   0.630057  0.629916  0.616238  \n",
      "3   0.645409  0.785569  0.749271  \n",
      "4   0.297525  0.451948  0.428620  \n",
      "5   0.481976  0.649398  0.621081  \n",
      "6   0.556494  0.601332  0.596553  \n",
      "7  -0.026778 -0.073624 -0.138234  \n",
      "8   0.557980  0.724018  0.664794  \n",
      "9   0.565036  0.369014  0.304982  \n",
      "10  0.566754  0.620844  0.602124  \n",
      "11  0.622616  0.540846  0.550224  \n",
      "12  0.630647  0.698005  0.672746  \n",
      "13  0.594636  0.771741  0.709899  \n",
      "14  1.000000  0.658314  0.661788  \n",
      "15  0.658314  1.000000  0.952867  \n",
      "16  0.661788  0.952867  1.000000  \n"
     ]
    }
   ],
   "source": [
    "# Generate the latent space\n",
    "red, redvec = vec_latent_rxn_vector(red)"
   ]
  },
  {
   "cell_type": "code",
   "execution_count": 14,
   "metadata": {},
   "outputs": [
    {
     "data": {
      "image/png": "[encoded data removed]",
      "text/plain": [
       "<PIL.PngImagePlugin.PngImageFile image mode=RGB size=1000x400 at 0x1C8FB11B1D0>"
      ]
     },
     "execution_count": 14,
     "metadata": {},
     "output_type": "execute_result"
    }
   ],
   "source": [
    "# Predict a certain molecule\n",
    "ethanol = 'CCO'\n",
    "apply_rxn_vector(ethanol, redvec, savefilename='Alcohol_Dehydration')"
   ]
  },
  {
   "cell_type": "code",
   "execution_count": 15,
   "metadata": {},
   "outputs": [],
   "source": [
    "# Put those vectors into DataFrame\n",
    "rct = pd.DataFrame(red['rlat'])\n",
    "prod = pd.DataFrame(red['plat'])"
   ]
  },
  {
   "cell_type": "code",
   "execution_count": 22,
   "metadata": {},
   "outputs": [
    {
     "name": "stdout",
     "output_type": "stream",
     "text": [
      "The length of each reaction path = [1.2697196729769782, 2.0711251690655565, 3.2030449194331205, 4.188647736067467, 4.338059721705004, 4.727327451261856, 5.503999815523266, 5.964363103725846, 6.431759824233994, 7.197952031081168, 7.2588215953126625, 7.510601957690438, 8.013903867508434, 8.541692365609348, 8.943667330839345, 9.670312838410844]\n",
      "The average length of the Alcohol Dehydration reaction path = 5.927187462527833\n",
      "The std length of the Alcohol Dehydration reaction path = 2.4711698017476884\n"
     ]
    }
   ],
   "source": [
    "# Calcualte the lengh of each reaction path\n",
    "s = 0\n",
    "d = []\n",
    "for i in range(16):\n",
    "    for j in range(128):\n",
    "        s += (rct.loc[i][j] - prod.loc[i][j])**2\n",
    "    ds = np.sqrt(s)\n",
    "    d.append(ds)\n",
    "    \n",
    "# Calculate the average length of the Alcohol Dehydration reaction path\n",
    "sum = 0\n",
    "for num in d:\n",
    "    sum = sum +num\n",
    "    average = sum / len(d)\n",
    "\n",
    "# Calculate the std length of the Alcohol Dehydration reaction path\n",
    "std = statistics.stdev(d)\n",
    "\n",
    "print('The length of each reaction path =', d)\n",
    "print('The average length of the Alcohol Dehydration reaction path =', average)\n",
    "print('The std length of the Alcohol Dehydration reaction path =', std)"
   ]
  },
  {
   "cell_type": "code",
   "execution_count": 23,
   "metadata": {},
   "outputs": [
    {
     "name": "stdout",
     "output_type": "stream",
     "text": [
      "The angle between the vectors of reactants and products of each reactions = [0.1144502956232191, 0.1255873731103671, 0.15121790456675654, 0.16808341022561898, 0.15809117562422714, 0.15485472363839922, 0.16558959533646433, 0.17383979500717847, 0.17494206948400312, 0.18553605104141543, 0.17959210696511269, 0.17752169415927355, 0.1814194037937638, 0.19100874779248944, 0.19425072137410668, 0.20451620025236653]\n",
      "The average angle of the Alcohol Dehydration reaction = 0.16878132924967262\n",
      "The std angle of the Alcohol Dehydration reaction path = 0.02389133361586162\n"
     ]
    }
   ],
   "source": [
    "# Calculate the dot product of each reaction\n",
    "s2 = 0\n",
    "d2= []\n",
    "for i in range(16):\n",
    "    for j in range(128):\n",
    "        s2 += (rct.loc[i][j] * prod.loc[i][j])\n",
    "    #ds = np.sqrt(s)\n",
    "    d2.append(s2)\n",
    "\n",
    "\n",
    "# Calculate the product of each reactant and product\n",
    "s3 = 0\n",
    "s4 = 0\n",
    "d3= []\n",
    "for i in range(16):\n",
    "    for j in range(128):\n",
    "        s3 += (rct.loc[i][j])**2\n",
    "        s4 += (prod.loc[i][j])**2\n",
    "    dd = np.sqrt(s3)\n",
    "    dx = np.sqrt(s4)\n",
    "    xx = dd*dx\n",
    "    d3.append(xx)\n",
    "\n",
    "# Insert the formula of Cosine theorem\n",
    "a = []\n",
    "for i in range(16):\n",
    "    cos = d2[i]/d3[i]  #this is the value of cos(sita)\n",
    "    angle = math.acos(cos)  #this is the value of sita\n",
    "    a.append(angle)\n",
    "\n",
    "# Calculate the average angle of the Alcohol Dehydration reaction path    \n",
    "sum = 0\n",
    "for num in a:\n",
    "    sum = sum +num\n",
    "    average = sum / len(a)\n",
    "    \n",
    "# Calculate the std angle of the Alcohol Dehydration reaction path\n",
    "std = statistics.stdev(a)\n",
    "\n",
    "print('The angle between the vectors of reactants and products of each reactions =', a)\n",
    "print('The average angle of the Alcohol Dehydration reaction =', average)\n",
    "print('The std angle of the Alcohol Dehydration reaction path =', std)"
   ]
  },
  {
   "cell_type": "markdown",
   "metadata": {},
   "source": [
    "#### Alcohol Dehydration\n",
    "| Index |    1|    2|    3|    4|    5|    6|    7|    8|    9|   10|   11|   12|   13|   14|   15|   16|  Avg|  Std|\n",
    "|-------|-----|-----|-----|-----|-----|-----|-----|-----|-----|-----|-----|-----|-----|-----|-----|-----|-----|-----|\n",
    "| Length|1.269|2.071|3.203|4.188|4.338|4.727|5.504|5.964|6.431|7.197|7.258|7.510|8.014|8.542|8.944|9.670|5.927|2.471|\n",
    "| Angle |0.114|0.125|0.151|0.168|0.158|0.154|0.165|0.173|0.174|0.185|0.179|0.178|0.181|0.191|0.194|0.205|0.169|0.024|"
   ]
  },
  {
   "cell_type": "code",
   "execution_count": null,
   "metadata": {},
   "outputs": [],
   "source": []
  }
 ],
 "metadata": {
  "kernelspec": {
   "display_name": "Python 3",
   "language": "python",
   "name": "python3"
  },
  "language_info": {
   "codemirror_mode": {
    "name": "ipython",
    "version": 3
   },
   "file_extension": ".py",
   "mimetype": "text/x-python",
   "name": "python",
   "nbconvert_exporter": "python",
   "pygments_lexer": "ipython3",
   "version": "3.6.8"
  }
 },
 "nbformat": 4,
 "nbformat_minor": 2
}
