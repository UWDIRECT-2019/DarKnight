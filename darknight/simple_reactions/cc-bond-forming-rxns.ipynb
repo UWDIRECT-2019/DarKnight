{
 "cells": [
  {
   "cell_type": "markdown",
   "metadata": {},
   "source": [
    "# Initialization"
   ]
  },
  {
   "cell_type": "code",
   "execution_count": 2,
   "metadata": {},
   "outputs": [
    {
     "name": "stderr",
     "output_type": "stream",
     "text": [
      "Using TensorFlow backend.\n"
     ]
    }
   ],
   "source": [
    "import math\n",
    "\n",
    "import numpy as np\n",
    "import pandas as pd\n",
    "import darkchem"
   ]
  },
  {
   "cell_type": "markdown",
   "metadata": {},
   "source": [
    "Load model:"
   ]
  },
  {
   "cell_type": "code",
   "execution_count": 3,
   "metadata": {},
   "outputs": [],
   "source": [
    "model = darkchem.utils.load_model('/home/christinehc/direct-capstone/final_trained_darkchem_network_weights/N7b_[M+H]/')"
   ]
  },
  {
   "cell_type": "markdown",
   "metadata": {},
   "source": [
    "Load training data:"
   ]
  },
  {
   "cell_type": "code",
   "execution_count": 4,
   "metadata": {},
   "outputs": [],
   "source": [
    "x = np.load('/home/christinehc/direct-capstone/training-data_molecules/combined_[M+H]_smiles.npy')\n",
    "y = np.load('/home/christinehc/direct-capstone/training-data_molecules/combined_[M+H]_labels.npy') # must have the same number of columns as the data the network was trained on"
   ]
  },
  {
   "cell_type": "markdown",
   "metadata": {},
   "source": [
    "Generate latent space representations ($x$) from training data:"
   ]
  },
  {
   "cell_type": "code",
   "execution_count": 43,
   "metadata": {},
   "outputs": [],
   "source": [
    "x_latent = model.encoder.predict(x)"
   ]
  },
  {
   "cell_type": "markdown",
   "metadata": {},
   "source": [
    "Generate property predictions ($y$):"
   ]
  },
  {
   "cell_type": "code",
   "execution_count": 44,
   "metadata": {},
   "outputs": [],
   "source": [
    "y_pred = model.predictor.predict(x_latent)"
   ]
  },
  {
   "cell_type": "markdown",
   "metadata": {},
   "source": [
    "Predict SMILES outputs:"
   ]
  },
  {
   "cell_type": "code",
   "execution_count": 45,
   "metadata": {},
   "outputs": [],
   "source": [
    "x_pred = model.decoder.predict(x_latent)"
   ]
  },
  {
   "cell_type": "code",
   "execution_count": 5,
   "metadata": {},
   "outputs": [],
   "source": [
    "def array_in_nd_array(test, array):\n",
    "    \"\"\"\n",
    "    Checks whether or not a test 1D array is contained within a full ND array.\n",
    "    Returns True if the test array is equal to any of the dimensions of the ND array.\n",
    "    Returns False if the test array does not match any dimension of the ND array.\n",
    "    \"\"\"\n",
    "    return any(np.array_equal(x, test) for x in array)"
   ]
  },
  {
   "cell_type": "markdown",
   "metadata": {},
   "source": [
    "# Encoding Rxns\n",
    "\n",
    "## Alkylation of Enolates\n",
    "\n",
    "1. $CH_{3}C(O)CH_{3} + OH^{-} + CH_{3}Br \\rightarrow CH_{3}C(O)CH_{2}CH_{3} + H_{2}O + Br^{-}$\n",
    "2. Cyclohexanone"
   ]
  },
  {
   "cell_type": "code",
   "execution_count": 11,
   "metadata": {},
   "outputs": [],
   "source": [
    "smiles = {'reactants': ['CC(=O)C', 'O=C1CCCCC1', 'O=C1CCCC1C', 'O=C1CCCC1C', 'CCCC(=O)CCC',\n",
    "                        'CCCCC(=O)CCCC', 'CC(=O)CC(=O)C', 'CC(=O)CC(=O)C', 'COCC(=O)C',\n",
    "                        'CC(=O)c1ccccc1'], \n",
    "        'products': ['CCC(=O)C', 'CC1CCCCC1=O', 'CC1CCC(C1=O)C', 'O=C1CCCC1(C)C', 'CCCC(=O)C(CC)C',\n",
    "                    'CCCCC(=O)C(CCC)C', 'CC(C(=O)C)C(=O)C', 'CC(=O)C(C(=O)C)(C)C', 'COC(C(=O)CC)C',\n",
    "                    'CCC(=O)c1ccccc1']}"
   ]
  },
  {
   "cell_type": "code",
   "execution_count": 12,
   "metadata": {},
   "outputs": [
    {
     "data": {
      "text/html": [
       "<div>\n",
       "<style scoped>\n",
       "    .dataframe tbody tr th:only-of-type {\n",
       "        vertical-align: middle;\n",
       "    }\n",
       "\n",
       "    .dataframe tbody tr th {\n",
       "        vertical-align: top;\n",
       "    }\n",
       "\n",
       "    .dataframe thead th {\n",
       "        text-align: right;\n",
       "    }\n",
       "</style>\n",
       "<table border=\"1\" class=\"dataframe\">\n",
       "  <thead>\n",
       "    <tr style=\"text-align: right;\">\n",
       "      <th></th>\n",
       "      <th>reactants</th>\n",
       "      <th>products</th>\n",
       "    </tr>\n",
       "  </thead>\n",
       "  <tbody>\n",
       "    <tr>\n",
       "      <th>0</th>\n",
       "      <td>CC(=O)C</td>\n",
       "      <td>CCC(=O)C</td>\n",
       "    </tr>\n",
       "    <tr>\n",
       "      <th>1</th>\n",
       "      <td>O=C1CCCCC1</td>\n",
       "      <td>CC1CCCCC1=O</td>\n",
       "    </tr>\n",
       "    <tr>\n",
       "      <th>2</th>\n",
       "      <td>O=C1CCCC1C</td>\n",
       "      <td>CC1CCC(C1=O)C</td>\n",
       "    </tr>\n",
       "    <tr>\n",
       "      <th>3</th>\n",
       "      <td>O=C1CCCC1C</td>\n",
       "      <td>O=C1CCCC1(C)C</td>\n",
       "    </tr>\n",
       "    <tr>\n",
       "      <th>4</th>\n",
       "      <td>CCCC(=O)CCC</td>\n",
       "      <td>CCCC(=O)C(CC)C</td>\n",
       "    </tr>\n",
       "  </tbody>\n",
       "</table>\n",
       "</div>"
      ],
      "text/plain": [
       "     reactants        products\n",
       "0      CC(=O)C        CCC(=O)C\n",
       "1   O=C1CCCCC1     CC1CCCCC1=O\n",
       "2   O=C1CCCC1C   CC1CCC(C1=O)C\n",
       "3   O=C1CCCC1C   O=C1CCCC1(C)C\n",
       "4  CCCC(=O)CCC  CCCC(=O)C(CC)C"
      ]
     },
     "execution_count": 12,
     "metadata": {},
     "output_type": "execute_result"
    }
   ],
   "source": [
    "smilesdf = pd.DataFrame(smiles)\n",
    "smilesdf.head()"
   ]
  },
  {
   "cell_type": "code",
   "execution_count": 13,
   "metadata": {},
   "outputs": [],
   "source": [
    "smiles['rvec'] = [darkchem.utils.struct2vec(reactant).astype(np.int16) for reactant in smiles['reactants']]\n",
    "smiles['pvec'] = [darkchem.utils.struct2vec(product).astype(np.int16) for product in smiles['products']]\n",
    "#smiles['rxnvector'] = [smilesdf.pvec[i] - smilesdf.rvec[i] for i in range(len(smilesdf))]"
   ]
  },
  {
   "cell_type": "code",
   "execution_count": 15,
   "metadata": {},
   "outputs": [
    {
     "data": {
      "text/plain": [
       "[True, True, True, True, True, True, True, True, True, True]"
      ]
     },
     "execution_count": 15,
     "metadata": {},
     "output_type": "execute_result"
    }
   ],
   "source": [
    "[array_in_nd_array(vec, x) for vec in smiles['rvec']]"
   ]
  },
  {
   "cell_type": "code",
   "execution_count": 16,
   "metadata": {},
   "outputs": [
    {
     "data": {
      "text/plain": [
       "[True, True, True, True, False, False, True, True, True, True]"
      ]
     },
     "execution_count": 16,
     "metadata": {},
     "output_type": "execute_result"
    }
   ],
   "source": [
    "[array_in_nd_array(vec, x) for vec in smiles['pvec']]"
   ]
  },
  {
   "cell_type": "code",
   "execution_count": 33,
   "metadata": {},
   "outputs": [
    {
     "data": {
      "text/plain": [
       "array([[ 1.        , -0.00168265,  0.06415584, -0.01032847],\n",
       "       [-0.00168265,  1.        ,  0.71701091,  0.34875671],\n",
       "       [ 0.06415584,  0.71701091,  1.        ,  0.78291073],\n",
       "       [-0.01032847,  0.34875671,  0.78291073,  1.        ]])"
      ]
     },
     "execution_count": 33,
     "metadata": {},
     "output_type": "execute_result"
    }
   ],
   "source": [
    "np.corrcoef(smiles['rxnvector'])"
   ]
  },
  {
   "cell_type": "code",
   "execution_count": null,
   "metadata": {},
   "outputs": [],
   "source": []
  }
 ],
 "metadata": {
  "kernelspec": {
   "display_name": "Python 3",
   "language": "python",
   "name": "python3"
  },
  "language_info": {
   "codemirror_mode": {
    "name": "ipython",
    "version": 3
   },
   "file_extension": ".py",
   "mimetype": "text/x-python",
   "name": "python",
   "nbconvert_exporter": "python",
   "pygments_lexer": "ipython3",
   "version": "3.6.8"
  }
 },
 "nbformat": 4,
 "nbformat_minor": 2
}
