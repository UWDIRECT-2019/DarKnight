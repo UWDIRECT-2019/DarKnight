{
 "cells": [
  {
   "cell_type": "markdown",
   "metadata": {},
   "source": [
    "# Initialization"
   ]
  },
  {
   "cell_type": "code",
   "execution_count": 21,
   "metadata": {},
   "outputs": [],
   "source": [
    "import math\n",
    "\n",
    "import numpy as np\n",
    "import pandas as pd\n",
    "import darkchem"
   ]
  },
  {
   "cell_type": "markdown",
   "metadata": {},
   "source": [
    "# Encoding Rxns\n",
    "\n",
    "## Alkylation of Enolates\n",
    "\n",
    "1. $CH_{3}C(O)CH_{3} + OH^{-} + CH_{3}Br \\rightarrow CH_{3}C(O)CH_{2}CH_{3} + H_{2}O + Br^{-}$\n",
    "2. Cyclohexanone"
   ]
  },
  {
   "cell_type": "code",
   "execution_count": 2,
   "metadata": {},
   "outputs": [],
   "source": [
    "smiles = {'reactants': ['CC(=O)C', 'O=C1CCCCC1', 'O=C1CCCC1C', 'O=C1CCCC1C'], \n",
    "          'products': ['CCC(=O)C', 'CC1CCCCC1=O', 'CC1CCC(C1=O)C', 'O=C1CCCC1(C)C']}"
   ]
  },
  {
   "cell_type": "code",
   "execution_count": 7,
   "metadata": {},
   "outputs": [],
   "source": [
    "smiles['rvec'] = [darkchem.utils.struct2vec(reactant).astype(np.int16) for reactant in smiles['reactants']]\n",
    "smiles['pvec'] = [darkchem.utils.struct2vec(product).astype(np.int16) for product in smiles['products']]\n",
    "smiles['rxnvector'] = [smilesdf.pvec[i] - smilesdf.rvec[i] for i in range(len(smilesdf))]"
   ]
  },
  {
   "cell_type": "code",
   "execution_count": 15,
   "metadata": {},
   "outputs": [
    {
     "data": {
      "text/html": [
       "<div>\n",
       "<style scoped>\n",
       "    .dataframe tbody tr th:only-of-type {\n",
       "        vertical-align: middle;\n",
       "    }\n",
       "\n",
       "    .dataframe tbody tr th {\n",
       "        vertical-align: top;\n",
       "    }\n",
       "\n",
       "    .dataframe thead th {\n",
       "        text-align: right;\n",
       "    }\n",
       "</style>\n",
       "<table border=\"1\" class=\"dataframe\">\n",
       "  <thead>\n",
       "    <tr style=\"text-align: right;\">\n",
       "      <th></th>\n",
       "      <th>reactants</th>\n",
       "      <th>products</th>\n",
       "      <th>rvec</th>\n",
       "      <th>pvec</th>\n",
       "      <th>rxnvector</th>\n",
       "    </tr>\n",
       "  </thead>\n",
       "  <tbody>\n",
       "    <tr>\n",
       "      <th>0</th>\n",
       "      <td>CC(=O)C</td>\n",
       "      <td>CCC(=O)C</td>\n",
       "      <td>[13, 13, 21, 29, 16, 22, 13, 0, 0, 0, 0, 0, 0,...</td>\n",
       "      <td>[13, 13, 13, 21, 29, 16, 22, 13, 0, 0, 0, 0, 0...</td>\n",
       "      <td>[0, 0, -8, -8, 13, -6, 9, 13, 0, 0, 0, 0, 0, 0...</td>\n",
       "    </tr>\n",
       "    <tr>\n",
       "      <th>1</th>\n",
       "      <td>O=C1CCCCC1</td>\n",
       "      <td>CC1CCCCC1=O</td>\n",
       "      <td>[16, 29, 13, 1, 13, 13, 13, 13, 13, 1, 0, 0, 0...</td>\n",
       "      <td>[13, 13, 1, 13, 13, 13, 13, 13, 1, 29, 16, 0, ...</td>\n",
       "      <td>[-3, -16, -12, 12, 0, 0, 0, 0, -12, 28, 16, 0,...</td>\n",
       "    </tr>\n",
       "    <tr>\n",
       "      <th>2</th>\n",
       "      <td>O=C1CCCC1C</td>\n",
       "      <td>CC1CCC(C1=O)C</td>\n",
       "      <td>[16, 29, 13, 1, 13, 13, 13, 13, 1, 13, 0, 0, 0...</td>\n",
       "      <td>[13, 13, 1, 13, 13, 13, 21, 13, 1, 29, 16, 22,...</td>\n",
       "      <td>[-3, -16, -12, 12, 0, 0, 8, 0, 0, 16, 16, 22, ...</td>\n",
       "    </tr>\n",
       "    <tr>\n",
       "      <th>3</th>\n",
       "      <td>O=C1CCCC1C</td>\n",
       "      <td>O=C1CCCC1(C)C</td>\n",
       "      <td>[16, 29, 13, 1, 13, 13, 13, 13, 1, 13, 0, 0, 0...</td>\n",
       "      <td>[16, 29, 13, 1, 13, 13, 13, 13, 1, 21, 13, 22,...</td>\n",
       "      <td>[0, 0, 0, 0, 0, 0, 0, 0, 0, 8, 13, 22, 13, 0, ...</td>\n",
       "    </tr>\n",
       "  </tbody>\n",
       "</table>\n",
       "</div>"
      ],
      "text/plain": [
       "    reactants       products  \\\n",
       "0     CC(=O)C       CCC(=O)C   \n",
       "1  O=C1CCCCC1    CC1CCCCC1=O   \n",
       "2  O=C1CCCC1C  CC1CCC(C1=O)C   \n",
       "3  O=C1CCCC1C  O=C1CCCC1(C)C   \n",
       "\n",
       "                                                rvec  \\\n",
       "0  [13, 13, 21, 29, 16, 22, 13, 0, 0, 0, 0, 0, 0,...   \n",
       "1  [16, 29, 13, 1, 13, 13, 13, 13, 13, 1, 0, 0, 0...   \n",
       "2  [16, 29, 13, 1, 13, 13, 13, 13, 1, 13, 0, 0, 0...   \n",
       "3  [16, 29, 13, 1, 13, 13, 13, 13, 1, 13, 0, 0, 0...   \n",
       "\n",
       "                                                pvec  \\\n",
       "0  [13, 13, 13, 21, 29, 16, 22, 13, 0, 0, 0, 0, 0...   \n",
       "1  [13, 13, 1, 13, 13, 13, 13, 13, 1, 29, 16, 0, ...   \n",
       "2  [13, 13, 1, 13, 13, 13, 21, 13, 1, 29, 16, 22,...   \n",
       "3  [16, 29, 13, 1, 13, 13, 13, 13, 1, 21, 13, 22,...   \n",
       "\n",
       "                                           rxnvector  \n",
       "0  [0, 0, -8, -8, 13, -6, 9, 13, 0, 0, 0, 0, 0, 0...  \n",
       "1  [-3, -16, -12, 12, 0, 0, 0, 0, -12, 28, 16, 0,...  \n",
       "2  [-3, -16, -12, 12, 0, 0, 8, 0, 0, 16, 16, 22, ...  \n",
       "3  [0, 0, 0, 0, 0, 0, 0, 0, 0, 8, 13, 22, 13, 0, ...  "
      ]
     },
     "execution_count": 15,
     "metadata": {},
     "output_type": "execute_result"
    }
   ],
   "source": [
    "smilesdf = pd.DataFrame(smiles)\n",
    "smilesdf.head()"
   ]
  },
  {
   "cell_type": "code",
   "execution_count": 33,
   "metadata": {},
   "outputs": [
    {
     "data": {
      "text/plain": [
       "array([[ 1.        , -0.00168265,  0.06415584, -0.01032847],\n",
       "       [-0.00168265,  1.        ,  0.71701091,  0.34875671],\n",
       "       [ 0.06415584,  0.71701091,  1.        ,  0.78291073],\n",
       "       [-0.01032847,  0.34875671,  0.78291073,  1.        ]])"
      ]
     },
     "execution_count": 33,
     "metadata": {},
     "output_type": "execute_result"
    }
   ],
   "source": [
    "np.corrcoef(smiles['rxnvector'])"
   ]
  },
  {
   "cell_type": "code",
   "execution_count": null,
   "metadata": {},
   "outputs": [],
   "source": []
  }
 ],
 "metadata": {
  "kernelspec": {
   "display_name": "Python 3",
   "language": "python",
   "name": "python3"
  },
  "language_info": {
   "codemirror_mode": {
    "name": "ipython",
    "version": 3
   },
   "file_extension": ".py",
   "mimetype": "text/x-python",
   "name": "python",
   "nbconvert_exporter": "python",
   "pygments_lexer": "ipython3",
   "version": "3.6.8"
  }
 },
 "nbformat": 4,
 "nbformat_minor": 2
}
