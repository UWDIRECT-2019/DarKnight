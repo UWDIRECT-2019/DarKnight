{
 "cells": [
  {
   "cell_type": "markdown",
   "metadata": {},
   "source": [
    "# Initialization"
   ]
  },
  {
   "cell_type": "code",
   "execution_count": 1,
   "metadata": {},
   "outputs": [
    {
     "name": "stderr",
     "output_type": "stream",
     "text": [
      "Using TensorFlow backend.\n"
     ]
    }
   ],
   "source": [
    "import math\n",
    "\n",
    "import numpy as np\n",
    "import pandas as pd\n",
    "import darkchem"
   ]
  },
  {
   "cell_type": "markdown",
   "metadata": {},
   "source": [
    "Load model:"
   ]
  },
  {
   "cell_type": "code",
   "execution_count": 2,
   "metadata": {},
   "outputs": [],
   "source": [
    "model = darkchem.utils.load_model('../../Final Trained DarkChem Network Weights/N7b_[M+H]')"
   ]
  },
  {
   "cell_type": "markdown",
   "metadata": {},
   "source": [
    "Load training data:"
   ]
  },
  {
   "cell_type": "code",
   "execution_count": 3,
   "metadata": {},
   "outputs": [],
   "source": [
    "x = np.load('../../Training Data - Molecules/combined_[M+H]_smiles.npy')\n",
    "y = np.load('../../Training Data - Molecules/combined_[M+H]_labels.npy') # must have the same number of columns as the data the network was trained on"
   ]
  },
  {
   "cell_type": "code",
   "execution_count": 4,
   "metadata": {},
   "outputs": [],
   "source": [
    "#tranform nd.array to list\n",
    "x = x.tolist()"
   ]
  },
  {
   "cell_type": "markdown",
   "metadata": {},
   "source": [
    "Generate latent space representations ($x$) from training data:"
   ]
  },
  {
   "cell_type": "code",
   "execution_count": 5,
   "metadata": {},
   "outputs": [],
   "source": [
    "#x_latent = model.encoder.predict(x)"
   ]
  },
  {
   "cell_type": "markdown",
   "metadata": {},
   "source": [
    "Generate property predictions ($y$):"
   ]
  },
  {
   "cell_type": "code",
   "execution_count": 6,
   "metadata": {},
   "outputs": [],
   "source": [
    "#y_pred = model.predictor.predict(x_latent)"
   ]
  },
  {
   "cell_type": "markdown",
   "metadata": {},
   "source": [
    "Predict SMILES outputs:"
   ]
  },
  {
   "cell_type": "code",
   "execution_count": 7,
   "metadata": {},
   "outputs": [],
   "source": [
    "#x_pred = model.decoder.predict(x_latent)"
   ]
  },
  {
   "cell_type": "code",
   "execution_count": 8,
   "metadata": {},
   "outputs": [],
   "source": [
    "#function for checking whether chemicals is included in the combined smiles strings\n",
    "def array_in_nd_array(test, array):\n",
    "    \"\"\"\n",
    "    Checks whether or not a test 1D array is contained within a full ND array.\n",
    "    Returns True if the test array is equal to any of the dimensions of the ND array.\n",
    "    Returns False if the test array does not match any dimension of the ND array.\n",
    "    \"\"\"\n",
    "    return any(np.array_equal(x, test) for x in array)"
   ]
  },
  {
   "cell_type": "markdown",
   "metadata": {},
   "source": [
    "## Enolate Alkylation (CC Bond Formation)\n",
    "\n",
    "Alkylation (in this case, methylation) was explored through the following reactions.\n",
    "\n",
    "1. Acetone $(CH_{3}C(O)CH_{3}) + OH^{-} + CH_{3}Br \\rightarrow CH_{3}C(O)CH_{2}CH_{3} + H_{2}O + Br^{-}$\n",
    "2. Cyclohexanone $\\rightarrow$ 2-methylcyclohexanone\n",
    "3. 2-Methylcyclopentanone $\\rightarrow$ 2,2-dimethylcyclopentanone\n",
    "4. 2-Methylcyclopentanone $\\rightarrow$ 2,5-dimethylcyclopentanone\n",
    "7. 2,4-pentanedione $\\rightarrow$ 3-methyl-2,4-pentanedione\n",
    "8. 2,4-pentanedione $\\rightarrow$ 3-dimethyl-2,4-pentanedione\n",
    "9. 1-methoxy-2-propanone $\\rightarrow$ 2-methoxy-3-pentanone\n",
    "10. Acetophenone $\\rightarrow$ 1-phenyl-1-propanone\n",
    "\n",
    "Note that (4) is the kinetic product more readily accessed from the same starting material."
   ]
  },
  {
   "cell_type": "code",
   "execution_count": 9,
   "metadata": {},
   "outputs": [],
   "source": [
    "smiles = {'reactants': ['CC(=O)C', 'O=C1CCCCC1', 'O=C1CCCC1C', 'O=C1CCCC1C', \n",
    "                        'CC(=O)CC(=O)C', 'CC(=O)CC(=O)C', 'COCC(=O)C',\n",
    "                        'CC(=O)c1ccccc1'], \n",
    "        'products': ['CCC(=O)C', 'CC1CCCCC1=O', 'CC1CCC(C1=O)C', 'O=C1CCCC1(C)C', \n",
    "                     'CC(C(=O)C)C(=O)C', 'CC(=O)C(C(=O)C)(C)C', 'COC(C(=O)CC)C',\n",
    "                     'CCC(=O)c1ccccc1']}\n",
    "\n",
    "# removed the original fifth and sixth reactions due to the products don't belong to the combined smiles strings file"
   ]
  },
  {
   "cell_type": "code",
   "execution_count": 10,
   "metadata": {},
   "outputs": [
    {
     "data": {
      "text/html": [
       "<div>\n",
       "<style scoped>\n",
       "    .dataframe tbody tr th:only-of-type {\n",
       "        vertical-align: middle;\n",
       "    }\n",
       "\n",
       "    .dataframe tbody tr th {\n",
       "        vertical-align: top;\n",
       "    }\n",
       "\n",
       "    .dataframe thead th {\n",
       "        text-align: right;\n",
       "    }\n",
       "</style>\n",
       "<table border=\"1\" class=\"dataframe\">\n",
       "  <thead>\n",
       "    <tr style=\"text-align: right;\">\n",
       "      <th></th>\n",
       "      <th>reactants</th>\n",
       "      <th>products</th>\n",
       "    </tr>\n",
       "  </thead>\n",
       "  <tbody>\n",
       "    <tr>\n",
       "      <th>0</th>\n",
       "      <td>CC(=O)C</td>\n",
       "      <td>CCC(=O)C</td>\n",
       "    </tr>\n",
       "    <tr>\n",
       "      <th>1</th>\n",
       "      <td>O=C1CCCCC1</td>\n",
       "      <td>CC1CCCCC1=O</td>\n",
       "    </tr>\n",
       "    <tr>\n",
       "      <th>2</th>\n",
       "      <td>O=C1CCCC1C</td>\n",
       "      <td>CC1CCC(C1=O)C</td>\n",
       "    </tr>\n",
       "    <tr>\n",
       "      <th>3</th>\n",
       "      <td>O=C1CCCC1C</td>\n",
       "      <td>O=C1CCCC1(C)C</td>\n",
       "    </tr>\n",
       "    <tr>\n",
       "      <th>4</th>\n",
       "      <td>CC(=O)CC(=O)C</td>\n",
       "      <td>CC(C(=O)C)C(=O)C</td>\n",
       "    </tr>\n",
       "  </tbody>\n",
       "</table>\n",
       "</div>"
      ],
      "text/plain": [
       "       reactants          products\n",
       "0        CC(=O)C          CCC(=O)C\n",
       "1     O=C1CCCCC1       CC1CCCCC1=O\n",
       "2     O=C1CCCC1C     CC1CCC(C1=O)C\n",
       "3     O=C1CCCC1C     O=C1CCCC1(C)C\n",
       "4  CC(=O)CC(=O)C  CC(C(=O)C)C(=O)C"
      ]
     },
     "execution_count": 10,
     "metadata": {},
     "output_type": "execute_result"
    }
   ],
   "source": [
    "#transform to DataFrame type\n",
    "smiles = pd.DataFrame(smiles)\n",
    "smiles.head()"
   ]
  },
  {
   "cell_type": "code",
   "execution_count": 11,
   "metadata": {},
   "outputs": [],
   "source": [
    "#transform smiles string to vectors\n",
    "rvec = [darkchem.utils.struct2vec(reactant).astype(int) for reactant in smiles['reactants']]\n",
    "pvec = [darkchem.utils.struct2vec(product).astype(int) for product in smiles['products']]\n",
    "#tranform list to nd.array\n",
    "rvec = np.array(rvec)\n",
    "pvec = np.array(pvec)\n",
    "#transform numpy array to list  \n",
    "rvec = rvec.tolist() \n",
    "pvec = pvec.tolist()\n",
    "#smiles['rxnvector'] = [smilesdf.pvec[i] - smilesdf.rvec[i] for i in range(len(smilesdf))]"
   ]
  },
  {
   "cell_type": "code",
   "execution_count": 12,
   "metadata": {},
   "outputs": [
    {
     "data": {
      "text/plain": [
       "[True, True, True, True, True, True, True, True]"
      ]
     },
     "execution_count": 12,
     "metadata": {},
     "output_type": "execute_result"
    }
   ],
   "source": [
    "#judge whether the reactants are contained in the training set or not\n",
    "[array_in_nd_array(vec, x) for vec in rvec]"
   ]
  },
  {
   "cell_type": "code",
   "execution_count": 13,
   "metadata": {},
   "outputs": [
    {
     "data": {
      "text/plain": [
       "[True, True, True, True, True, True, True, True]"
      ]
     },
     "execution_count": 13,
     "metadata": {},
     "output_type": "execute_result"
    }
   ],
   "source": [
    "#judge whether the products are included in the training set or not\n",
    "[array_in_nd_array(vec, x) for vec in pvec]"
   ]
  },
  {
   "cell_type": "code",
   "execution_count": 14,
   "metadata": {},
   "outputs": [],
   "source": [
    "#find the specific indices of reactants and products in the training set\n",
    "rindex = [x.index(rvec[i]) for i in range(len(rvec))]\n",
    "pindex = [x.index(pvec[j]) for j in range(len(pvec))]"
   ]
  },
  {
   "cell_type": "code",
   "execution_count": 15,
   "metadata": {},
   "outputs": [],
   "source": [
    "#extract the vectors of reactants and products from training set\n",
    "rlaten = [x[rindex[i]] for i in range(len(rindex))]\n",
    "platen = [x[pindex[j]] for j in range(len(pindex))] "
   ]
  },
  {
   "cell_type": "code",
   "execution_count": 16,
   "metadata": {},
   "outputs": [],
   "source": [
    "#tranform to no.array\n",
    "rlaten = np.array(rlaten)\n",
    "platen = np.array(platen)"
   ]
  },
  {
   "cell_type": "code",
   "execution_count": 17,
   "metadata": {},
   "outputs": [],
   "source": [
    "#generate the latent space representation for reactants and products\n",
    "r_latent = model.encoder.predict(rlaten)\n",
    "p_latent = model.encoder.predict(platen)"
   ]
  },
  {
   "cell_type": "code",
   "execution_count": 18,
   "metadata": {},
   "outputs": [],
   "source": [
    "# create the path vectors \n",
    "path = [p_latent[i] - r_latent[i] for i in range(smiles.shape[0])]"
   ]
  },
  {
   "cell_type": "code",
   "execution_count": 19,
   "metadata": {},
   "outputs": [
    {
     "data": {
      "text/html": [
       "<div>\n",
       "<style scoped>\n",
       "    .dataframe tbody tr th:only-of-type {\n",
       "        vertical-align: middle;\n",
       "    }\n",
       "\n",
       "    .dataframe tbody tr th {\n",
       "        vertical-align: top;\n",
       "    }\n",
       "\n",
       "    .dataframe thead th {\n",
       "        text-align: right;\n",
       "    }\n",
       "</style>\n",
       "<table border=\"1\" class=\"dataframe\">\n",
       "  <thead>\n",
       "    <tr style=\"text-align: right;\">\n",
       "      <th></th>\n",
       "      <th>0</th>\n",
       "      <th>1</th>\n",
       "      <th>2</th>\n",
       "      <th>3</th>\n",
       "      <th>4</th>\n",
       "      <th>5</th>\n",
       "      <th>6</th>\n",
       "      <th>7</th>\n",
       "    </tr>\n",
       "  </thead>\n",
       "  <tbody>\n",
       "    <tr>\n",
       "      <th>0</th>\n",
       "      <td>1.000000</td>\n",
       "      <td>0.002470</td>\n",
       "      <td>0.163614</td>\n",
       "      <td>0.326212</td>\n",
       "      <td>0.285242</td>\n",
       "      <td>0.185808</td>\n",
       "      <td>0.476659</td>\n",
       "      <td>0.854454</td>\n",
       "    </tr>\n",
       "    <tr>\n",
       "      <th>1</th>\n",
       "      <td>0.002470</td>\n",
       "      <td>1.000000</td>\n",
       "      <td>0.713666</td>\n",
       "      <td>0.052942</td>\n",
       "      <td>-0.014770</td>\n",
       "      <td>-0.163662</td>\n",
       "      <td>0.207443</td>\n",
       "      <td>0.060268</td>\n",
       "    </tr>\n",
       "    <tr>\n",
       "      <th>2</th>\n",
       "      <td>0.163614</td>\n",
       "      <td>0.713666</td>\n",
       "      <td>1.000000</td>\n",
       "      <td>0.461192</td>\n",
       "      <td>0.243065</td>\n",
       "      <td>0.022661</td>\n",
       "      <td>0.189457</td>\n",
       "      <td>0.051094</td>\n",
       "    </tr>\n",
       "    <tr>\n",
       "      <th>3</th>\n",
       "      <td>0.326212</td>\n",
       "      <td>0.052942</td>\n",
       "      <td>0.461192</td>\n",
       "      <td>1.000000</td>\n",
       "      <td>0.345487</td>\n",
       "      <td>0.311165</td>\n",
       "      <td>0.470910</td>\n",
       "      <td>0.211952</td>\n",
       "    </tr>\n",
       "    <tr>\n",
       "      <th>4</th>\n",
       "      <td>0.285242</td>\n",
       "      <td>-0.014770</td>\n",
       "      <td>0.243065</td>\n",
       "      <td>0.345487</td>\n",
       "      <td>1.000000</td>\n",
       "      <td>0.618727</td>\n",
       "      <td>-0.055559</td>\n",
       "      <td>0.183516</td>\n",
       "    </tr>\n",
       "    <tr>\n",
       "      <th>5</th>\n",
       "      <td>0.185808</td>\n",
       "      <td>-0.163662</td>\n",
       "      <td>0.022661</td>\n",
       "      <td>0.311165</td>\n",
       "      <td>0.618727</td>\n",
       "      <td>1.000000</td>\n",
       "      <td>0.162696</td>\n",
       "      <td>0.091250</td>\n",
       "    </tr>\n",
       "    <tr>\n",
       "      <th>6</th>\n",
       "      <td>0.476659</td>\n",
       "      <td>0.207443</td>\n",
       "      <td>0.189457</td>\n",
       "      <td>0.470910</td>\n",
       "      <td>-0.055559</td>\n",
       "      <td>0.162696</td>\n",
       "      <td>1.000000</td>\n",
       "      <td>0.391980</td>\n",
       "    </tr>\n",
       "    <tr>\n",
       "      <th>7</th>\n",
       "      <td>0.854454</td>\n",
       "      <td>0.060268</td>\n",
       "      <td>0.051094</td>\n",
       "      <td>0.211952</td>\n",
       "      <td>0.183516</td>\n",
       "      <td>0.091250</td>\n",
       "      <td>0.391980</td>\n",
       "      <td>1.000000</td>\n",
       "    </tr>\n",
       "  </tbody>\n",
       "</table>\n",
       "</div>"
      ],
      "text/plain": [
       "          0         1         2         3         4         5         6  \\\n",
       "0  1.000000  0.002470  0.163614  0.326212  0.285242  0.185808  0.476659   \n",
       "1  0.002470  1.000000  0.713666  0.052942 -0.014770 -0.163662  0.207443   \n",
       "2  0.163614  0.713666  1.000000  0.461192  0.243065  0.022661  0.189457   \n",
       "3  0.326212  0.052942  0.461192  1.000000  0.345487  0.311165  0.470910   \n",
       "4  0.285242 -0.014770  0.243065  0.345487  1.000000  0.618727 -0.055559   \n",
       "5  0.185808 -0.163662  0.022661  0.311165  0.618727  1.000000  0.162696   \n",
       "6  0.476659  0.207443  0.189457  0.470910 -0.055559  0.162696  1.000000   \n",
       "7  0.854454  0.060268  0.051094  0.211952  0.183516  0.091250  0.391980   \n",
       "\n",
       "          7  \n",
       "0  0.854454  \n",
       "1  0.060268  \n",
       "2  0.051094  \n",
       "3  0.211952  \n",
       "4  0.183516  \n",
       "5  0.091250  \n",
       "6  0.391980  \n",
       "7  1.000000  "
      ]
     },
     "execution_count": 19,
     "metadata": {},
     "output_type": "execute_result"
    }
   ],
   "source": [
    "#calculate the Pearson Correlation coefficients for the path vectors\n",
    "cor = np.corrcoef(path)\n",
    "cor = pd.DataFrame(cor)\n",
    "cor"
   ]
  },
  {
   "cell_type": "code",
   "execution_count": 20,
   "metadata": {},
   "outputs": [],
   "source": [
    "#save the vectors for reactants and products\n",
    "#rct8 = np.save('rct8.npy',rvec)\n",
    "#prd8 = np.save('prd8.npy',pvec)"
   ]
  },
  {
   "cell_type": "code",
   "execution_count": 21,
   "metadata": {},
   "outputs": [],
   "source": [
    "# Here I just used the vectors transformed from the function \n",
    "# 'struct2vec' to generate the corresponding latent space representations\n",
    "rls = model.encoder.predict(np.array(rvec))\n",
    "pls = model.encoder.predict(np.array(pvec))"
   ]
  },
  {
   "cell_type": "code",
   "execution_count": 22,
   "metadata": {},
   "outputs": [
    {
     "data": {
      "text/plain": [
       "array([-0.13035029,  0.00977203,  0.7587669 , -0.695763  ,  0.7624186 ,\n",
       "       -0.70816445, -1.6310813 , -1.3992049 ,  0.21437114,  0.16402137,\n",
       "        0.869545  , -0.03586465,  1.2500587 ,  1.1478314 , -0.06087017,\n",
       "        1.579063  , -1.2945819 , -0.69367516, -0.74395645,  0.67282236,\n",
       "        1.0523617 ,  1.0868762 , -1.3348655 , -0.03884706,  0.67275655,\n",
       "       -0.7287611 ,  0.95812255, -0.7532906 ,  0.81484246,  0.67305315,\n",
       "       -0.78553116, -0.78153235,  0.04047529, -0.7960257 , -0.7728058 ,\n",
       "        0.03402176,  0.01002301, -0.02760999,  0.07065707, -0.03489565,\n",
       "        0.83611166,  0.07842414,  0.7925011 ,  0.7465579 ,  0.02986768,\n",
       "        0.79608214, -0.63136995,  0.05825005,  0.88595617,  1.6280986 ,\n",
       "       -0.71103805, -1.1342529 ,  0.74180496,  0.9668985 ,  0.40982607,\n",
       "        1.0991409 , -0.04201152,  0.9303349 , -0.02639547,  0.59913284,\n",
       "       -0.70660055, -0.717965  ,  0.05152839,  0.69333184,  0.2667974 ,\n",
       "        0.04964831, -0.02104664,  0.661407  , -0.7272766 , -0.6475564 ,\n",
       "       -1.7286363 , -0.233597  ,  0.596561  , -0.07205921,  0.6483376 ,\n",
       "       -0.06061441,  0.09660308, -0.7353879 , -0.6834241 , -0.7756459 ,\n",
       "        0.7583054 ,  0.70555705, -0.88284254,  0.7767574 , -0.72349536,\n",
       "        0.7858355 ,  0.03416178,  1.8055263 , -0.6928373 , -0.64915156,\n",
       "        1.2150476 , -1.7233682 , -2.0045068 ,  1.1110892 ,  1.7587633 ,\n",
       "        1.2217976 , -1.550993  , -1.9195397 ,  2.5739489 ,  1.1659507 ,\n",
       "        1.5316217 , -1.6726391 , -1.8560191 , -1.2344166 ,  1.2882547 ,\n",
       "       -0.6139766 ,  1.7469724 , -0.7503111 , -1.7663693 ,  1.7166408 ,\n",
       "       -1.2279851 , -1.7638383 ,  0.9371786 , -1.1795112 ,  0.6810503 ,\n",
       "       -0.5888546 , -0.8220425 , -0.7186575 ,  0.75203145, -1.1310048 ,\n",
       "        0.8534064 ,  0.660271  ,  0.830358  ,  0.67526245,  1.736067  ,\n",
       "        0.6319092 , -0.08120348, -0.08678248], dtype=float32)"
      ]
     },
     "execution_count": 22,
     "metadata": {},
     "output_type": "execute_result"
    }
   ],
   "source": [
    "r_latent[0]"
   ]
  },
  {
   "cell_type": "code",
   "execution_count": 23,
   "metadata": {},
   "outputs": [
    {
     "data": {
      "text/plain": [
       "array([-0.13035029,  0.00977203,  0.7587669 , -0.695763  ,  0.7624186 ,\n",
       "       -0.70816445, -1.6310813 , -1.3992049 ,  0.21437114,  0.16402137,\n",
       "        0.869545  , -0.03586465,  1.2500587 ,  1.1478314 , -0.06087017,\n",
       "        1.579063  , -1.2945819 , -0.69367516, -0.74395645,  0.67282236,\n",
       "        1.0523617 ,  1.0868762 , -1.3348655 , -0.03884706,  0.67275655,\n",
       "       -0.7287611 ,  0.95812255, -0.7532906 ,  0.81484246,  0.67305315,\n",
       "       -0.78553116, -0.78153235,  0.04047529, -0.7960257 , -0.7728058 ,\n",
       "        0.03402176,  0.01002301, -0.02760999,  0.07065707, -0.03489565,\n",
       "        0.83611166,  0.07842414,  0.7925011 ,  0.7465579 ,  0.02986768,\n",
       "        0.79608214, -0.63136995,  0.05825005,  0.88595617,  1.6280986 ,\n",
       "       -0.71103805, -1.1342529 ,  0.74180496,  0.9668985 ,  0.40982607,\n",
       "        1.0991409 , -0.04201152,  0.9303349 , -0.02639547,  0.59913284,\n",
       "       -0.70660055, -0.717965  ,  0.05152839,  0.69333184,  0.2667974 ,\n",
       "        0.04964831, -0.02104664,  0.661407  , -0.7272766 , -0.6475564 ,\n",
       "       -1.7286363 , -0.233597  ,  0.596561  , -0.07205921,  0.6483376 ,\n",
       "       -0.06061441,  0.09660308, -0.7353879 , -0.6834241 , -0.7756459 ,\n",
       "        0.7583054 ,  0.70555705, -0.88284254,  0.7767574 , -0.72349536,\n",
       "        0.7858355 ,  0.03416178,  1.8055263 , -0.6928373 , -0.64915156,\n",
       "        1.2150476 , -1.7233682 , -2.0045068 ,  1.1110892 ,  1.7587633 ,\n",
       "        1.2217976 , -1.550993  , -1.9195397 ,  2.5739489 ,  1.1659507 ,\n",
       "        1.5316217 , -1.6726391 , -1.8560191 , -1.2344166 ,  1.2882547 ,\n",
       "       -0.6139766 ,  1.7469724 , -0.7503111 , -1.7663693 ,  1.7166408 ,\n",
       "       -1.2279851 , -1.7638383 ,  0.9371786 , -1.1795112 ,  0.6810503 ,\n",
       "       -0.5888546 , -0.8220425 , -0.7186575 ,  0.75203145, -1.1310048 ,\n",
       "        0.8534064 ,  0.660271  ,  0.830358  ,  0.67526245,  1.736067  ,\n",
       "        0.6319092 , -0.08120348, -0.08678248], dtype=float32)"
      ]
     },
     "execution_count": 23,
     "metadata": {},
     "output_type": "execute_result"
    }
   ],
   "source": [
    "rls[0]"
   ]
  },
  {
   "cell_type": "markdown",
   "metadata": {},
   "source": [
    "From here, you can see r_latent list is the same as rls list. "
   ]
  },
  {
   "cell_type": "code",
   "execution_count": 24,
   "metadata": {},
   "outputs": [],
   "source": [
    "#predict the smiles strings using latent space vectors\n",
    "x_pred = model.decoder.predict(r_latent)"
   ]
  },
  {
   "cell_type": "code",
   "execution_count": 25,
   "metadata": {},
   "outputs": [],
   "source": [
    "#transform latent space representations to vectors\n",
    "trs = darkchem.utils.beamsearch(x_pred, k=1)"
   ]
  },
  {
   "cell_type": "code",
   "execution_count": 26,
   "metadata": {},
   "outputs": [],
   "source": [
    "# transform the type to [-1,100] for the following calculation of structure\n",
    "trs = trs.reshape(-1,100)"
   ]
  },
  {
   "cell_type": "code",
   "execution_count": 27,
   "metadata": {},
   "outputs": [],
   "source": [
    "#transform the vectors to structure\n",
    "v2s = [darkchem.utils.vec2struct(trs[i]) for i in range(len(trs))]"
   ]
  },
  {
   "cell_type": "code",
   "execution_count": 28,
   "metadata": {},
   "outputs": [
    {
     "data": {
      "text/plain": [
       "['CC(=O)C',\n",
       " 'O=C1CCCCC1',\n",
       " 'O=C1CCCC1C',\n",
       " 'O=C1CCCC1C',\n",
       " 'CC(=O)CC(=O)C',\n",
       " 'CC(=O)CC(=O)C',\n",
       " 'COCC(=O)C',\n",
       " 'CC(=O)c1ccccc1']"
      ]
     },
     "execution_count": 28,
     "metadata": {},
     "output_type": "execute_result"
    }
   ],
   "source": [
    "v2s\n",
    "# something wrong with the indent, but here we can know the whole process is right.\n",
    "#That's to say the data extract from combined smiles strings.npy file equals to\n",
    "# the data we get from the function 'struct2vecS'"
   ]
  },
  {
   "cell_type": "code",
   "execution_count": null,
   "metadata": {},
   "outputs": [],
   "source": []
  }
 ],
 "metadata": {
  "kernelspec": {
   "display_name": "Python 3",
   "language": "python",
   "name": "python3"
  },
  "language_info": {
   "codemirror_mode": {
    "name": "ipython",
    "version": 3
   },
   "file_extension": ".py",
   "mimetype": "text/x-python",
   "name": "python",
   "nbconvert_exporter": "python",
   "pygments_lexer": "ipython3",
   "version": "3.6.8"
  }
 },
 "nbformat": 4,
 "nbformat_minor": 2
}
