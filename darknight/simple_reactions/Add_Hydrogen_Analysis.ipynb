{
 "cells": [
  {
   "cell_type": "code",
   "execution_count": 1,
   "metadata": {},
   "outputs": [
    {
     "name": "stderr",
     "output_type": "stream",
     "text": [
      "Using TensorFlow backend.\n"
     ]
    }
   ],
   "source": [
    "import math\n",
    "import sys\n",
    "sys.path.append('../darknight/')\n",
    "from fcts import array_in_nd_array, remove_space, r2pcorr,struc2mol\n",
    "import numpy as np\n",
    "import pandas as pd\n",
    "import darkchem\n",
    "import matplotlib.pyplot as plt\n",
    "from rdkit.Chem import AllChem as Chem\n",
    "from rdkit.Chem import PandasTools,Draw\n",
    "# plotting stuff\n",
    "import matplotlib.pyplot as plt\n",
    "import matplotlib as mpl\n",
    "from IPython.display import SVG, display\n",
    "%config InlineBackend.figure_format = 'retina'\n",
    "#import package\n",
    "from sklearn import linear_model\n",
    "from pandas.plotting import scatter_matrix\n",
    "from sklearn.model_selection import train_test_split\n",
    "from sklearn.metrics import mean_squared_error\n",
    "from sklearn.preprocessing import StandardScaler\n",
    "get_ipython().run_line_magic('matplotlib', 'inline')\n",
    "from sklearn.linear_model import LinearRegression"
   ]
  },
  {
   "cell_type": "code",
   "execution_count": 2,
   "metadata": {},
   "outputs": [],
   "source": [
    "#load model\n",
    "model = darkchem.utils.load_model('../Final Trained DarkChem Network Weights/N7b_[M+H]')"
   ]
  },
  {
   "cell_type": "code",
   "execution_count": 3,
   "metadata": {},
   "outputs": [],
   "source": [
    "data = pd.read_csv('Aromatic_hydrocarbon.csv') # train_data1 is better,"
   ]
  },
  {
   "cell_type": "code",
   "execution_count": 4,
   "metadata": {},
   "outputs": [],
   "source": [
    "# calculate the vectors of reactants and products\n",
    "rvec = [darkchem.utils.struct2vec(reactant) for reactant in data['Reactants']]\n",
    "pvec = [darkchem.utils.struct2vec(product) for product in data['Products']]\n",
    "# transform the data type to np.array \n",
    "# for the calculation of latent space vectors\n",
    "rvec = np.array(rvec).astype(int)\n",
    "pvec = np.array(pvec).astype(int)"
   ]
  },
  {
   "cell_type": "code",
   "execution_count": 5,
   "metadata": {},
   "outputs": [],
   "source": [
    "#generate the latent space representation for reactants and products\n",
    "r_latent = model.encoder.predict(rvec)\n",
    "p_latent = model.encoder.predict(pvec)"
   ]
  },
  {
   "cell_type": "code",
   "execution_count": 6,
   "metadata": {},
   "outputs": [],
   "source": [
    "# transform the data type to DataFrame \n",
    "rvecdf = pd.DataFrame(r_latent)\n",
    "pvecdf = pd.DataFrame(p_latent)"
   ]
  },
  {
   "cell_type": "markdown",
   "metadata": {},
   "source": [
    "#### The average and std dev of angle and magnitude of vectors"
   ]
  },
  {
   "cell_type": "code",
   "execution_count": 7,
   "metadata": {},
   "outputs": [],
   "source": [
    "#calculate the latent path vector for the 46 reactions\n",
    "path = pvecdf - rvecdf"
   ]
  },
  {
   "cell_type": "code",
   "execution_count": 8,
   "metadata": {},
   "outputs": [
    {
     "data": {
      "text/plain": [
       "array([ 4.32785321e-03, -9.56029049e-04, -2.64593251e-02,  3.62543538e-02,\n",
       "       -3.31042856e-02,  2.28673890e-02,  9.69901010e-02,  3.84587012e-02,\n",
       "       -9.75953136e-03, -1.40143735e-02, -1.93816181e-02, -1.08612338e-02,\n",
       "       -3.83131281e-02, -3.46497297e-02,  8.58536735e-03, -3.62091064e-02,\n",
       "        9.54204202e-02,  2.75522862e-02,  1.70181654e-02, -2.78925449e-02,\n",
       "       -6.09201975e-02, -6.08955137e-02,  1.29526317e-01,  4.94026020e-03,\n",
       "       -1.91287156e-02,  2.57146172e-02, -6.57552034e-02,  2.84309983e-02,\n",
       "       -2.87844427e-02, -2.98290178e-02,  2.45631095e-02,  3.18894349e-02,\n",
       "       -8.66295304e-03,  2.66994704e-02,  3.36726010e-02, -2.51171459e-02,\n",
       "       -6.19023014e-03, -1.57882599e-03,  1.62669423e-03, -2.77519954e-04,\n",
       "       -2.73773205e-02, -2.58318824e-03, -1.96556263e-02, -2.42884029e-02,\n",
       "       -1.00500891e-02, -2.60108635e-02,  2.68095732e-02, -1.04423771e-02,\n",
       "       -3.78113277e-02, -2.12313905e-02,  2.59768236e-02,  6.51911348e-02,\n",
       "       -1.82442460e-02, -2.86797397e-02, -1.67822346e-01, -2.28521768e-02,\n",
       "       -2.47867163e-02, -1.77035667e-02,  4.53739949e-02, -2.47079711e-02,\n",
       "        2.86692493e-02,  2.51709018e-02, -6.44812640e-03, -2.79540215e-02,\n",
       "       -1.49794342e-02,  1.71722274e-03,  2.90922471e-03, -2.45160274e-02,\n",
       "        2.91083939e-02,  2.67865118e-02,  4.57461588e-02,  1.75582804e-02,\n",
       "       -2.88619734e-02, -2.87667895e-03, -2.13866476e-02,  6.91500492e-03,\n",
       "       -5.26112039e-04,  2.70094518e-02,  2.31515616e-02,  2.37658136e-02,\n",
       "       -3.01988833e-02, -3.41044217e-02,  8.12536553e-02, -2.28433721e-02,\n",
       "        2.71675531e-02, -3.25274244e-02,  3.88647430e-03, -4.21363637e-02,\n",
       "       -1.88907459e-02,  3.17635126e-02, -4.83334623e-02,  2.94860341e-02,\n",
       "        4.41272259e-02, -5.94166405e-02, -9.35212001e-02, -8.50611553e-02,\n",
       "        8.28886330e-02, -2.80672908e-02, -8.14867541e-02, -7.12461397e-02,\n",
       "       -5.11247590e-02, -6.35318924e-03,  9.75879878e-02,  3.45902920e-01,\n",
       "        1.70423407e-02,  4.20614369e-02,  9.59070623e-01,  2.12705918e-02,\n",
       "       -3.73610519e-02,  4.83129680e-01,  4.22894955e-03,  3.60800549e-02,\n",
       "       -3.89770679e-02,  1.24425091e-01, -3.27492245e-02,  2.42182612e-02,\n",
       "        1.00774430e-02,  2.37703323e-02, -4.01429348e-02,  6.67005330e-02,\n",
       "       -5.60533963e-02, -3.16333063e-02, -3.71990949e-02, -2.61509158e-02,\n",
       "       -5.04263751e-02, -3.06414813e-02,  4.32118820e-03, -1.38900627e-03],\n",
       "      dtype=float32)"
      ]
     },
     "execution_count": 8,
     "metadata": {},
     "output_type": "execute_result"
    }
   ],
   "source": [
    "#the average of path vector\n",
    "path_vec =np.array(path.mean().values)\n",
    "path_vec"
   ]
  },
  {
   "cell_type": "markdown",
   "metadata": {},
   "source": [
    "Above is the specific value of the average latent path vector."
   ]
  },
  {
   "cell_type": "code",
   "execution_count": 9,
   "metadata": {},
   "outputs": [],
   "source": [
    "def difference(lact,lprd):\n",
    "    \"\"\"\n",
    "    Function utilized to calculate the difference between\n",
    "    the actual and predicted products latent vectors\n",
    "    \"\"\"\n",
    "    d = []\n",
    "    for i in range(len(lact)):\n",
    "        s = 0\n",
    "        for j in range(lact.shape[1]):\n",
    "            s += (lact.iloc[i][j] - lprd.iloc[i][j])**2\n",
    "        s = np.sqrt(s)\n",
    "        d.append(s)\n",
    "    return d"
   ]
  },
  {
   "cell_type": "code",
   "execution_count": 10,
   "metadata": {},
   "outputs": [],
   "source": [
    "def vector_magnitude(data):\n",
    "    \"\"\"\n",
    "    A function used to compute the average and std of magnitude of path vectors.\n",
    "    \"\"\"\n",
    "    a = []\n",
    "    for i in range(len(data)):\n",
    "        s = 0\n",
    "        for j in range(data.shape[1]):\n",
    "            s += (data.iloc[i][j])**2\n",
    "        s = np.sqrt(s)\n",
    "        a.append(s)\n",
    "    aveg = np.average(a)\n",
    "    std = np.std(a)\n",
    "    print ('The average magnitude is:',aveg)\n",
    "    print ('The std magnitude is:',std)\n",
    "    #return aveg,std"
   ]
  },
  {
   "cell_type": "code",
   "execution_count": 11,
   "metadata": {},
   "outputs": [
    {
     "name": "stdout",
     "output_type": "stream",
     "text": [
      "The average magnitude is: 1.7789006181574405\n",
      "The std magnitude is: 0.0918287871555052\n"
     ]
    }
   ],
   "source": [
    "#the average and std of magnitude of path vectors\n",
    "vector_magnitude(path)"
   ]
  },
  {
   "cell_type": "code",
   "execution_count": 12,
   "metadata": {},
   "outputs": [],
   "source": [
    "def vector_angle(rct,prd):\n",
    "    \"\"\"\n",
    "    A function used to compute the average and std of angle of path vectors\n",
    "    \"\"\"\n",
    "    #u = []\n",
    "    #d = []\n",
    "    angle = []\n",
    "    for i in range(len(rct)):\n",
    "        up = 0\n",
    "        rm = 0\n",
    "        pm = 0\n",
    "        for j in range(rct.shape[1]):\n",
    "            up += rct.iloc[i][j] * prd.iloc[i][j]  #numerator\n",
    "            rm += (rct.iloc[i][j])**2  # the magnitude of reactant vector\n",
    "            pm += (prd.iloc[i][j])**2  # the magnitude of product vector\n",
    "        #u.append(up)\n",
    "        rm = np.sqrt(rm)\n",
    "        pm = np.sqrt(pm)\n",
    "        cos = up/(rm*pm)\n",
    "        a = math.degrees(math.acos(cos))\n",
    "        #d.append(rm*pm)\n",
    "        angle.append(a)\n",
    "    aveg = np.average(angle)\n",
    "    std = np.std(angle)\n",
    "    print('The average angle is:',aveg)\n",
    "    print('The std angle is:',std)"
   ]
  },
  {
   "cell_type": "code",
   "execution_count": 13,
   "metadata": {},
   "outputs": [
    {
     "name": "stdout",
     "output_type": "stream",
     "text": [
      "The average angle is: 17.71002198697537\n",
      "The std angle is: 3.0085084480297577\n"
     ]
    }
   ],
   "source": [
    "#the average and std of the angle between products and reactants vectors\n",
    "vector_angle(rvecdf,pvecdf)"
   ]
  },
  {
   "cell_type": "code",
   "execution_count": 14,
   "metadata": {},
   "outputs": [],
   "source": [
    "#load test data\n",
    "testdf = pd.read_csv('Aromatic_test.csv')"
   ]
  },
  {
   "cell_type": "code",
   "execution_count": 15,
   "metadata": {},
   "outputs": [
    {
     "data": {
      "text/html": [
       "<div>\n",
       "<style scoped>\n",
       "    .dataframe tbody tr th:only-of-type {\n",
       "        vertical-align: middle;\n",
       "    }\n",
       "\n",
       "    .dataframe tbody tr th {\n",
       "        vertical-align: top;\n",
       "    }\n",
       "\n",
       "    .dataframe thead th {\n",
       "        text-align: right;\n",
       "    }\n",
       "</style>\n",
       "<table border=\"1\" class=\"dataframe\">\n",
       "  <thead>\n",
       "    <tr style=\"text-align: right;\">\n",
       "      <th></th>\n",
       "      <th>Reactants</th>\n",
       "      <th>Products</th>\n",
       "      <th>Predictions</th>\n",
       "      <th>Accuracy</th>\n",
       "      <th>Distance</th>\n",
       "    </tr>\n",
       "  </thead>\n",
       "  <tbody>\n",
       "    <tr>\n",
       "      <th>0</th>\n",
       "      <td>Cc1ccc(CCC=O)cc1</td>\n",
       "      <td>CC1CCC(CCC=O)CC1</td>\n",
       "      <td>CC1CCC(CCC=O)CC1</td>\n",
       "      <td>True</td>\n",
       "      <td>0.000000</td>\n",
       "    </tr>\n",
       "    <tr>\n",
       "      <th>1</th>\n",
       "      <td>CCCc1ccc(CCC=O)cc1</td>\n",
       "      <td>CCCC1CCC(CCC=O)CC1</td>\n",
       "      <td>CCCC1CCC(CCC=O)Cc1</td>\n",
       "      <td>True</td>\n",
       "      <td>0.592035</td>\n",
       "    </tr>\n",
       "    <tr>\n",
       "      <th>2</th>\n",
       "      <td>CCc1ccc(CCC=O)cc1</td>\n",
       "      <td>CCC1CCC(CCC=O)CC1</td>\n",
       "      <td>CCC1CCC(CCC=O)CC1</td>\n",
       "      <td>True</td>\n",
       "      <td>0.000000</td>\n",
       "    </tr>\n",
       "    <tr>\n",
       "      <th>3</th>\n",
       "      <td>O=C1OCCC1c1ccccc1</td>\n",
       "      <td>O=C1OCCC1C1CCCCC1</td>\n",
       "      <td>O=C1OCCC1C1CCCCc1</td>\n",
       "      <td>True</td>\n",
       "      <td>0.637158</td>\n",
       "    </tr>\n",
       "    <tr>\n",
       "      <th>4</th>\n",
       "      <td>CN1CCN(c2ccccc2)CC1</td>\n",
       "      <td>CN1CCN(C2CCCCC2)CC1</td>\n",
       "      <td>CN1CCN(C2CCCCC2)CC1</td>\n",
       "      <td>True</td>\n",
       "      <td>0.000000</td>\n",
       "    </tr>\n",
       "    <tr>\n",
       "      <th>5</th>\n",
       "      <td>Oc1ccc(OC2CCOC2)cc1</td>\n",
       "      <td>OC1CCC(OC2CCOC2)CC1</td>\n",
       "      <td>OC1CCC(CC1CCOC2CCc1</td>\n",
       "      <td>False</td>\n",
       "      <td>1.519377</td>\n",
       "    </tr>\n",
       "    <tr>\n",
       "      <th>6</th>\n",
       "      <td>O=C(O)c1ccc(OCCO)cc1</td>\n",
       "      <td>O=C(O)C1CCC(OCCO)CC1</td>\n",
       "      <td>O=C(O)C1CCC(OCCO)Cc1</td>\n",
       "      <td>True</td>\n",
       "      <td>0.620912</td>\n",
       "    </tr>\n",
       "    <tr>\n",
       "      <th>7</th>\n",
       "      <td>COc1ccc(CN)cc1</td>\n",
       "      <td>COC1CCC(CN)CC1</td>\n",
       "      <td>COC1CCC(CN)CC1</td>\n",
       "      <td>True</td>\n",
       "      <td>0.000000</td>\n",
       "    </tr>\n",
       "    <tr>\n",
       "      <th>8</th>\n",
       "      <td>O=C(O)C1Cc2ccccc2C1</td>\n",
       "      <td>O=C(O)C1CC2CCCCC2C1</td>\n",
       "      <td>O=C(O/C1CC2CCccc2C1</td>\n",
       "      <td>False</td>\n",
       "      <td>1.704719</td>\n",
       "    </tr>\n",
       "    <tr>\n",
       "      <th>9</th>\n",
       "      <td>CC(CO)CCCc1ccccc1</td>\n",
       "      <td>CC(CO)CCCC1CCCCC1</td>\n",
       "      <td>CC(CO)CCCC1CCcCc1</td>\n",
       "      <td>True</td>\n",
       "      <td>0.870146</td>\n",
       "    </tr>\n",
       "  </tbody>\n",
       "</table>\n",
       "</div>"
      ],
      "text/plain": [
       "             Reactants               Products           Predictions  Accuracy  Distance\n",
       "0      Cc1ccc(CCC=O)cc1      CC1CCC(CCC=O)CC1      CC1CCC(CCC=O)CC1      True  0.000000\n",
       "1    CCCc1ccc(CCC=O)cc1    CCCC1CCC(CCC=O)CC1    CCCC1CCC(CCC=O)Cc1      True  0.592035\n",
       "2     CCc1ccc(CCC=O)cc1     CCC1CCC(CCC=O)CC1     CCC1CCC(CCC=O)CC1      True  0.000000\n",
       "3     O=C1OCCC1c1ccccc1     O=C1OCCC1C1CCCCC1     O=C1OCCC1C1CCCCc1      True  0.637158\n",
       "4   CN1CCN(c2ccccc2)CC1   CN1CCN(C2CCCCC2)CC1   CN1CCN(C2CCCCC2)CC1      True  0.000000\n",
       "5   Oc1ccc(OC2CCOC2)cc1   OC1CCC(OC2CCOC2)CC1   OC1CCC(CC1CCOC2CCc1     False  1.519377\n",
       "6  O=C(O)c1ccc(OCCO)cc1  O=C(O)C1CCC(OCCO)CC1  O=C(O)C1CCC(OCCO)Cc1      True  0.620912\n",
       "7        COc1ccc(CN)cc1        COC1CCC(CN)CC1        COC1CCC(CN)CC1      True  0.000000\n",
       "8   O=C(O)C1Cc2ccccc2C1   O=C(O)C1CC2CCCCC2C1   O=C(O/C1CC2CCccc2C1     False  1.704719\n",
       "9     CC(CO)CCCc1ccccc1     CC(CO)CCCC1CCCCC1     CC(CO)CCCC1CCcCc1      True  0.870146"
      ]
     },
     "execution_count": 15,
     "metadata": {},
     "output_type": "execute_result"
    }
   ],
   "source": [
    "testdf"
   ]
  },
  {
   "cell_type": "markdown",
   "metadata": {},
   "source": [
    "For the exact predictions, there is still one discrepancy between them and their corresponding actual smile strings. For example, the #2 prediction, the last two characters are 'C1' and 'c1' in Products and Predictions coulumns,respectively. Additionally, this divergence accounts for the fact the distance is bigger than 0 within the true predictions.     "
   ]
  },
  {
   "cell_type": "code",
   "execution_count": 16,
   "metadata": {},
   "outputs": [],
   "source": [
    "#preparation for  below display \n",
    "act = pd.DataFrame(data = testdf['Products'].values, columns = ['smiles'])\n",
    "prd = pd.DataFrame(data = testdf['Predictions'].values,columns = ['smiles'])\n",
    "act = struc2mol(act)\n",
    "prd = struc2mol(prd)"
   ]
  },
  {
   "cell_type": "markdown",
   "metadata": {},
   "source": [
    "#### Display the actual products smiles strings with their molecule structures"
   ]
  },
  {
   "cell_type": "code",
   "execution_count": 17,
   "metadata": {},
   "outputs": [
    {
     "data": {
      "image/png": "[encoded data removed]",
      "text/plain": [
       "<PIL.PngImagePlugin.PngImageFile image mode=RGB size=1000x400 at 0x18B398D2710>"
      ]
     },
     "metadata": {},
     "output_type": "display_data"
    }
   ],
   "source": [
    "display(PandasTools.FrameToGridImage(act,column='mol', legendsCol='smiles',molsPerRow=5))"
   ]
  },
  {
   "cell_type": "markdown",
   "metadata": {},
   "source": [
    "#### Display the predicted products smiles strings with their molecule structures(Empty is invalid smiles string)"
   ]
  },
  {
   "cell_type": "code",
   "execution_count": 18,
   "metadata": {},
   "outputs": [
    {
     "data": {
      "image/png": "[encoded data removed]",
      "text/plain": [
       "<PIL.PngImagePlugin.PngImageFile image mode=RGB size=1000x400 at 0x18B39897DA0>"
      ]
     },
     "metadata": {},
     "output_type": "display_data"
    }
   ],
   "source": [
    "display(PandasTools.FrameToGridImage(prd,column='mol', legendsCol='smiles',molsPerRow=5))"
   ]
  },
  {
   "cell_type": "markdown",
   "metadata": {},
   "source": [
    "I tested 10 chemical reactions and there are only two predictions are meaningless.\n",
    "The k value is 10 when using beamsearch function, and the exact smile string is one of the 10 predicted results. Sometimes there will be reiterated smile strings in the consequences, including the corrected one. "
   ]
  },
  {
   "cell_type": "code",
   "execution_count": 19,
   "metadata": {},
   "outputs": [],
   "source": [
    "#molecules generated within 1 std dev of the average vector\n",
    "stdpath_vec = path_vec + 0.0918287871555052\n",
    "mstdpath_vec = path_vec - 0.0918287871555052"
   ]
  },
  {
   "cell_type": "code",
   "execution_count": 20,
   "metadata": {},
   "outputs": [
    {
     "data": {
      "image/png": "[encoded data removed]",
      "text/plain": [
       "<PIL.PngImagePlugin.PngImageFile image mode=RGB size=1000x400 at 0x18B39B1A630>"
      ]
     },
     "metadata": {},
     "output_type": "display_data"
    }
   ],
   "source": [
    "smi = 'CCCc1ccc(CCC=O)cc1' \n",
    "test = darkchem.utils.struct2vec(smi)\n",
    "test = np.array(test)\n",
    "test = test.reshape(-1,100)\n",
    "t_l = model.encoder.predict(test)\n",
    "t_pre = t_l + stdpath_vec\n",
    "t_pred = model.decoder.predict(t_pre)\n",
    "trs = darkchem.utils.beamsearch(t_pred, k=10)\n",
    "trs = trs.flatten()\n",
    "trs = trs.reshape(-1,100)\n",
    "v2s = [darkchem.utils.vec2struct(trs[i]) for i in range(len(trs))]\n",
    "sms = {'smiles': v2s}\n",
    "sms = pd.DataFrame(data = sms)\n",
    "df = struc2mol(sms)\n",
    "display(PandasTools.FrameToGridImage(df,column='mol', legendsCol='smiles',molsPerRow=5))"
   ]
  },
  {
   "cell_type": "markdown",
   "metadata": {},
   "source": [
    "For this test, the reaction path vector equals the average path vector plus 1std dev. Obviously, it leads to false predictions. "
   ]
  },
  {
   "cell_type": "code",
   "execution_count": 21,
   "metadata": {},
   "outputs": [
    {
     "data": {
      "image/png": "[encoded data removed]",
      "text/plain": [
       "<PIL.PngImagePlugin.PngImageFile image mode=RGB size=1000x400 at 0x18B39B1A9B0>"
      ]
     },
     "metadata": {},
     "output_type": "display_data"
    }
   ],
   "source": [
    "smi = 'CCCc1ccc(CCC=O)cc1' \n",
    "test = darkchem.utils.struct2vec(smi)\n",
    "test = np.array(test)\n",
    "test = test.reshape(-1,100)\n",
    "t_l = model.encoder.predict(test)\n",
    "t_pre = t_l + mstdpath_vec\n",
    "t_pred = model.decoder.predict(t_pre)\n",
    "trs = darkchem.utils.beamsearch(t_pred, k=10)\n",
    "trs = trs.flatten()\n",
    "trs = trs.reshape(-1,100)\n",
    "v2s = [darkchem.utils.vec2struct(trs[i]) for i in range(len(trs))]\n",
    "sms = {'smiles': v2s}\n",
    "sms = pd.DataFrame(data = sms)\n",
    "df = struc2mol(sms)\n",
    "display(PandasTools.FrameToGridImage(df,column='mol', legendsCol='smiles',molsPerRow=5))"
   ]
  },
  {
   "cell_type": "markdown",
   "metadata": {},
   "source": [
    "For this example, the reaction path vector equals the average path vector minus 1std dev. We can know that it produces correct prediction(the 7th molecule,'CCCC1CCC(CCC=O)Cc1')."
   ]
  },
  {
   "cell_type": "markdown",
   "metadata": {},
   "source": [
    "However, it doesn't mean the latter reaction path vector(smaller one) is better. Because when I changed a different reactant ie. 'Cc1ccc(CCC=O)cc1', both the above predicitons brought about opposite outcomes. That's to say the former produced the exact prediction while the latter engendered wrong results."
   ]
  }
 ],
 "metadata": {
  "kernelspec": {
   "display_name": "Python 3",
   "language": "python",
   "name": "python3"
  },
  "language_info": {
   "codemirror_mode": {
    "name": "ipython",
    "version": 3
   },
   "file_extension": ".py",
   "mimetype": "text/x-python",
   "name": "python",
   "nbconvert_exporter": "python",
   "pygments_lexer": "ipython3",
   "version": "3.6.8"
  }
 },
 "nbformat": 4,
 "nbformat_minor": 2
}
