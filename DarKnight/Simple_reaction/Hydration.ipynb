{
 "cells": [
  {
   "cell_type": "code",
   "execution_count": 1,
   "metadata": {},
   "outputs": [
    {
     "name": "stderr",
     "output_type": "stream",
     "text": [
      "Using TensorFlow backend.\n"
     ]
    }
   ],
   "source": [
    "import pandas as pd\n",
    "import numpy as np\n",
    "import darkchem\n",
    "import math"
   ]
  },
  {
   "cell_type": "markdown",
   "metadata": {},
   "source": [
    "#### Several reactions of Hydration: `Benzene` `1-Butene` `2-Butene` `1-Hexene`"
   ]
  },
  {
   "cell_type": "code",
   "execution_count": 2,
   "metadata": {},
   "outputs": [],
   "source": [
    "# Load reactants \n",
    "smi_in = {'reactants':['c1ccccc1','CCC=C','C/C=C/C','CCCCC=C']}\n",
    "# Load products  \n",
    "smi_out = {'products':['Oc1ccccc1','CCC(O)C','CCC(O)C','CCCCC(O)C']}       \n",
    "# Transform to DataFrame\n",
    "smi_in = pd.DataFrame(smi_in)  \n",
    "smi_out = pd.DataFrame(smi_out)\n",
    "# Represent reactants in the form of vector\n",
    "rct = [darkchem.utils.struct2vec(smi) for smi in smi_in['reactants']]  \n",
    "# Represent prodcuts in the form of vector\n",
    "prod = [darkchem.utils.struct2vec(smi) for smi in smi_out['products']] "
   ]
  },
  {
   "cell_type": "code",
   "execution_count": 3,
   "metadata": {},
   "outputs": [],
   "source": [
    "# Put those vectors into DataFrame\n",
    "rct = pd.DataFrame(rct)\n",
    "prod = pd.DataFrame(prod)"
   ]
  },
  {
   "cell_type": "code",
   "execution_count": 4,
   "metadata": {},
   "outputs": [
    {
     "name": "stdout",
     "output_type": "stream",
     "text": [
      "The lengh of each reaction path = [18.05547008526779, 32.43454948045371, 34.20526275297414, 43.54308211415448]\n"
     ]
    }
   ],
   "source": [
    "# Calcualte the lengh of each reaction path\n",
    "s = 0\n",
    "d = []\n",
    "for i in range(4):\n",
    "    for j in range(100):\n",
    "        s += (rct.loc[i][j] - prod.loc[i][j])**2\n",
    "    ds = np.sqrt(s)\n",
    "    d.append(ds)\n",
    "print('The lengh of each reaction path =', d)"
   ]
  },
  {
   "cell_type": "code",
   "execution_count": 5,
   "metadata": {},
   "outputs": [
    {
     "name": "stdout",
     "output_type": "stream",
     "text": [
      "The angle between the vectors of reactants and products of each reactions =\n",
      "[0.6115044811833035, 0.6457305942915628, 0.509857907016216, 0.5404779029054397]\n"
     ]
    }
   ],
   "source": [
    "# Calculate the dot product of each reaction\n",
    "s2 = 0\n",
    "d2= []\n",
    "for i in range(4):\n",
    "    for j in range(100):\n",
    "        s2 += (rct.loc[i][j] * prod.loc[i][j])\n",
    "    #ds = np.sqrt(s)\n",
    "    d2.append(s2)\n",
    "\n",
    "\n",
    "# Calculate the product of each reactant and product\n",
    "s3 = 0\n",
    "s4 = 0\n",
    "d3= []\n",
    "for i in range(4):\n",
    "    for j in range(100):\n",
    "        s3 += (rct.loc[i][j])**2\n",
    "        s4 += (prod.loc[i][j])**2\n",
    "    dd = np.sqrt(s3)\n",
    "    dx = np.sqrt(s4)\n",
    "    xx = dd*dx\n",
    "    d3.append(xx)\n",
    "\n",
    "# Insert the formula of Cosine theorem\n",
    "a = []\n",
    "for i in range(4):\n",
    "    cos = d2[i]/d3[i]  #this is the value of cos(sita)\n",
    "    angle = math.acos(cos)  #this is the value of sita\n",
    "    a.append(angle)\n",
    "print('The angle between the vectors of reactants and products of each reactions =')\n",
    "print(a)"
   ]
  },
  {
   "cell_type": "markdown",
   "metadata": {},
   "source": [
    "#### Hydration\n",
    "| Index |Benzene |1-Butene|2-Butene|1-Hexene|\n",
    "|-------|--------|--------|--------|--------|\n",
    "| Length|18.05547|32.43454|34.20526|43.54308|\n",
    "| Angle |0.611504|0.645730|0.509857|0.540477|"
   ]
  },
  {
   "cell_type": "code",
   "execution_count": null,
   "metadata": {},
   "outputs": [],
   "source": []
  }
 ],
 "metadata": {
  "kernelspec": {
   "display_name": "Python 3",
   "language": "python",
   "name": "python3"
  },
  "language_info": {
   "codemirror_mode": {
    "name": "ipython",
    "version": 3
   },
   "file_extension": ".py",
   "mimetype": "text/x-python",
   "name": "python",
   "nbconvert_exporter": "python",
   "pygments_lexer": "ipython3",
   "version": "3.7.3"
  }
 },
 "nbformat": 4,
 "nbformat_minor": 2
}
