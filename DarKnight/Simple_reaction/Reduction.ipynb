{
 "cells": [
  {
   "cell_type": "code",
   "execution_count": 1,
   "metadata": {},
   "outputs": [
    {
     "name": "stderr",
     "output_type": "stream",
     "text": [
      "Using TensorFlow backend.\n"
     ]
    }
   ],
   "source": [
    "import pandas as pd\n",
    "import numpy as np\n",
    "import darkchem\n",
    "import math"
   ]
  },
  {
   "cell_type": "markdown",
   "metadata": {},
   "source": [
    "#### Several reactions of Reduction: `Benzene` `1-Butene` `2-Butene` `1-Hexene`"
   ]
  },
  {
   "cell_type": "code",
   "execution_count": 2,
   "metadata": {},
   "outputs": [],
   "source": [
    "# Load reactants \n",
    "smi_in = {'reactants':['c1ccccc1','CCC=C','C/C=C/C','CCCCC=C']}\n",
    "# Load products  \n",
    "smi_out = {'products':['C1CCCCC1','CCCC','CCCC','CCCCCC']}       \n",
    "# Transform to DataFrame\n",
    "smi_in = pd.DataFrame(smi_in)  \n",
    "smi_out = pd.DataFrame(smi_out)\n",
    "# Represent reactants in the form of vector\n",
    "rct = [darkchem.utils.struct2vec(smi) for smi in smi_in['reactants']]  \n",
    "# Represent prodcuts in the form of vector\n",
    "prod = [darkchem.utils.struct2vec(smi) for smi in smi_out['products']] "
   ]
  },
  {
   "cell_type": "code",
   "execution_count": 3,
   "metadata": {},
   "outputs": [],
   "source": [
    "# Put those vectors into DataFrame\n",
    "rct = pd.DataFrame(rct)\n",
    "prod = pd.DataFrame(prod)"
   ]
  },
  {
   "cell_type": "code",
   "execution_count": 4,
   "metadata": {},
   "outputs": [
    {
     "name": "stdout",
     "output_type": "stream",
     "text": [
      "The lengh of each reaction path = [4.898979485566356, 21.18962010041709, 37.94733192202055, 43.18564576337837]\n"
     ]
    }
   ],
   "source": [
    "# Calcualte the lengh of each reaction path\n",
    "s = 0\n",
    "d = []\n",
    "for i in range(4):\n",
    "    for j in range(100):\n",
    "        s += (rct.loc[i][j] - prod.loc[i][j])**2\n",
    "    ds = np.sqrt(s)\n",
    "    d.append(ds)\n",
    "print('The lengh of each reaction path =', d)"
   ]
  },
  {
   "cell_type": "code",
   "execution_count": 5,
   "metadata": {},
   "outputs": [
    {
     "name": "stdout",
     "output_type": "stream",
     "text": [
      "The angle between the vectors of reactants and products of each reactions =\n",
      "[0.008055875995473142, 0.4627571983462675, 0.5909134494895875, 0.5579381975667936]\n"
     ]
    }
   ],
   "source": [
    "# Calculate the dot product of each reaction\n",
    "s2 = 0\n",
    "d2= []\n",
    "for i in range(4):\n",
    "    for j in range(100):\n",
    "        s2 += (rct.loc[i][j] * prod.loc[i][j])\n",
    "    #ds = np.sqrt(s)\n",
    "    d2.append(s2)\n",
    "\n",
    "\n",
    "# Calculate the product of each reactant and product\n",
    "s3 = 0\n",
    "s4 = 0\n",
    "d3= []\n",
    "for i in range(4):\n",
    "    for j in range(100):\n",
    "        s3 += (rct.loc[i][j])**2\n",
    "        s4 += (prod.loc[i][j])**2\n",
    "    dd = np.sqrt(s3)\n",
    "    dx = np.sqrt(s4)\n",
    "    xx = dd*dx\n",
    "    d3.append(xx)\n",
    "\n",
    "# Insert the formula of Cosine theorem\n",
    "a = []\n",
    "for i in range(4):\n",
    "    cos = d2[i]/d3[i]  #this is the value of cos(sita)\n",
    "    angle = math.acos(cos)  #this is the value of sita\n",
    "    a.append(angle)\n",
    "print('The angle between the vectors of reactants and products of each reactions =')\n",
    "print(a)"
   ]
  },
  {
   "cell_type": "markdown",
   "metadata": {},
   "source": [
    "#### Reduction\n",
    "| Index |Benzene |1-Butene|2-Butene|1-Hexene|\n",
    "|-------|--------|--------|--------|--------|\n",
    "| Length| 4.89897|21.18962|37.94733|43.18564|\n",
    "| Angle |0.008055|0.462757|0.590913|0.557938|"
   ]
  },
  {
   "cell_type": "code",
   "execution_count": null,
   "metadata": {},
   "outputs": [],
   "source": []
  }
 ],
 "metadata": {
  "kernelspec": {
   "display_name": "Python 3",
   "language": "python",
   "name": "python3"
  },
  "language_info": {
   "codemirror_mode": {
    "name": "ipython",
    "version": 3
   },
   "file_extension": ".py",
   "mimetype": "text/x-python",
   "name": "python",
   "nbconvert_exporter": "python",
   "pygments_lexer": "ipython3",
   "version": "3.7.3"
  }
 },
 "nbformat": 4,
 "nbformat_minor": 2
}
