{
 "cells": [
  {
   "cell_type": "code",
   "execution_count": 13,
   "metadata": {},
   "outputs": [],
   "source": [
    "# Import needed packages\n",
    "import math\n",
    "import sys\n",
    "sys.path.append('../../darknight/')\n",
    "from fcts import remove_space, r2pcorr, struc2mol\n",
    "from usefct import difference, vector_magnitude, vector_angle, distribution\n",
    "import numpy as np\n",
    "import pandas as pd\n",
    "import darkchem\n",
    "import matplotlib.pyplot as plt\n",
    "from sklearn.model_selection import train_test_split\n",
    "from sklearn.metrics import mean_squared_error\n",
    "from sklearn.preprocessing import StandardScaler\n",
    "get_ipython().run_line_magic('matplotlib', 'inline')\n",
    "from sklearn.linear_model import LinearRegression\n",
    "from rdkit import Chem\n",
    "from rdkit.Chem.Draw import MolToImage\n",
    "from rdkit.Chem import PandasTools,Draw\n",
    "# plotting stuff\n",
    "import matplotlib.pyplot as plt\n",
    "import matplotlib as mpl\n",
    "from IPython.display import SVG, display\n",
    "%config InlineBackend.figure_format = 'retina'\n",
    "import statistics\n",
    "from IPython.display import display_html\n",
    "import openpyxl"
   ]
  },
  {
   "cell_type": "code",
   "execution_count": 2,
   "metadata": {},
   "outputs": [
    {
     "name": "stdout",
     "output_type": "stream",
     "text": [
      "WARNING:tensorflow:From C:\\Users\\user\\Anaconda3\\envs\\my-rdkit-env\\lib\\site-packages\\tensorflow\\python\\framework\\op_def_library.py:263: colocate_with (from tensorflow.python.framework.ops) is deprecated and will be removed in a future version.\n",
      "Instructions for updating:\n",
      "Colocations handled automatically by placer.\n",
      "WARNING:tensorflow:From C:\\Users\\user\\Anaconda3\\envs\\my-rdkit-env\\lib\\site-packages\\keras\\backend\\tensorflow_backend.py:3445: calling dropout (from tensorflow.python.ops.nn_ops) with keep_prob is deprecated and will be removed in a future version.\n",
      "Instructions for updating:\n",
      "Please use `rate` instead of `keep_prob`. Rate should be set to `rate = 1 - keep_prob`.\n"
     ]
    }
   ],
   "source": [
    "# Load model which generate the latent space \n",
    "model = darkchem.utils.load_model('../../../DarKnight_File/Final Trained DarkChem Network Weights/N7b_[M+H]/')"
   ]
  },
  {
   "cell_type": "markdown",
   "metadata": {},
   "source": [
    "### Unclassified Reactants"
   ]
  },
  {
   "cell_type": "code",
   "execution_count": 3,
   "metadata": {},
   "outputs": [],
   "source": [
    "# Load training data\n",
    "data = pd.read_excel('ketone_alcohol/ketone_alcohol_train.xlsx')\n",
    "\n",
    "# Remove the redundant space in the smiles string\n",
    "data = remove_space(data)\n",
    "\n",
    "# Transform reactants and products into dictionary\n",
    "katrain = {'reactants': data['Reactants'], 'products': data['Products']}\n",
    "\n",
    "# Calculate the vectors of reactants and products\n",
    "rvec = [darkchem.utils.struct2vec(reactant) for reactant in katrain['reactants']]\n",
    "pvec = [darkchem.utils.struct2vec(product) for product in katrain['products']]\n",
    "\n",
    "# Transform the data type to np.array \n",
    "rvec = np.array(rvec).astype(int)\n",
    "pvec = np.array(pvec).astype(int)\n",
    "\n",
    "# Generate the latent space representation for reactants and products\n",
    "r_latent = model.encoder.predict(rvec)\n",
    "p_latent = model.encoder.predict(pvec)\n",
    "\n",
    "# Transform the data type to DataFrame \n",
    "rvecdf = pd.DataFrame(r_latent)\n",
    "pvecdf = pd.DataFrame(p_latent)\n",
    "\n",
    "# Calculate the latent path vector for those 17 reactions\n",
    "path = pvecdf - rvecdf"
   ]
  },
  {
   "cell_type": "code",
   "execution_count": 5,
   "metadata": {},
   "outputs": [],
   "source": [
    "# Calculation of Pearson correlation coefficients between the different reaction vectors\n",
    "# pd.DataFrame(np.corrcoef(path).view(type=np.matrix))"
   ]
  },
  {
   "cell_type": "markdown",
   "metadata": {},
   "source": [
    "### Reactants consist Benzene"
   ]
  },
  {
   "cell_type": "code",
   "execution_count": 25,
   "metadata": {},
   "outputs": [],
   "source": [
    "# Load training data\n",
    "data = pd.read_excel('ketone_alcohol/ketone_alcohol_6C_train.xlsx')\n",
    "\n",
    "# Remove the redundant space in the smiles string\n",
    "data = remove_space(data)\n",
    "\n",
    "# Transform reactants and products into dictionary\n",
    "katrain = {'reactants': data['Reactants'], 'products': data['Products']}\n",
    "\n",
    "# Calculate the vectors of reactants and products\n",
    "rvec = [darkchem.utils.struct2vec(reactant) for reactant in katrain['reactants']]\n",
    "pvec = [darkchem.utils.struct2vec(product) for product in katrain['products']]\n",
    "\n",
    "# Transform the data type to np.array \n",
    "rvec = np.array(rvec).astype(int)\n",
    "pvec = np.array(pvec).astype(int)\n",
    "\n",
    "# Generate the latent space representation for reactants and products\n",
    "r_latent = model.encoder.predict(rvec)\n",
    "p_latent = model.encoder.predict(pvec)\n",
    "\n",
    "# Transform the data type to DataFrame \n",
    "rvecdf = pd.DataFrame(r_latent)\n",
    "pvecdf = pd.DataFrame(p_latent)\n",
    "\n",
    "# Calculate  latent path vector \n",
    "path = pvecdf - rvecdf"
   ]
  },
  {
   "cell_type": "code",
   "execution_count": 26,
   "metadata": {},
   "outputs": [],
   "source": [
    "# Calculation of Pearson correlation coefficients between the different reaction vectors\n",
    "df = pd.DataFrame(np.corrcoef(path).view(type=np.matrix))\n",
    "df.to_excel('ketone_alcohol_6C_pc.xlsx')"
   ]
  },
  {
   "cell_type": "code",
   "execution_count": null,
   "metadata": {},
   "outputs": [],
   "source": []
  }
 ],
 "metadata": {
  "kernelspec": {
   "display_name": "Python 3",
   "language": "python",
   "name": "python3"
  },
  "language_info": {
   "codemirror_mode": {
    "name": "ipython",
    "version": 3
   },
   "file_extension": ".py",
   "mimetype": "text/x-python",
   "name": "python",
   "nbconvert_exporter": "python",
   "pygments_lexer": "ipython3",
   "version": "3.6.8"
  }
 },
 "nbformat": 4,
 "nbformat_minor": 2
}
